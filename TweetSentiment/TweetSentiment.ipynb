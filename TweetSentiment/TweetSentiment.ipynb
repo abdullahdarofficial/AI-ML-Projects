{
  "nbformat": 4,
  "nbformat_minor": 0,
  "metadata": {
    "colab": {
      "provenance": []
    },
    "kernelspec": {
      "name": "python3",
      "display_name": "Python 3"
    },
    "language_info": {
      "name": "python"
    },
    "widgets": {
      "application/vnd.jupyter.widget-state+json": {
        "6296de9d39f94082b6e0ac66b43f5783": {
          "model_module": "@jupyter-widgets/controls",
          "model_name": "HBoxModel",
          "model_module_version": "1.5.0",
          "state": {
            "_dom_classes": [],
            "_model_module": "@jupyter-widgets/controls",
            "_model_module_version": "1.5.0",
            "_model_name": "HBoxModel",
            "_view_count": null,
            "_view_module": "@jupyter-widgets/controls",
            "_view_module_version": "1.5.0",
            "_view_name": "HBoxView",
            "box_style": "",
            "children": [
              "IPY_MODEL_3553aae295354550885546d74f8029ff",
              "IPY_MODEL_9400d3d7f9474e88a7416d47a46bb48f",
              "IPY_MODEL_f84a0db3fdb7412e98d7e3705e363c1b"
            ],
            "layout": "IPY_MODEL_5eac4a7dcd1b4edd85b34879e3454e22"
          }
        },
        "3553aae295354550885546d74f8029ff": {
          "model_module": "@jupyter-widgets/controls",
          "model_name": "HTMLModel",
          "model_module_version": "1.5.0",
          "state": {
            "_dom_classes": [],
            "_model_module": "@jupyter-widgets/controls",
            "_model_module_version": "1.5.0",
            "_model_name": "HTMLModel",
            "_view_count": null,
            "_view_module": "@jupyter-widgets/controls",
            "_view_module_version": "1.5.0",
            "_view_name": "HTMLView",
            "description": "",
            "description_tooltip": null,
            "layout": "IPY_MODEL_68244b82384c46fd9ad242bda45ee95a",
            "placeholder": "​",
            "style": "IPY_MODEL_c626aeb63e584be78f951fa5f8057547",
            "value": "config.json: 100%"
          }
        },
        "9400d3d7f9474e88a7416d47a46bb48f": {
          "model_module": "@jupyter-widgets/controls",
          "model_name": "FloatProgressModel",
          "model_module_version": "1.5.0",
          "state": {
            "_dom_classes": [],
            "_model_module": "@jupyter-widgets/controls",
            "_model_module_version": "1.5.0",
            "_model_name": "FloatProgressModel",
            "_view_count": null,
            "_view_module": "@jupyter-widgets/controls",
            "_view_module_version": "1.5.0",
            "_view_name": "ProgressView",
            "bar_style": "success",
            "description": "",
            "description_tooltip": null,
            "layout": "IPY_MODEL_c0f9baa81840454d8b1fc244d227fc28",
            "max": 629,
            "min": 0,
            "orientation": "horizontal",
            "style": "IPY_MODEL_21618c7cc8e948f5bbf605520e2f12a2",
            "value": 629
          }
        },
        "f84a0db3fdb7412e98d7e3705e363c1b": {
          "model_module": "@jupyter-widgets/controls",
          "model_name": "HTMLModel",
          "model_module_version": "1.5.0",
          "state": {
            "_dom_classes": [],
            "_model_module": "@jupyter-widgets/controls",
            "_model_module_version": "1.5.0",
            "_model_name": "HTMLModel",
            "_view_count": null,
            "_view_module": "@jupyter-widgets/controls",
            "_view_module_version": "1.5.0",
            "_view_name": "HTMLView",
            "description": "",
            "description_tooltip": null,
            "layout": "IPY_MODEL_8678b894f887417ca8354c1f87052442",
            "placeholder": "​",
            "style": "IPY_MODEL_dc55ad1d6a2b4a128673a8a9232da3eb",
            "value": " 629/629 [00:00&lt;00:00, 36.8kB/s]"
          }
        },
        "5eac4a7dcd1b4edd85b34879e3454e22": {
          "model_module": "@jupyter-widgets/base",
          "model_name": "LayoutModel",
          "model_module_version": "1.2.0",
          "state": {
            "_model_module": "@jupyter-widgets/base",
            "_model_module_version": "1.2.0",
            "_model_name": "LayoutModel",
            "_view_count": null,
            "_view_module": "@jupyter-widgets/base",
            "_view_module_version": "1.2.0",
            "_view_name": "LayoutView",
            "align_content": null,
            "align_items": null,
            "align_self": null,
            "border": null,
            "bottom": null,
            "display": null,
            "flex": null,
            "flex_flow": null,
            "grid_area": null,
            "grid_auto_columns": null,
            "grid_auto_flow": null,
            "grid_auto_rows": null,
            "grid_column": null,
            "grid_gap": null,
            "grid_row": null,
            "grid_template_areas": null,
            "grid_template_columns": null,
            "grid_template_rows": null,
            "height": null,
            "justify_content": null,
            "justify_items": null,
            "left": null,
            "margin": null,
            "max_height": null,
            "max_width": null,
            "min_height": null,
            "min_width": null,
            "object_fit": null,
            "object_position": null,
            "order": null,
            "overflow": null,
            "overflow_x": null,
            "overflow_y": null,
            "padding": null,
            "right": null,
            "top": null,
            "visibility": null,
            "width": null
          }
        },
        "68244b82384c46fd9ad242bda45ee95a": {
          "model_module": "@jupyter-widgets/base",
          "model_name": "LayoutModel",
          "model_module_version": "1.2.0",
          "state": {
            "_model_module": "@jupyter-widgets/base",
            "_model_module_version": "1.2.0",
            "_model_name": "LayoutModel",
            "_view_count": null,
            "_view_module": "@jupyter-widgets/base",
            "_view_module_version": "1.2.0",
            "_view_name": "LayoutView",
            "align_content": null,
            "align_items": null,
            "align_self": null,
            "border": null,
            "bottom": null,
            "display": null,
            "flex": null,
            "flex_flow": null,
            "grid_area": null,
            "grid_auto_columns": null,
            "grid_auto_flow": null,
            "grid_auto_rows": null,
            "grid_column": null,
            "grid_gap": null,
            "grid_row": null,
            "grid_template_areas": null,
            "grid_template_columns": null,
            "grid_template_rows": null,
            "height": null,
            "justify_content": null,
            "justify_items": null,
            "left": null,
            "margin": null,
            "max_height": null,
            "max_width": null,
            "min_height": null,
            "min_width": null,
            "object_fit": null,
            "object_position": null,
            "order": null,
            "overflow": null,
            "overflow_x": null,
            "overflow_y": null,
            "padding": null,
            "right": null,
            "top": null,
            "visibility": null,
            "width": null
          }
        },
        "c626aeb63e584be78f951fa5f8057547": {
          "model_module": "@jupyter-widgets/controls",
          "model_name": "DescriptionStyleModel",
          "model_module_version": "1.5.0",
          "state": {
            "_model_module": "@jupyter-widgets/controls",
            "_model_module_version": "1.5.0",
            "_model_name": "DescriptionStyleModel",
            "_view_count": null,
            "_view_module": "@jupyter-widgets/base",
            "_view_module_version": "1.2.0",
            "_view_name": "StyleView",
            "description_width": ""
          }
        },
        "c0f9baa81840454d8b1fc244d227fc28": {
          "model_module": "@jupyter-widgets/base",
          "model_name": "LayoutModel",
          "model_module_version": "1.2.0",
          "state": {
            "_model_module": "@jupyter-widgets/base",
            "_model_module_version": "1.2.0",
            "_model_name": "LayoutModel",
            "_view_count": null,
            "_view_module": "@jupyter-widgets/base",
            "_view_module_version": "1.2.0",
            "_view_name": "LayoutView",
            "align_content": null,
            "align_items": null,
            "align_self": null,
            "border": null,
            "bottom": null,
            "display": null,
            "flex": null,
            "flex_flow": null,
            "grid_area": null,
            "grid_auto_columns": null,
            "grid_auto_flow": null,
            "grid_auto_rows": null,
            "grid_column": null,
            "grid_gap": null,
            "grid_row": null,
            "grid_template_areas": null,
            "grid_template_columns": null,
            "grid_template_rows": null,
            "height": null,
            "justify_content": null,
            "justify_items": null,
            "left": null,
            "margin": null,
            "max_height": null,
            "max_width": null,
            "min_height": null,
            "min_width": null,
            "object_fit": null,
            "object_position": null,
            "order": null,
            "overflow": null,
            "overflow_x": null,
            "overflow_y": null,
            "padding": null,
            "right": null,
            "top": null,
            "visibility": null,
            "width": null
          }
        },
        "21618c7cc8e948f5bbf605520e2f12a2": {
          "model_module": "@jupyter-widgets/controls",
          "model_name": "ProgressStyleModel",
          "model_module_version": "1.5.0",
          "state": {
            "_model_module": "@jupyter-widgets/controls",
            "_model_module_version": "1.5.0",
            "_model_name": "ProgressStyleModel",
            "_view_count": null,
            "_view_module": "@jupyter-widgets/base",
            "_view_module_version": "1.2.0",
            "_view_name": "StyleView",
            "bar_color": null,
            "description_width": ""
          }
        },
        "8678b894f887417ca8354c1f87052442": {
          "model_module": "@jupyter-widgets/base",
          "model_name": "LayoutModel",
          "model_module_version": "1.2.0",
          "state": {
            "_model_module": "@jupyter-widgets/base",
            "_model_module_version": "1.2.0",
            "_model_name": "LayoutModel",
            "_view_count": null,
            "_view_module": "@jupyter-widgets/base",
            "_view_module_version": "1.2.0",
            "_view_name": "LayoutView",
            "align_content": null,
            "align_items": null,
            "align_self": null,
            "border": null,
            "bottom": null,
            "display": null,
            "flex": null,
            "flex_flow": null,
            "grid_area": null,
            "grid_auto_columns": null,
            "grid_auto_flow": null,
            "grid_auto_rows": null,
            "grid_column": null,
            "grid_gap": null,
            "grid_row": null,
            "grid_template_areas": null,
            "grid_template_columns": null,
            "grid_template_rows": null,
            "height": null,
            "justify_content": null,
            "justify_items": null,
            "left": null,
            "margin": null,
            "max_height": null,
            "max_width": null,
            "min_height": null,
            "min_width": null,
            "object_fit": null,
            "object_position": null,
            "order": null,
            "overflow": null,
            "overflow_x": null,
            "overflow_y": null,
            "padding": null,
            "right": null,
            "top": null,
            "visibility": null,
            "width": null
          }
        },
        "dc55ad1d6a2b4a128673a8a9232da3eb": {
          "model_module": "@jupyter-widgets/controls",
          "model_name": "DescriptionStyleModel",
          "model_module_version": "1.5.0",
          "state": {
            "_model_module": "@jupyter-widgets/controls",
            "_model_module_version": "1.5.0",
            "_model_name": "DescriptionStyleModel",
            "_view_count": null,
            "_view_module": "@jupyter-widgets/base",
            "_view_module_version": "1.2.0",
            "_view_name": "StyleView",
            "description_width": ""
          }
        },
        "4b7aa30be8b9421d834874c0667bf767": {
          "model_module": "@jupyter-widgets/controls",
          "model_name": "HBoxModel",
          "model_module_version": "1.5.0",
          "state": {
            "_dom_classes": [],
            "_model_module": "@jupyter-widgets/controls",
            "_model_module_version": "1.5.0",
            "_model_name": "HBoxModel",
            "_view_count": null,
            "_view_module": "@jupyter-widgets/controls",
            "_view_module_version": "1.5.0",
            "_view_name": "HBoxView",
            "box_style": "",
            "children": [
              "IPY_MODEL_021b4dd9c07546e0af37b4a1a514ff98",
              "IPY_MODEL_22c6a75d9cb445019a54be66ecc67edd",
              "IPY_MODEL_e5ba21fd3b144d44bd2f290bf5e47450"
            ],
            "layout": "IPY_MODEL_6b311cbc9d1e4b818ec27185262eb387"
          }
        },
        "021b4dd9c07546e0af37b4a1a514ff98": {
          "model_module": "@jupyter-widgets/controls",
          "model_name": "HTMLModel",
          "model_module_version": "1.5.0",
          "state": {
            "_dom_classes": [],
            "_model_module": "@jupyter-widgets/controls",
            "_model_module_version": "1.5.0",
            "_model_name": "HTMLModel",
            "_view_count": null,
            "_view_module": "@jupyter-widgets/controls",
            "_view_module_version": "1.5.0",
            "_view_name": "HTMLView",
            "description": "",
            "description_tooltip": null,
            "layout": "IPY_MODEL_11ab64495a874ed5af45ab1af8bcf9c4",
            "placeholder": "​",
            "style": "IPY_MODEL_9bfdc5ce354641a0abc99a68fe86730b",
            "value": "model.safetensors: 100%"
          }
        },
        "22c6a75d9cb445019a54be66ecc67edd": {
          "model_module": "@jupyter-widgets/controls",
          "model_name": "FloatProgressModel",
          "model_module_version": "1.5.0",
          "state": {
            "_dom_classes": [],
            "_model_module": "@jupyter-widgets/controls",
            "_model_module_version": "1.5.0",
            "_model_name": "FloatProgressModel",
            "_view_count": null,
            "_view_module": "@jupyter-widgets/controls",
            "_view_module_version": "1.5.0",
            "_view_name": "ProgressView",
            "bar_style": "success",
            "description": "",
            "description_tooltip": null,
            "layout": "IPY_MODEL_04315bb51210408aa4241b88252d7cda",
            "max": 267832558,
            "min": 0,
            "orientation": "horizontal",
            "style": "IPY_MODEL_0b49cae4d1b7453fabc20484dbc5db23",
            "value": 267832558
          }
        },
        "e5ba21fd3b144d44bd2f290bf5e47450": {
          "model_module": "@jupyter-widgets/controls",
          "model_name": "HTMLModel",
          "model_module_version": "1.5.0",
          "state": {
            "_dom_classes": [],
            "_model_module": "@jupyter-widgets/controls",
            "_model_module_version": "1.5.0",
            "_model_name": "HTMLModel",
            "_view_count": null,
            "_view_module": "@jupyter-widgets/controls",
            "_view_module_version": "1.5.0",
            "_view_name": "HTMLView",
            "description": "",
            "description_tooltip": null,
            "layout": "IPY_MODEL_59e44122edba4c5497203b9d00409723",
            "placeholder": "​",
            "style": "IPY_MODEL_aad2c344f04f46b99c1f857d8665881a",
            "value": " 268M/268M [00:01&lt;00:00, 202MB/s]"
          }
        },
        "6b311cbc9d1e4b818ec27185262eb387": {
          "model_module": "@jupyter-widgets/base",
          "model_name": "LayoutModel",
          "model_module_version": "1.2.0",
          "state": {
            "_model_module": "@jupyter-widgets/base",
            "_model_module_version": "1.2.0",
            "_model_name": "LayoutModel",
            "_view_count": null,
            "_view_module": "@jupyter-widgets/base",
            "_view_module_version": "1.2.0",
            "_view_name": "LayoutView",
            "align_content": null,
            "align_items": null,
            "align_self": null,
            "border": null,
            "bottom": null,
            "display": null,
            "flex": null,
            "flex_flow": null,
            "grid_area": null,
            "grid_auto_columns": null,
            "grid_auto_flow": null,
            "grid_auto_rows": null,
            "grid_column": null,
            "grid_gap": null,
            "grid_row": null,
            "grid_template_areas": null,
            "grid_template_columns": null,
            "grid_template_rows": null,
            "height": null,
            "justify_content": null,
            "justify_items": null,
            "left": null,
            "margin": null,
            "max_height": null,
            "max_width": null,
            "min_height": null,
            "min_width": null,
            "object_fit": null,
            "object_position": null,
            "order": null,
            "overflow": null,
            "overflow_x": null,
            "overflow_y": null,
            "padding": null,
            "right": null,
            "top": null,
            "visibility": null,
            "width": null
          }
        },
        "11ab64495a874ed5af45ab1af8bcf9c4": {
          "model_module": "@jupyter-widgets/base",
          "model_name": "LayoutModel",
          "model_module_version": "1.2.0",
          "state": {
            "_model_module": "@jupyter-widgets/base",
            "_model_module_version": "1.2.0",
            "_model_name": "LayoutModel",
            "_view_count": null,
            "_view_module": "@jupyter-widgets/base",
            "_view_module_version": "1.2.0",
            "_view_name": "LayoutView",
            "align_content": null,
            "align_items": null,
            "align_self": null,
            "border": null,
            "bottom": null,
            "display": null,
            "flex": null,
            "flex_flow": null,
            "grid_area": null,
            "grid_auto_columns": null,
            "grid_auto_flow": null,
            "grid_auto_rows": null,
            "grid_column": null,
            "grid_gap": null,
            "grid_row": null,
            "grid_template_areas": null,
            "grid_template_columns": null,
            "grid_template_rows": null,
            "height": null,
            "justify_content": null,
            "justify_items": null,
            "left": null,
            "margin": null,
            "max_height": null,
            "max_width": null,
            "min_height": null,
            "min_width": null,
            "object_fit": null,
            "object_position": null,
            "order": null,
            "overflow": null,
            "overflow_x": null,
            "overflow_y": null,
            "padding": null,
            "right": null,
            "top": null,
            "visibility": null,
            "width": null
          }
        },
        "9bfdc5ce354641a0abc99a68fe86730b": {
          "model_module": "@jupyter-widgets/controls",
          "model_name": "DescriptionStyleModel",
          "model_module_version": "1.5.0",
          "state": {
            "_model_module": "@jupyter-widgets/controls",
            "_model_module_version": "1.5.0",
            "_model_name": "DescriptionStyleModel",
            "_view_count": null,
            "_view_module": "@jupyter-widgets/base",
            "_view_module_version": "1.2.0",
            "_view_name": "StyleView",
            "description_width": ""
          }
        },
        "04315bb51210408aa4241b88252d7cda": {
          "model_module": "@jupyter-widgets/base",
          "model_name": "LayoutModel",
          "model_module_version": "1.2.0",
          "state": {
            "_model_module": "@jupyter-widgets/base",
            "_model_module_version": "1.2.0",
            "_model_name": "LayoutModel",
            "_view_count": null,
            "_view_module": "@jupyter-widgets/base",
            "_view_module_version": "1.2.0",
            "_view_name": "LayoutView",
            "align_content": null,
            "align_items": null,
            "align_self": null,
            "border": null,
            "bottom": null,
            "display": null,
            "flex": null,
            "flex_flow": null,
            "grid_area": null,
            "grid_auto_columns": null,
            "grid_auto_flow": null,
            "grid_auto_rows": null,
            "grid_column": null,
            "grid_gap": null,
            "grid_row": null,
            "grid_template_areas": null,
            "grid_template_columns": null,
            "grid_template_rows": null,
            "height": null,
            "justify_content": null,
            "justify_items": null,
            "left": null,
            "margin": null,
            "max_height": null,
            "max_width": null,
            "min_height": null,
            "min_width": null,
            "object_fit": null,
            "object_position": null,
            "order": null,
            "overflow": null,
            "overflow_x": null,
            "overflow_y": null,
            "padding": null,
            "right": null,
            "top": null,
            "visibility": null,
            "width": null
          }
        },
        "0b49cae4d1b7453fabc20484dbc5db23": {
          "model_module": "@jupyter-widgets/controls",
          "model_name": "ProgressStyleModel",
          "model_module_version": "1.5.0",
          "state": {
            "_model_module": "@jupyter-widgets/controls",
            "_model_module_version": "1.5.0",
            "_model_name": "ProgressStyleModel",
            "_view_count": null,
            "_view_module": "@jupyter-widgets/base",
            "_view_module_version": "1.2.0",
            "_view_name": "StyleView",
            "bar_color": null,
            "description_width": ""
          }
        },
        "59e44122edba4c5497203b9d00409723": {
          "model_module": "@jupyter-widgets/base",
          "model_name": "LayoutModel",
          "model_module_version": "1.2.0",
          "state": {
            "_model_module": "@jupyter-widgets/base",
            "_model_module_version": "1.2.0",
            "_model_name": "LayoutModel",
            "_view_count": null,
            "_view_module": "@jupyter-widgets/base",
            "_view_module_version": "1.2.0",
            "_view_name": "LayoutView",
            "align_content": null,
            "align_items": null,
            "align_self": null,
            "border": null,
            "bottom": null,
            "display": null,
            "flex": null,
            "flex_flow": null,
            "grid_area": null,
            "grid_auto_columns": null,
            "grid_auto_flow": null,
            "grid_auto_rows": null,
            "grid_column": null,
            "grid_gap": null,
            "grid_row": null,
            "grid_template_areas": null,
            "grid_template_columns": null,
            "grid_template_rows": null,
            "height": null,
            "justify_content": null,
            "justify_items": null,
            "left": null,
            "margin": null,
            "max_height": null,
            "max_width": null,
            "min_height": null,
            "min_width": null,
            "object_fit": null,
            "object_position": null,
            "order": null,
            "overflow": null,
            "overflow_x": null,
            "overflow_y": null,
            "padding": null,
            "right": null,
            "top": null,
            "visibility": null,
            "width": null
          }
        },
        "aad2c344f04f46b99c1f857d8665881a": {
          "model_module": "@jupyter-widgets/controls",
          "model_name": "DescriptionStyleModel",
          "model_module_version": "1.5.0",
          "state": {
            "_model_module": "@jupyter-widgets/controls",
            "_model_module_version": "1.5.0",
            "_model_name": "DescriptionStyleModel",
            "_view_count": null,
            "_view_module": "@jupyter-widgets/base",
            "_view_module_version": "1.2.0",
            "_view_name": "StyleView",
            "description_width": ""
          }
        },
        "b0da9d06acc641d28235146a9b20691c": {
          "model_module": "@jupyter-widgets/controls",
          "model_name": "HBoxModel",
          "model_module_version": "1.5.0",
          "state": {
            "_dom_classes": [],
            "_model_module": "@jupyter-widgets/controls",
            "_model_module_version": "1.5.0",
            "_model_name": "HBoxModel",
            "_view_count": null,
            "_view_module": "@jupyter-widgets/controls",
            "_view_module_version": "1.5.0",
            "_view_name": "HBoxView",
            "box_style": "",
            "children": [
              "IPY_MODEL_b9dbff638c2a466788c9828c9033f971",
              "IPY_MODEL_f4949a0c93a74346a58197179c6bde6e",
              "IPY_MODEL_1d18982bd08945389d9db7f45005e6d9"
            ],
            "layout": "IPY_MODEL_f7c7c26e64154667b10631f12c37c6eb"
          }
        },
        "b9dbff638c2a466788c9828c9033f971": {
          "model_module": "@jupyter-widgets/controls",
          "model_name": "HTMLModel",
          "model_module_version": "1.5.0",
          "state": {
            "_dom_classes": [],
            "_model_module": "@jupyter-widgets/controls",
            "_model_module_version": "1.5.0",
            "_model_name": "HTMLModel",
            "_view_count": null,
            "_view_module": "@jupyter-widgets/controls",
            "_view_module_version": "1.5.0",
            "_view_name": "HTMLView",
            "description": "",
            "description_tooltip": null,
            "layout": "IPY_MODEL_2556f4b8a94f4b3b8e454c1a58049283",
            "placeholder": "​",
            "style": "IPY_MODEL_c20fdfc7627c499a97def33b5297a202",
            "value": "tokenizer_config.json: 100%"
          }
        },
        "f4949a0c93a74346a58197179c6bde6e": {
          "model_module": "@jupyter-widgets/controls",
          "model_name": "FloatProgressModel",
          "model_module_version": "1.5.0",
          "state": {
            "_dom_classes": [],
            "_model_module": "@jupyter-widgets/controls",
            "_model_module_version": "1.5.0",
            "_model_name": "FloatProgressModel",
            "_view_count": null,
            "_view_module": "@jupyter-widgets/controls",
            "_view_module_version": "1.5.0",
            "_view_name": "ProgressView",
            "bar_style": "success",
            "description": "",
            "description_tooltip": null,
            "layout": "IPY_MODEL_ea152a24cc314db1b5e4bc2cb1f8dad0",
            "max": 48,
            "min": 0,
            "orientation": "horizontal",
            "style": "IPY_MODEL_024aa05fad37420d9fd80b1e6a75e957",
            "value": 48
          }
        },
        "1d18982bd08945389d9db7f45005e6d9": {
          "model_module": "@jupyter-widgets/controls",
          "model_name": "HTMLModel",
          "model_module_version": "1.5.0",
          "state": {
            "_dom_classes": [],
            "_model_module": "@jupyter-widgets/controls",
            "_model_module_version": "1.5.0",
            "_model_name": "HTMLModel",
            "_view_count": null,
            "_view_module": "@jupyter-widgets/controls",
            "_view_module_version": "1.5.0",
            "_view_name": "HTMLView",
            "description": "",
            "description_tooltip": null,
            "layout": "IPY_MODEL_c5aae9b04a264da5a63261486e85f6e8",
            "placeholder": "​",
            "style": "IPY_MODEL_5c87c442caf0408eb57e49dae61d4d5b",
            "value": " 48.0/48.0 [00:00&lt;00:00, 1.62kB/s]"
          }
        },
        "f7c7c26e64154667b10631f12c37c6eb": {
          "model_module": "@jupyter-widgets/base",
          "model_name": "LayoutModel",
          "model_module_version": "1.2.0",
          "state": {
            "_model_module": "@jupyter-widgets/base",
            "_model_module_version": "1.2.0",
            "_model_name": "LayoutModel",
            "_view_count": null,
            "_view_module": "@jupyter-widgets/base",
            "_view_module_version": "1.2.0",
            "_view_name": "LayoutView",
            "align_content": null,
            "align_items": null,
            "align_self": null,
            "border": null,
            "bottom": null,
            "display": null,
            "flex": null,
            "flex_flow": null,
            "grid_area": null,
            "grid_auto_columns": null,
            "grid_auto_flow": null,
            "grid_auto_rows": null,
            "grid_column": null,
            "grid_gap": null,
            "grid_row": null,
            "grid_template_areas": null,
            "grid_template_columns": null,
            "grid_template_rows": null,
            "height": null,
            "justify_content": null,
            "justify_items": null,
            "left": null,
            "margin": null,
            "max_height": null,
            "max_width": null,
            "min_height": null,
            "min_width": null,
            "object_fit": null,
            "object_position": null,
            "order": null,
            "overflow": null,
            "overflow_x": null,
            "overflow_y": null,
            "padding": null,
            "right": null,
            "top": null,
            "visibility": null,
            "width": null
          }
        },
        "2556f4b8a94f4b3b8e454c1a58049283": {
          "model_module": "@jupyter-widgets/base",
          "model_name": "LayoutModel",
          "model_module_version": "1.2.0",
          "state": {
            "_model_module": "@jupyter-widgets/base",
            "_model_module_version": "1.2.0",
            "_model_name": "LayoutModel",
            "_view_count": null,
            "_view_module": "@jupyter-widgets/base",
            "_view_module_version": "1.2.0",
            "_view_name": "LayoutView",
            "align_content": null,
            "align_items": null,
            "align_self": null,
            "border": null,
            "bottom": null,
            "display": null,
            "flex": null,
            "flex_flow": null,
            "grid_area": null,
            "grid_auto_columns": null,
            "grid_auto_flow": null,
            "grid_auto_rows": null,
            "grid_column": null,
            "grid_gap": null,
            "grid_row": null,
            "grid_template_areas": null,
            "grid_template_columns": null,
            "grid_template_rows": null,
            "height": null,
            "justify_content": null,
            "justify_items": null,
            "left": null,
            "margin": null,
            "max_height": null,
            "max_width": null,
            "min_height": null,
            "min_width": null,
            "object_fit": null,
            "object_position": null,
            "order": null,
            "overflow": null,
            "overflow_x": null,
            "overflow_y": null,
            "padding": null,
            "right": null,
            "top": null,
            "visibility": null,
            "width": null
          }
        },
        "c20fdfc7627c499a97def33b5297a202": {
          "model_module": "@jupyter-widgets/controls",
          "model_name": "DescriptionStyleModel",
          "model_module_version": "1.5.0",
          "state": {
            "_model_module": "@jupyter-widgets/controls",
            "_model_module_version": "1.5.0",
            "_model_name": "DescriptionStyleModel",
            "_view_count": null,
            "_view_module": "@jupyter-widgets/base",
            "_view_module_version": "1.2.0",
            "_view_name": "StyleView",
            "description_width": ""
          }
        },
        "ea152a24cc314db1b5e4bc2cb1f8dad0": {
          "model_module": "@jupyter-widgets/base",
          "model_name": "LayoutModel",
          "model_module_version": "1.2.0",
          "state": {
            "_model_module": "@jupyter-widgets/base",
            "_model_module_version": "1.2.0",
            "_model_name": "LayoutModel",
            "_view_count": null,
            "_view_module": "@jupyter-widgets/base",
            "_view_module_version": "1.2.0",
            "_view_name": "LayoutView",
            "align_content": null,
            "align_items": null,
            "align_self": null,
            "border": null,
            "bottom": null,
            "display": null,
            "flex": null,
            "flex_flow": null,
            "grid_area": null,
            "grid_auto_columns": null,
            "grid_auto_flow": null,
            "grid_auto_rows": null,
            "grid_column": null,
            "grid_gap": null,
            "grid_row": null,
            "grid_template_areas": null,
            "grid_template_columns": null,
            "grid_template_rows": null,
            "height": null,
            "justify_content": null,
            "justify_items": null,
            "left": null,
            "margin": null,
            "max_height": null,
            "max_width": null,
            "min_height": null,
            "min_width": null,
            "object_fit": null,
            "object_position": null,
            "order": null,
            "overflow": null,
            "overflow_x": null,
            "overflow_y": null,
            "padding": null,
            "right": null,
            "top": null,
            "visibility": null,
            "width": null
          }
        },
        "024aa05fad37420d9fd80b1e6a75e957": {
          "model_module": "@jupyter-widgets/controls",
          "model_name": "ProgressStyleModel",
          "model_module_version": "1.5.0",
          "state": {
            "_model_module": "@jupyter-widgets/controls",
            "_model_module_version": "1.5.0",
            "_model_name": "ProgressStyleModel",
            "_view_count": null,
            "_view_module": "@jupyter-widgets/base",
            "_view_module_version": "1.2.0",
            "_view_name": "StyleView",
            "bar_color": null,
            "description_width": ""
          }
        },
        "c5aae9b04a264da5a63261486e85f6e8": {
          "model_module": "@jupyter-widgets/base",
          "model_name": "LayoutModel",
          "model_module_version": "1.2.0",
          "state": {
            "_model_module": "@jupyter-widgets/base",
            "_model_module_version": "1.2.0",
            "_model_name": "LayoutModel",
            "_view_count": null,
            "_view_module": "@jupyter-widgets/base",
            "_view_module_version": "1.2.0",
            "_view_name": "LayoutView",
            "align_content": null,
            "align_items": null,
            "align_self": null,
            "border": null,
            "bottom": null,
            "display": null,
            "flex": null,
            "flex_flow": null,
            "grid_area": null,
            "grid_auto_columns": null,
            "grid_auto_flow": null,
            "grid_auto_rows": null,
            "grid_column": null,
            "grid_gap": null,
            "grid_row": null,
            "grid_template_areas": null,
            "grid_template_columns": null,
            "grid_template_rows": null,
            "height": null,
            "justify_content": null,
            "justify_items": null,
            "left": null,
            "margin": null,
            "max_height": null,
            "max_width": null,
            "min_height": null,
            "min_width": null,
            "object_fit": null,
            "object_position": null,
            "order": null,
            "overflow": null,
            "overflow_x": null,
            "overflow_y": null,
            "padding": null,
            "right": null,
            "top": null,
            "visibility": null,
            "width": null
          }
        },
        "5c87c442caf0408eb57e49dae61d4d5b": {
          "model_module": "@jupyter-widgets/controls",
          "model_name": "DescriptionStyleModel",
          "model_module_version": "1.5.0",
          "state": {
            "_model_module": "@jupyter-widgets/controls",
            "_model_module_version": "1.5.0",
            "_model_name": "DescriptionStyleModel",
            "_view_count": null,
            "_view_module": "@jupyter-widgets/base",
            "_view_module_version": "1.2.0",
            "_view_name": "StyleView",
            "description_width": ""
          }
        },
        "445da3c79165413283d5df7c3e4477a1": {
          "model_module": "@jupyter-widgets/controls",
          "model_name": "HBoxModel",
          "model_module_version": "1.5.0",
          "state": {
            "_dom_classes": [],
            "_model_module": "@jupyter-widgets/controls",
            "_model_module_version": "1.5.0",
            "_model_name": "HBoxModel",
            "_view_count": null,
            "_view_module": "@jupyter-widgets/controls",
            "_view_module_version": "1.5.0",
            "_view_name": "HBoxView",
            "box_style": "",
            "children": [
              "IPY_MODEL_ce15796f8a9e4a34b88e2fd1dcc4f447",
              "IPY_MODEL_a5929a69970148669d9e70f3a7beb013",
              "IPY_MODEL_e78813f6e7c840c196176e38c8aa8030"
            ],
            "layout": "IPY_MODEL_c9b7f7ee1e97480e823c6fe9ce7e7983"
          }
        },
        "ce15796f8a9e4a34b88e2fd1dcc4f447": {
          "model_module": "@jupyter-widgets/controls",
          "model_name": "HTMLModel",
          "model_module_version": "1.5.0",
          "state": {
            "_dom_classes": [],
            "_model_module": "@jupyter-widgets/controls",
            "_model_module_version": "1.5.0",
            "_model_name": "HTMLModel",
            "_view_count": null,
            "_view_module": "@jupyter-widgets/controls",
            "_view_module_version": "1.5.0",
            "_view_name": "HTMLView",
            "description": "",
            "description_tooltip": null,
            "layout": "IPY_MODEL_58c0b7eee03748f3b45b8fb85f99efb6",
            "placeholder": "​",
            "style": "IPY_MODEL_bdca2085c1b249fc9e662c7de2845bad",
            "value": "vocab.txt: 100%"
          }
        },
        "a5929a69970148669d9e70f3a7beb013": {
          "model_module": "@jupyter-widgets/controls",
          "model_name": "FloatProgressModel",
          "model_module_version": "1.5.0",
          "state": {
            "_dom_classes": [],
            "_model_module": "@jupyter-widgets/controls",
            "_model_module_version": "1.5.0",
            "_model_name": "FloatProgressModel",
            "_view_count": null,
            "_view_module": "@jupyter-widgets/controls",
            "_view_module_version": "1.5.0",
            "_view_name": "ProgressView",
            "bar_style": "success",
            "description": "",
            "description_tooltip": null,
            "layout": "IPY_MODEL_a8c25e5500884a58a8e96d74908c4b06",
            "max": 231508,
            "min": 0,
            "orientation": "horizontal",
            "style": "IPY_MODEL_c07d492f8731460a9e1f402ac508846b",
            "value": 231508
          }
        },
        "e78813f6e7c840c196176e38c8aa8030": {
          "model_module": "@jupyter-widgets/controls",
          "model_name": "HTMLModel",
          "model_module_version": "1.5.0",
          "state": {
            "_dom_classes": [],
            "_model_module": "@jupyter-widgets/controls",
            "_model_module_version": "1.5.0",
            "_model_name": "HTMLModel",
            "_view_count": null,
            "_view_module": "@jupyter-widgets/controls",
            "_view_module_version": "1.5.0",
            "_view_name": "HTMLView",
            "description": "",
            "description_tooltip": null,
            "layout": "IPY_MODEL_211cac5075324d71afa44e2e4cf6056b",
            "placeholder": "​",
            "style": "IPY_MODEL_fb1df1ba5ae0404885c1c595a58a0b14",
            "value": " 232k/232k [00:00&lt;00:00, 8.92MB/s]"
          }
        },
        "c9b7f7ee1e97480e823c6fe9ce7e7983": {
          "model_module": "@jupyter-widgets/base",
          "model_name": "LayoutModel",
          "model_module_version": "1.2.0",
          "state": {
            "_model_module": "@jupyter-widgets/base",
            "_model_module_version": "1.2.0",
            "_model_name": "LayoutModel",
            "_view_count": null,
            "_view_module": "@jupyter-widgets/base",
            "_view_module_version": "1.2.0",
            "_view_name": "LayoutView",
            "align_content": null,
            "align_items": null,
            "align_self": null,
            "border": null,
            "bottom": null,
            "display": null,
            "flex": null,
            "flex_flow": null,
            "grid_area": null,
            "grid_auto_columns": null,
            "grid_auto_flow": null,
            "grid_auto_rows": null,
            "grid_column": null,
            "grid_gap": null,
            "grid_row": null,
            "grid_template_areas": null,
            "grid_template_columns": null,
            "grid_template_rows": null,
            "height": null,
            "justify_content": null,
            "justify_items": null,
            "left": null,
            "margin": null,
            "max_height": null,
            "max_width": null,
            "min_height": null,
            "min_width": null,
            "object_fit": null,
            "object_position": null,
            "order": null,
            "overflow": null,
            "overflow_x": null,
            "overflow_y": null,
            "padding": null,
            "right": null,
            "top": null,
            "visibility": null,
            "width": null
          }
        },
        "58c0b7eee03748f3b45b8fb85f99efb6": {
          "model_module": "@jupyter-widgets/base",
          "model_name": "LayoutModel",
          "model_module_version": "1.2.0",
          "state": {
            "_model_module": "@jupyter-widgets/base",
            "_model_module_version": "1.2.0",
            "_model_name": "LayoutModel",
            "_view_count": null,
            "_view_module": "@jupyter-widgets/base",
            "_view_module_version": "1.2.0",
            "_view_name": "LayoutView",
            "align_content": null,
            "align_items": null,
            "align_self": null,
            "border": null,
            "bottom": null,
            "display": null,
            "flex": null,
            "flex_flow": null,
            "grid_area": null,
            "grid_auto_columns": null,
            "grid_auto_flow": null,
            "grid_auto_rows": null,
            "grid_column": null,
            "grid_gap": null,
            "grid_row": null,
            "grid_template_areas": null,
            "grid_template_columns": null,
            "grid_template_rows": null,
            "height": null,
            "justify_content": null,
            "justify_items": null,
            "left": null,
            "margin": null,
            "max_height": null,
            "max_width": null,
            "min_height": null,
            "min_width": null,
            "object_fit": null,
            "object_position": null,
            "order": null,
            "overflow": null,
            "overflow_x": null,
            "overflow_y": null,
            "padding": null,
            "right": null,
            "top": null,
            "visibility": null,
            "width": null
          }
        },
        "bdca2085c1b249fc9e662c7de2845bad": {
          "model_module": "@jupyter-widgets/controls",
          "model_name": "DescriptionStyleModel",
          "model_module_version": "1.5.0",
          "state": {
            "_model_module": "@jupyter-widgets/controls",
            "_model_module_version": "1.5.0",
            "_model_name": "DescriptionStyleModel",
            "_view_count": null,
            "_view_module": "@jupyter-widgets/base",
            "_view_module_version": "1.2.0",
            "_view_name": "StyleView",
            "description_width": ""
          }
        },
        "a8c25e5500884a58a8e96d74908c4b06": {
          "model_module": "@jupyter-widgets/base",
          "model_name": "LayoutModel",
          "model_module_version": "1.2.0",
          "state": {
            "_model_module": "@jupyter-widgets/base",
            "_model_module_version": "1.2.0",
            "_model_name": "LayoutModel",
            "_view_count": null,
            "_view_module": "@jupyter-widgets/base",
            "_view_module_version": "1.2.0",
            "_view_name": "LayoutView",
            "align_content": null,
            "align_items": null,
            "align_self": null,
            "border": null,
            "bottom": null,
            "display": null,
            "flex": null,
            "flex_flow": null,
            "grid_area": null,
            "grid_auto_columns": null,
            "grid_auto_flow": null,
            "grid_auto_rows": null,
            "grid_column": null,
            "grid_gap": null,
            "grid_row": null,
            "grid_template_areas": null,
            "grid_template_columns": null,
            "grid_template_rows": null,
            "height": null,
            "justify_content": null,
            "justify_items": null,
            "left": null,
            "margin": null,
            "max_height": null,
            "max_width": null,
            "min_height": null,
            "min_width": null,
            "object_fit": null,
            "object_position": null,
            "order": null,
            "overflow": null,
            "overflow_x": null,
            "overflow_y": null,
            "padding": null,
            "right": null,
            "top": null,
            "visibility": null,
            "width": null
          }
        },
        "c07d492f8731460a9e1f402ac508846b": {
          "model_module": "@jupyter-widgets/controls",
          "model_name": "ProgressStyleModel",
          "model_module_version": "1.5.0",
          "state": {
            "_model_module": "@jupyter-widgets/controls",
            "_model_module_version": "1.5.0",
            "_model_name": "ProgressStyleModel",
            "_view_count": null,
            "_view_module": "@jupyter-widgets/base",
            "_view_module_version": "1.2.0",
            "_view_name": "StyleView",
            "bar_color": null,
            "description_width": ""
          }
        },
        "211cac5075324d71afa44e2e4cf6056b": {
          "model_module": "@jupyter-widgets/base",
          "model_name": "LayoutModel",
          "model_module_version": "1.2.0",
          "state": {
            "_model_module": "@jupyter-widgets/base",
            "_model_module_version": "1.2.0",
            "_model_name": "LayoutModel",
            "_view_count": null,
            "_view_module": "@jupyter-widgets/base",
            "_view_module_version": "1.2.0",
            "_view_name": "LayoutView",
            "align_content": null,
            "align_items": null,
            "align_self": null,
            "border": null,
            "bottom": null,
            "display": null,
            "flex": null,
            "flex_flow": null,
            "grid_area": null,
            "grid_auto_columns": null,
            "grid_auto_flow": null,
            "grid_auto_rows": null,
            "grid_column": null,
            "grid_gap": null,
            "grid_row": null,
            "grid_template_areas": null,
            "grid_template_columns": null,
            "grid_template_rows": null,
            "height": null,
            "justify_content": null,
            "justify_items": null,
            "left": null,
            "margin": null,
            "max_height": null,
            "max_width": null,
            "min_height": null,
            "min_width": null,
            "object_fit": null,
            "object_position": null,
            "order": null,
            "overflow": null,
            "overflow_x": null,
            "overflow_y": null,
            "padding": null,
            "right": null,
            "top": null,
            "visibility": null,
            "width": null
          }
        },
        "fb1df1ba5ae0404885c1c595a58a0b14": {
          "model_module": "@jupyter-widgets/controls",
          "model_name": "DescriptionStyleModel",
          "model_module_version": "1.5.0",
          "state": {
            "_model_module": "@jupyter-widgets/controls",
            "_model_module_version": "1.5.0",
            "_model_name": "DescriptionStyleModel",
            "_view_count": null,
            "_view_module": "@jupyter-widgets/base",
            "_view_module_version": "1.2.0",
            "_view_name": "StyleView",
            "description_width": ""
          }
        }
      }
    }
  },
  "cells": [
    {
      "cell_type": "markdown",
      "source": [
        "This code imports the Pandas library to handle data manipulation and analysis. It loads the training dataset from `twitter_training.csv` and the validation dataset from `twitter_validation.csv`. To ensure the data is loaded correctly, the first five rows of each dataset are displayed, providing an initial view of their structure and content for further analysis."
      ],
      "metadata": {
        "id": "hTIXpevIy0mq"
      }
    },
    {
      "cell_type": "code",
      "execution_count": 1,
      "metadata": {
        "colab": {
          "base_uri": "https://localhost:8080/"
        },
        "id": "ZzZf71fWu0nI",
        "outputId": "fe3937df-8ddc-4395-801f-2e47fc143987"
      },
      "outputs": [
        {
          "output_type": "stream",
          "name": "stdout",
          "text": [
            "Training Data:\n",
            "   2401  Borderlands  Positive  \\\n",
            "0  2401  Borderlands  Positive   \n",
            "1  2401  Borderlands  Positive   \n",
            "2  2401  Borderlands  Positive   \n",
            "3  2401  Borderlands  Positive   \n",
            "4  2401  Borderlands  Positive   \n",
            "\n",
            "  im getting on borderlands and i will murder you all ,  \n",
            "0  I am coming to the borders and I will kill you...     \n",
            "1  im getting on borderlands and i will kill you ...     \n",
            "2  im coming on borderlands and i will murder you...     \n",
            "3  im getting on borderlands 2 and i will murder ...     \n",
            "4  im getting into borderlands and i can murder y...     \n",
            "\n",
            "Validation Data:\n",
            "   3364   Facebook Irrelevant  \\\n",
            "0   352     Amazon    Neutral   \n",
            "1  8312  Microsoft   Negative   \n",
            "2  4371      CS-GO   Negative   \n",
            "3  4433     Google    Neutral   \n",
            "4  6273       FIFA   Negative   \n",
            "\n",
            "  I mentioned on Facebook that I was struggling for motivation to go for a run the other day, which has been translated by Tom’s great auntie as ‘Hayley can’t get out of bed’ and told to his grandma, who now thinks I’m a lazy, terrible person 🤣  \n",
            "0  BBC News - Amazon boss Jeff Bezos rejects clai...                                                                                                                                                                                                  \n",
            "1  @Microsoft Why do I pay for WORD when it funct...                                                                                                                                                                                                  \n",
            "2  CSGO matchmaking is so full of closet hacking,...                                                                                                                                                                                                  \n",
            "3  Now the President is slapping Americans in the...                                                                                                                                                                                                  \n",
            "4  Hi @EAHelp I’ve had Madeleine McCann in my cel...                                                                                                                                                                                                  \n"
          ]
        }
      ],
      "source": [
        "# Import necessary library for data handling\n",
        "import pandas as pd\n",
        "\n",
        "# Step 1: Load the training dataset\n",
        "# Load the training data from the uploaded CSV file\n",
        "training_data = pd.read_csv(\"twitter_training.csv\")\n",
        "\n",
        "# Step 2: Load the validation dataset\n",
        "# Load the validation data from the uploaded CSV file\n",
        "validation_data = pd.read_csv(\"twitter_validation.csv\")\n",
        "\n",
        "# Step 3: Preview the datasets\n",
        "# Display the first few rows of the training dataset\n",
        "print(\"Training Data (First 5 Rows):\")\n",
        "print(training_data.head())\n",
        "\n",
        "# Display the first few rows of the validation dataset\n",
        "print(\"\\nValidation Data (First 5 Rows):\")\n",
        "print(validation_data.head())\n"
      ]
    },
    {
      "cell_type": "markdown",
      "source": [
        "This code assigns specific column names (ID, Source, Sentiment, Text) to both the training and validation datasets to ensure consistency and clarity in data handling. After renaming the columns, the first five rows of each dataset are displayed to verify that the column names have been updated correctly and to provide a quick overview of the data structure."
      ],
      "metadata": {
        "id": "zbzL-Bo7y7Sk"
      }
    },
    {
      "cell_type": "code",
      "source": [
        "# Assign column names\n",
        "training_data.columns = [\"ID\", \"Source\", \"Sentiment\", \"Text\"]\n",
        "validation_data.columns = [\"ID\", \"Source\", \"Sentiment\", \"Text\"]\n",
        "\n",
        "# Display first few rows of each dataset\n",
        "print(\"Training Data:\")\n",
        "print(training_data.head())\n",
        "\n",
        "print(\"\\nValidation Data:\")\n",
        "print(validation_data.head())\n"
      ],
      "metadata": {
        "colab": {
          "base_uri": "https://localhost:8080/"
        },
        "id": "ikZWvoFavQlc",
        "outputId": "601e3ab6-900e-4e00-ba2c-a921f3898b77"
      },
      "execution_count": 2,
      "outputs": [
        {
          "output_type": "stream",
          "name": "stdout",
          "text": [
            "Training Data:\n",
            "     ID       Source Sentiment  \\\n",
            "0  2401  Borderlands  Positive   \n",
            "1  2401  Borderlands  Positive   \n",
            "2  2401  Borderlands  Positive   \n",
            "3  2401  Borderlands  Positive   \n",
            "4  2401  Borderlands  Positive   \n",
            "\n",
            "                                                Text  \n",
            "0  I am coming to the borders and I will kill you...  \n",
            "1  im getting on borderlands and i will kill you ...  \n",
            "2  im coming on borderlands and i will murder you...  \n",
            "3  im getting on borderlands 2 and i will murder ...  \n",
            "4  im getting into borderlands and i can murder y...  \n",
            "\n",
            "Validation Data:\n",
            "     ID     Source Sentiment  \\\n",
            "0   352     Amazon   Neutral   \n",
            "1  8312  Microsoft  Negative   \n",
            "2  4371      CS-GO  Negative   \n",
            "3  4433     Google   Neutral   \n",
            "4  6273       FIFA  Negative   \n",
            "\n",
            "                                                Text  \n",
            "0  BBC News - Amazon boss Jeff Bezos rejects clai...  \n",
            "1  @Microsoft Why do I pay for WORD when it funct...  \n",
            "2  CSGO matchmaking is so full of closet hacking,...  \n",
            "3  Now the President is slapping Americans in the...  \n",
            "4  Hi @EAHelp I’ve had Madeleine McCann in my cel...  \n"
          ]
        }
      ]
    },
    {
      "cell_type": "markdown",
      "source": [
        "This code imports essential libraries for data processing, visualization, and text analysis:\n",
        "\n",
        "Pandas (pd): For efficient data manipulation and analysis.\n",
        "NumPy (np): For numerical computations and working with arrays.\n",
        "Matplotlib (plt): For creating static visualizations of the data.\n",
        "Seaborn (sns): For enhanced data visualization with aesthetically pleasing plots.\n",
        "NLTK (nltk): For natural language processing, specifically the word_tokenize function, which splits text into individual words or tokens.\n",
        "Download NLTK Resources: Downloads the punkt tokenizer, a pre-trained model required for tokenizing text into sentences or words.\n",
        "This setup ensures that all necessary tools are available for data exploration, visualization, and text preprocessing."
      ],
      "metadata": {
        "id": "Eb5vGysUy-PJ"
      }
    },
    {
      "cell_type": "code",
      "source": [
        "import pandas as pd\n",
        "import numpy as np\n",
        "import matplotlib.pyplot as plt\n",
        "import seaborn as sns\n",
        "from nltk.tokenize import word_tokenize\n",
        "import nltk\n",
        "nltk.download('punkt')\n"
      ],
      "metadata": {
        "colab": {
          "base_uri": "https://localhost:8080/"
        },
        "id": "6-aWA6BzvkWs",
        "outputId": "303264e8-422b-46e0-fb18-859d5ff9c904"
      },
      "execution_count": 3,
      "outputs": [
        {
          "output_type": "stream",
          "name": "stderr",
          "text": [
            "[nltk_data] Downloading package punkt to /root/nltk_data...\n",
            "[nltk_data]   Unzipping tokenizers/punkt.zip.\n"
          ]
        },
        {
          "output_type": "execute_result",
          "data": {
            "text/plain": [
              "True"
            ]
          },
          "metadata": {},
          "execution_count": 3
        }
      ]
    },
    {
      "cell_type": "markdown",
      "source": [
        "This code defines a function to plot the distribution of sentiment labels in the dataset and applies it to both the training and validation datasets:\n",
        "\n",
        "Define Plot Function:\n",
        "\n",
        "The plot_sentiment_distribution function takes a dataset and a title as input.\n",
        "It calculates the frequency of each sentiment label using value_counts() and creates a bar plot using Seaborn (sns.barplot) with a \"viridis\" color palette.\n",
        "Visualization for Training Data:\n",
        "\n",
        "The function is called with the training dataset to visualize the count of each sentiment label.\n",
        "Visualization for Validation Data:\n",
        "\n",
        "Similarly, the function is called with the validation dataset to display its sentiment label distribution.\n",
        "Purpose:\n",
        "\n",
        "These visualizations provide an understanding of how sentiment labels are distributed in both datasets, helping to assess whether the data is balanced or skewed."
      ],
      "metadata": {
        "id": "CtsIoi9EzHGt"
      }
    },
    {
      "cell_type": "code",
      "source": [
        "# Plot sentiment distribution\n",
        "def plot_sentiment_distribution(data, title):\n",
        "    sentiment_counts = data['Sentiment'].value_counts()\n",
        "    plt.figure(figsize=(8, 5))\n",
        "    sns.barplot(x=sentiment_counts.index, y=sentiment_counts.values, palette=\"viridis\")\n",
        "    plt.title(f\"{title}: Sentiment Distribution\", fontsize=16)\n",
        "    plt.xlabel(\"Sentiment\", fontsize=12)\n",
        "    plt.ylabel(\"Count\", fontsize=12)\n",
        "    plt.show()\n",
        "\n",
        "# Training data sentiment distribution\n",
        "plot_sentiment_distribution(training_data, \"Training Data\")\n",
        "\n",
        "# Validation data sentiment distribution\n",
        "plot_sentiment_distribution(validation_data, \"Validation Data\")\n"
      ],
      "metadata": {
        "colab": {
          "base_uri": "https://localhost:8080/",
          "height": 1000
        },
        "id": "AEFAwOSmwBvM",
        "outputId": "02137f14-8a9b-4e01-de39-64bb9960970b"
      },
      "execution_count": 4,
      "outputs": [
        {
          "output_type": "stream",
          "name": "stderr",
          "text": [
            "<ipython-input-4-8049e3db8a07>:5: FutureWarning: \n",
            "\n",
            "Passing `palette` without assigning `hue` is deprecated and will be removed in v0.14.0. Assign the `x` variable to `hue` and set `legend=False` for the same effect.\n",
            "\n",
            "  sns.barplot(x=sentiment_counts.index, y=sentiment_counts.values, palette=\"viridis\")\n"
          ]
        },
        {
          "output_type": "display_data",
          "data": {
            "text/plain": [
              "<Figure size 800x500 with 1 Axes>"
            ],
            "image/png": "[encoded data removed]"
          },
          "metadata": {}
        },
        {
          "output_type": "stream",
          "name": "stderr",
          "text": [
            "<ipython-input-4-8049e3db8a07>:5: FutureWarning: \n",
            "\n",
            "Passing `palette` without assigning `hue` is deprecated and will be removed in v0.14.0. Assign the `x` variable to `hue` and set `legend=False` for the same effect.\n",
            "\n",
            "  sns.barplot(x=sentiment_counts.index, y=sentiment_counts.values, palette=\"viridis\")\n"
          ]
        },
        {
          "output_type": "display_data",
          "data": {
            "text/plain": [
              "<Figure size 800x500 with 1 Axes>"
            ],
            "image/png": "[encoded data removed]"
          },
          "metadata": {}
        }
      ]
    },
    {
      "cell_type": "markdown",
      "source": [
        "This code defines a function to compute the frequency of words in the text data and applies it to both the training and validation datasets:\n",
        "\n",
        "Define Word Frequency Function:\n",
        "\n",
        "The get_word_frequency function processes a column of text data:\n",
        "Handles missing values by replacing them with empty strings.\n",
        "Converts all text to lowercase for uniformity.\n",
        "Joins all text entries into a single string and splits it into individual words.\n",
        "Uses the Counter class to count the occurrences of each word.\n",
        "Returns the top 20 most frequent words as a list of tuples (word, count).\n",
        "Analyze Training Data:\n",
        "\n",
        "The function is applied to the Text column of the training dataset to calculate word frequencies. The top 20 words are printed.\n",
        "Analyze Validation Data:\n",
        "\n",
        "Similarly, the function is applied to the Text column of the validation dataset, and the top 20 words are displayed.\n",
        "Purpose:\n",
        "\n",
        "This analysis helps identify the most commonly used words in the datasets, providing insights into the textual data's vocabulary and potential patterns."
      ],
      "metadata": {
        "id": "AFZvA1fXzKYr"
      }
    },
    {
      "cell_type": "code",
      "source": [
        "from collections import Counter\n",
        "\n",
        "# Function to find word frequency\n",
        "def get_word_frequency(text_column):\n",
        "    # Convert all entries to strings, replace NaN with an empty string\n",
        "    text_column = text_column.fillna(\"\").astype(str)\n",
        "    all_words = \" \".join(text_column).lower().split()  # Join and split into words\n",
        "    word_freq = Counter(all_words)  # Count word frequencies\n",
        "    return word_freq.most_common(20)  # Return the top 20 most common words\n",
        " # Training data word frequency\n",
        "training_word_freq = get_word_frequency(training_data[\"Text\"])\n",
        "print(\"Top 20 Words in Training Data:\", training_word_freq)\n",
        "\n",
        "# Validation data word frequency\n",
        "validation_word_freq = get_word_frequency(validation_data[\"Text\"])\n",
        "print(\"Top 20 Words in Validation Data:\", validation_word_freq)\n",
        "\n"
      ],
      "metadata": {
        "colab": {
          "base_uri": "https://localhost:8080/"
        },
        "id": "fvibFJuawDh8",
        "outputId": "6511bb73-a345-40a3-c0d6-55b36644f86c"
      },
      "execution_count": 6,
      "outputs": [
        {
          "output_type": "stream",
          "name": "stdout",
          "text": [
            "Top 20 Words in Training Data: [('the', 44099), ('i', 28915), ('to', 28652), ('and', 26321), ('a', 23925), ('of', 19307), ('is', 17453), ('for', 15410), ('in', 15046), ('/', 14655), ('this', 13708), ('my', 11767), ('on', 11591), ('it', 11413), ('you', 11272), ('@', 11081), ('.', 10201), ('that', 9705), ('with', 8714), ('so', 7593)]\n",
            "Top 20 Words in Validation Data: [('the', 621), ('to', 427), ('and', 391), ('a', 389), ('i', 367), ('of', 288), ('is', 280), ('for', 233), ('this', 222), ('in', 209), ('on', 171), ('you', 160), ('it', 159), ('my', 157), ('with', 145), ('that', 126), ('so', 104), ('me', 93), ('have', 88), ('are', 88)]\n"
          ]
        }
      ]
    },
    {
      "cell_type": "markdown",
      "source": [
        "This code removes common English stop words from word frequency analysis using NLTK's stopword list. It processes text by handling missing values, converting to lowercase, and filtering out stop words and non-alphanumeric tokens. The top 20 most frequent meaningful words are then identified."
      ],
      "metadata": {
        "id": "EagvW0iuzXSN"
      }
    },
    {
      "cell_type": "code",
      "source": [
        "from nltk.corpus import stopwords\n",
        "nltk.download('stopwords')\n",
        "\n",
        "# Get English stop words\n",
        "stop_words = set(stopwords.words(\"english\"))\n",
        "\n",
        "# Function to find word frequency excluding stop words\n",
        "def get_cleaned_word_frequency(text_column):\n",
        "    text_column = text_column.fillna(\"\").astype(str)  # Handle NaN and non-string values\n",
        "    all_words = \" \".join(text_column).lower().split()  # Combine all text and split into words\n",
        "    # Remove stop words\n",
        "    filtered_words = [word for word in all_words if word not in stop_words and word.isalnum()]\n",
        "    word_freq = Counter(filtered_words)  # Count word frequencies\n",
        "    return word_freq.most_common(20)  # Return the top 20 most common words\n"
      ],
      "metadata": {
        "colab": {
          "base_uri": "https://localhost:8080/"
        },
        "id": "5M1x4k-1wGQ9",
        "outputId": "3c57d6c5-78bd-47a5-d068-a64e8b097e3c"
      },
      "execution_count": 8,
      "outputs": [
        {
          "output_type": "stream",
          "name": "stderr",
          "text": [
            "[nltk_data] Downloading package stopwords to /root/nltk_data...\n",
            "[nltk_data]   Package stopwords is already up-to-date!\n"
          ]
        }
      ]
    },
    {
      "cell_type": "markdown",
      "source": [
        "This code applies the get_cleaned_word_frequency function to analyze the training and validation datasets. It removes stop words and displays the top 20 most frequent meaningful words in both datasets, offering insights into key terms after filtering irrelevant words."
      ],
      "metadata": {
        "id": "13Lysn_AzbVV"
      }
    },
    {
      "cell_type": "code",
      "source": [
        "# Get top 20 words in training data after removing stop words\n",
        "training_cleaned_word_freq = get_cleaned_word_frequency(training_data[\"Text\"])\n",
        "print(\"Top 20 Words in Training Data (Cleaned):\", training_cleaned_word_freq)\n",
        "\n",
        "# Get top 20 words in validation data after removing stop words\n",
        "validation_cleaned_word_freq = get_cleaned_word_frequency(validation_data[\"Text\"])\n",
        "print(\"Top 20 Words in Validation Data (Cleaned):\", validation_cleaned_word_freq)\n"
      ],
      "metadata": {
        "colab": {
          "base_uri": "https://localhost:8080/"
        },
        "id": "mShHEoicwckO",
        "outputId": "8f5dda95-0b6c-4a13-fbd0-bbf4d60430c5"
      },
      "execution_count": 9,
      "outputs": [
        {
          "output_type": "stream",
          "name": "stdout",
          "text": [
            "Top 20 Words in Training Data (Cleaned): [('game', 6234), ('like', 4633), ('get', 3898), ('one', 3240), ('really', 3171), ('new', 3123), ('2', 3098), ('play', 3076), ('good', 3001), ('love', 2995), ('see', 2690), ('johnson', 2624), ('people', 2612), ('still', 2414), ('best', 2346), ('got', 2214), ('even', 2214), ('shit', 2169), ('time', 2124), ('fucking', 2088)]\n",
            "Top 20 Words in Validation Data (Cleaned): [('game', 86), ('like', 78), ('get', 63), ('johnson', 58), ('2', 57), ('love', 52), ('one', 48), ('best', 44), ('new', 43), ('good', 43), ('dead', 40), ('red', 39), ('play', 39), ('playing', 37), ('really', 35), ('fifa', 35), ('fucking', 35), ('redemption', 35), ('people', 34), ('got', 32)]\n"
          ]
        }
      ]
    },
    {
      "cell_type": "markdown",
      "source": [
        "This code removes duplicate entries from the Text column in both datasets and drops rows with missing values in the same column. After cleaning, it displays the updated shape of the training and validation datasets to confirm the number of rows remaining."
      ],
      "metadata": {
        "id": "ROCsjU1Tzfdb"
      }
    },
    {
      "cell_type": "code",
      "source": [
        "# Remove duplicates based on the 'Text' column\n",
        "training_data = training_data.drop_duplicates(subset=[\"Text\"])\n",
        "validation_data = validation_data.drop_duplicates(subset=[\"Text\"])\n",
        "\n",
        "# Drop rows with missing values in the 'Text' column\n",
        "training_data = training_data.dropna(subset=[\"Text\"])\n",
        "validation_data = validation_data.dropna(subset=[\"Text\"])\n",
        "\n",
        "# Display the shape of the datasets after cleaning\n",
        "print(\"Training Data Shape After Removing Duplicates and Missing Values:\", training_data.shape)\n",
        "print(\"Validation Data Shape After Removing Duplicates and Missing Values:\", validation_data.shape)\n"
      ],
      "metadata": {
        "colab": {
          "base_uri": "https://localhost:8080/"
        },
        "id": "MtgemMbwweFu",
        "outputId": "97228076-1eec-49e2-8760-d583e6e4ad99"
      },
      "execution_count": 10,
      "outputs": [
        {
          "output_type": "stream",
          "name": "stdout",
          "text": [
            "Training Data Shape After Removing Duplicates and Missing Values: (69490, 4)\n",
            "Validation Data Shape After Removing Duplicates and Missing Values: (998, 4)\n"
          ]
        }
      ]
    },
    {
      "cell_type": "markdown",
      "source": [
        "This code normalizes text by:\n",
        "\n",
        "Converting it to lowercase.\n",
        "Removing URLs, special characters, and numbers using regular expressions. The normalized text is stored in a new column, Normalized_Text, for both datasets. Sample rows are displayed to verify the changes."
      ],
      "metadata": {
        "id": "xJKMqIomzkF3"
      }
    },
    {
      "cell_type": "code",
      "source": [
        "import re\n",
        "\n",
        "# Function to normalize text\n",
        "def normalize_text(text):\n",
        "    text = text.lower()  # Convert to lowercase\n",
        "    text = re.sub(r\"http\\S+\", \"\", text)  # Remove URLs\n",
        "    text = re.sub(r\"[^\\w\\s]\", \"\", text)  # Remove special characters\n",
        "    text = re.sub(r\"\\d+\", \"\", text)  # Remove numbers\n",
        "    return text.strip()\n",
        "\n",
        "# Apply normalization to the 'Text' column\n",
        "training_data[\"Normalized_Text\"] = training_data[\"Text\"].apply(normalize_text)\n",
        "validation_data[\"Normalized_Text\"] = validation_data[\"Text\"].apply(normalize_text)\n",
        "\n",
        "# Display a few examples of normalized text\n",
        "print(\"Sample Normalized Training Data:\")\n",
        "print(training_data[[\"Text\", \"Normalized_Text\"]].head())\n",
        "\n",
        "print(\"\\nSample Normalized Validation Data:\")\n",
        "print(validation_data[[\"Text\", \"Normalized_Text\"]].head())\n"
      ],
      "metadata": {
        "colab": {
          "base_uri": "https://localhost:8080/"
        },
        "id": "Ksa6PmYHw5Nt",
        "outputId": "9cfca6df-f092-4c72-ac1d-22b9936ec46e"
      },
      "execution_count": 11,
      "outputs": [
        {
          "output_type": "stream",
          "name": "stdout",
          "text": [
            "Sample Normalized Training Data:\n",
            "                                                Text  \\\n",
            "0  I am coming to the borders and I will kill you...   \n",
            "1  im getting on borderlands and i will kill you ...   \n",
            "2  im coming on borderlands and i will murder you...   \n",
            "3  im getting on borderlands 2 and i will murder ...   \n",
            "4  im getting into borderlands and i can murder y...   \n",
            "\n",
            "                                     Normalized_Text  \n",
            "0  i am coming to the borders and i will kill you...  \n",
            "1  im getting on borderlands and i will kill you all  \n",
            "2  im coming on borderlands and i will murder you...  \n",
            "3  im getting on borderlands  and i will murder y...  \n",
            "4  im getting into borderlands and i can murder y...  \n",
            "\n",
            "Sample Normalized Validation Data:\n",
            "                                                Text  \\\n",
            "0  BBC News - Amazon boss Jeff Bezos rejects clai...   \n",
            "1  @Microsoft Why do I pay for WORD when it funct...   \n",
            "2  CSGO matchmaking is so full of closet hacking,...   \n",
            "3  Now the President is slapping Americans in the...   \n",
            "4  Hi @EAHelp I’ve had Madeleine McCann in my cel...   \n",
            "\n",
            "                                     Normalized_Text  \n",
            "0  bbc news  amazon boss jeff bezos rejects claim...  \n",
            "1  microsoft why do i pay for word when it functi...  \n",
            "2  csgo matchmaking is so full of closet hacking ...  \n",
            "3  now the president is slapping americans in the...  \n",
            "4  hi eahelp ive had madeleine mccann in my cella...  \n"
          ]
        }
      ]
    },
    {
      "cell_type": "code",
      "source": [
        "import nltk\n",
        "\n",
        "# Re-download the 'punkt' package\n",
        "nltk.download('punkt')\n",
        "\n",
        "# Ensure the specific 'punkt_tab' resource is available\n",
        "nltk.download('punkt_tab')\n"
      ],
      "metadata": {
        "colab": {
          "base_uri": "https://localhost:8080/"
        },
        "id": "Crd5RwJLxEKr",
        "outputId": "33054a35-11d1-484a-ff70-11bc8b2fad1e"
      },
      "execution_count": 13,
      "outputs": [
        {
          "output_type": "stream",
          "name": "stderr",
          "text": [
            "[nltk_data] Downloading package punkt to /root/nltk_data...\n",
            "[nltk_data]   Package punkt is already up-to-date!\n",
            "[nltk_data] Downloading package punkt_tab to /root/nltk_data...\n",
            "[nltk_data]   Unzipping tokenizers/punkt_tab.zip.\n"
          ]
        },
        {
          "output_type": "execute_result",
          "data": {
            "text/plain": [
              "True"
            ]
          },
          "metadata": {},
          "execution_count": 13
        }
      ]
    },
    {
      "cell_type": "markdown",
      "source": [
        "This code tokenizes the Normalized_Text column in both datasets using NLTK's word_tokenize function, splitting text into individual words (tokens). The tokens are stored in a new column, Tokens, and sample rows are displayed to verify the tokenization process."
      ],
      "metadata": {
        "id": "l7heghjrzoUi"
      }
    },
    {
      "cell_type": "code",
      "source": [
        "from nltk.tokenize import word_tokenize\n",
        "nltk.download('punkt')  # Ensure NLTK tokenizer is ready\n",
        "\n",
        "# Tokenize the normalized text\n",
        "training_data[\"Tokens\"] = training_data[\"Normalized_Text\"].apply(word_tokenize)\n",
        "validation_data[\"Tokens\"] = validation_data[\"Normalized_Text\"].apply(word_tokenize)\n",
        "\n",
        "# Display tokenized examples\n",
        "print(\"Sample Tokenized Training Data:\")\n",
        "print(training_data[[\"Normalized_Text\", \"Tokens\"]].head())\n",
        "\n",
        "print(\"\\nSample Tokenized Validation Data:\")\n",
        "print(validation_data[[\"Normalized_Text\", \"Tokens\"]].head())\n"
      ],
      "metadata": {
        "colab": {
          "base_uri": "https://localhost:8080/"
        },
        "id": "eifYiTsvw66N",
        "outputId": "0baf7370-492c-409d-d162-e3a036308658"
      },
      "execution_count": 14,
      "outputs": [
        {
          "output_type": "stream",
          "name": "stderr",
          "text": [
            "[nltk_data] Downloading package punkt to /root/nltk_data...\n",
            "[nltk_data]   Package punkt is already up-to-date!\n"
          ]
        },
        {
          "output_type": "stream",
          "name": "stdout",
          "text": [
            "Sample Tokenized Training Data:\n",
            "                                     Normalized_Text  \\\n",
            "0  i am coming to the borders and i will kill you...   \n",
            "1  im getting on borderlands and i will kill you all   \n",
            "2  im coming on borderlands and i will murder you...   \n",
            "3  im getting on borderlands  and i will murder y...   \n",
            "4  im getting into borderlands and i can murder y...   \n",
            "\n",
            "                                              Tokens  \n",
            "0  [i, am, coming, to, the, borders, and, i, will...  \n",
            "1  [im, getting, on, borderlands, and, i, will, k...  \n",
            "2  [im, coming, on, borderlands, and, i, will, mu...  \n",
            "3  [im, getting, on, borderlands, and, i, will, m...  \n",
            "4  [im, getting, into, borderlands, and, i, can, ...  \n",
            "\n",
            "Sample Tokenized Validation Data:\n",
            "                                     Normalized_Text  \\\n",
            "0  bbc news  amazon boss jeff bezos rejects claim...   \n",
            "1  microsoft why do i pay for word when it functi...   \n",
            "2  csgo matchmaking is so full of closet hacking ...   \n",
            "3  now the president is slapping americans in the...   \n",
            "4  hi eahelp ive had madeleine mccann in my cella...   \n",
            "\n",
            "                                              Tokens  \n",
            "0  [bbc, news, amazon, boss, jeff, bezos, rejects...  \n",
            "1  [microsoft, why, do, i, pay, for, word, when, ...  \n",
            "2  [csgo, matchmaking, is, so, full, of, closet, ...  \n",
            "3  [now, the, president, is, slapping, americans,...  \n",
            "4  [hi, eahelp, ive, had, madeleine, mccann, in, ...  \n"
          ]
        }
      ]
    },
    {
      "cell_type": "markdown",
      "source": [
        "This code encodes the sentiment labels (Sentiment) into numerical values using LabelEncoder. The encoded labels are added as a new column, Sentiment_Label, in both datasets. It also displays the mapping of numeric values to original sentiment classes for reference."
      ],
      "metadata": {
        "id": "yUiFQv9szruu"
      }
    },
    {
      "cell_type": "code",
      "source": [
        "from sklearn.preprocessing import LabelEncoder\n",
        "\n",
        "# Encode sentiment labels\n",
        "label_encoder = LabelEncoder()\n",
        "training_data['Sentiment_Label'] = label_encoder.fit_transform(training_data['Sentiment'])\n",
        "validation_data['Sentiment_Label'] = label_encoder.transform(validation_data['Sentiment'])\n",
        "\n",
        "# Display encoded labels\n",
        "print(\"Encoded Sentiments:\", dict(enumerate(label_encoder.classes_)))\n"
      ],
      "metadata": {
        "colab": {
          "base_uri": "https://localhost:8080/"
        },
        "id": "nX2xkJ2jw9ku",
        "outputId": "2acfa0f4-4bd9-4922-ab47-71552aff10b2"
      },
      "execution_count": 15,
      "outputs": [
        {
          "output_type": "stream",
          "name": "stdout",
          "text": [
            "Encoded Sentiments: {0: 'Irrelevant', 1: 'Negative', 2: 'Neutral', 3: 'Positive'}\n"
          ]
        }
      ]
    },
    {
      "cell_type": "markdown",
      "source": [
        "This code uses TfidfVectorizer to convert the normalized text into numerical features based on term frequency-inverse document frequency (TF-IDF). It limits features to 5000 for efficiency. The resulting feature matrices (X_train, X_val) and target variables (y_train, y_val) are prepared for model training."
      ],
      "metadata": {
        "id": "nQFW6Vbvzvtj"
      }
    },
    {
      "cell_type": "code",
      "source": [
        "from sklearn.feature_extraction.text import TfidfVectorizer\n",
        "\n",
        "# Initialize TF-IDF Vectorizer\n",
        "tfidf_vectorizer = TfidfVectorizer(max_features=5000)  # Limit features for better performance\n",
        "\n",
        "# Fit and transform training data\n",
        "X_train = tfidf_vectorizer.fit_transform(training_data['Normalized_Text'])\n",
        "\n",
        "# Transform validation data\n",
        "X_val = tfidf_vectorizer.transform(validation_data['Normalized_Text'])\n",
        "\n",
        "# Target variable\n",
        "y_train = training_data['Sentiment_Label']\n",
        "y_val = validation_data['Sentiment_Label']\n",
        "\n",
        "print(\"TF-IDF Transformation Complete.\")\n"
      ],
      "metadata": {
        "colab": {
          "base_uri": "https://localhost:8080/"
        },
        "id": "eFnxGPaZxPlc",
        "outputId": "add3f2ce-9b55-4601-a1cd-313a5a2d5661"
      },
      "execution_count": 16,
      "outputs": [
        {
          "output_type": "stream",
          "name": "stdout",
          "text": [
            "TF-IDF Transformation Complete.\n"
          ]
        }
      ]
    },
    {
      "cell_type": "markdown",
      "source": [
        "This code trains a LogisticRegression model for sentiment classification:\n",
        "\n",
        "Scales the TF-IDF features using StandardScaler to normalize the data.\n",
        "Fits the logistic regression model with a maximum of 500 iterations.\n",
        "Predicts sentiment labels on validation data.\n",
        "Evaluates performance using accuracy and a classification report."
      ],
      "metadata": {
        "id": "-621freCzzqW"
      }
    },
    {
      "cell_type": "code",
      "source": [
        "from sklearn.preprocessing import StandardScaler\n",
        "from sklearn.linear_model import LogisticRegression\n",
        "\n",
        "# Scale the data\n",
        "scaler = StandardScaler(with_mean=False)  # with_mean=False because sparse matrix\n",
        "X_train_scaled = scaler.fit_transform(X_train)\n",
        "X_val_scaled = scaler.transform(X_val)\n",
        "\n",
        "# Train the model with increased iterations\n",
        "model = LogisticRegression(max_iter=500, solver='lbfgs')\n",
        "model.fit(X_train_scaled, y_train)\n",
        "\n",
        "# Predict and evaluate\n",
        "y_pred = model.predict(X_val_scaled)\n",
        "print(\"Accuracy on Validation Data:\", accuracy_score(y_val, y_pred))\n",
        "print(\"\\nClassification Report:\\n\", classification_report(y_val, y_pred))\n"
      ],
      "metadata": {
        "colab": {
          "base_uri": "https://localhost:8080/"
        },
        "id": "IXf03xF3xRN-",
        "outputId": "bec8b5c0-2e85-4e83-f609-db3b40b05d1d"
      },
      "execution_count": 20,
      "outputs": [
        {
          "output_type": "stream",
          "name": "stdout",
          "text": [
            "Accuracy on Validation Data: 0.8667334669338678\n",
            "\n",
            "Classification Report:\n",
            "               precision    recall  f1-score   support\n",
            "\n",
            "           0       0.86      0.85      0.86       171\n",
            "           1       0.84      0.89      0.86       266\n",
            "           2       0.90      0.84      0.87       285\n",
            "           3       0.87      0.88      0.87       276\n",
            "\n",
            "    accuracy                           0.87       998\n",
            "   macro avg       0.87      0.87      0.87       998\n",
            "weighted avg       0.87      0.87      0.87       998\n",
            "\n"
          ]
        }
      ]
    },
    {
      "cell_type": "markdown",
      "source": [
        "This code performs hyperparameter tuning for the LogisticRegression model:\n",
        "\n",
        "Defines a grid of hyperparameters (C for regularization strength and solver type).\n",
        "Uses GridSearchCV to perform cross-validation and evaluate different combinations.\n",
        "Fits the model to the training data and identifies the best parameters to optimize accuracy."
      ],
      "metadata": {
        "id": "yPXWewTFz3Kh"
      }
    },
    {
      "cell_type": "code",
      "source": [
        "from sklearn.model_selection import GridSearchCV\n",
        "\n",
        "# Define parameter grid\n",
        "param_grid = {'C': [0.01, 0.1, 1, 10], 'solver': ['liblinear', 'lbfgs']}\n",
        "\n",
        "# Initialize Grid Search\n",
        "grid_search = GridSearchCV(LogisticRegression(), param_grid, cv=5, scoring='accuracy')\n",
        "\n",
        "# Fit Grid Search\n",
        "grid_search.fit(X_train, y_train)\n",
        "\n",
        "# Best parameters\n",
        "print(\"Best Parameters:\", grid_search.best_params_)\n"
      ],
      "metadata": {
        "colab": {
          "base_uri": "https://localhost:8080/"
        },
        "id": "P7jEo3R8xT_M",
        "outputId": "25f020c6-e22d-4eab-f0d2-31732427561d"
      },
      "execution_count": 18,
      "outputs": [
        {
          "output_type": "stream",
          "name": "stderr",
          "text": [
            "/usr/local/lib/python3.11/dist-packages/sklearn/linear_model/_logistic.py:465: ConvergenceWarning: lbfgs failed to converge (status=1):\n",
            "STOP: TOTAL NO. of ITERATIONS REACHED LIMIT.\n",
            "\n",
            "Increase the number of iterations (max_iter) or scale the data as shown in:\n",
            "    https://scikit-learn.org/stable/modules/preprocessing.html\n",
            "Please also refer to the documentation for alternative solver options:\n",
            "    https://scikit-learn.org/stable/modules/linear_model.html#logistic-regression\n",
            "  n_iter_i = _check_optimize_result(\n",
            "/usr/local/lib/python3.11/dist-packages/sklearn/linear_model/_logistic.py:465: ConvergenceWarning: lbfgs failed to converge (status=1):\n",
            "STOP: TOTAL NO. of ITERATIONS REACHED LIMIT.\n",
            "\n",
            "Increase the number of iterations (max_iter) or scale the data as shown in:\n",
            "    https://scikit-learn.org/stable/modules/preprocessing.html\n",
            "Please also refer to the documentation for alternative solver options:\n",
            "    https://scikit-learn.org/stable/modules/linear_model.html#logistic-regression\n",
            "  n_iter_i = _check_optimize_result(\n",
            "/usr/local/lib/python3.11/dist-packages/sklearn/linear_model/_logistic.py:465: ConvergenceWarning: lbfgs failed to converge (status=1):\n",
            "STOP: TOTAL NO. of ITERATIONS REACHED LIMIT.\n",
            "\n",
            "Increase the number of iterations (max_iter) or scale the data as shown in:\n",
            "    https://scikit-learn.org/stable/modules/preprocessing.html\n",
            "Please also refer to the documentation for alternative solver options:\n",
            "    https://scikit-learn.org/stable/modules/linear_model.html#logistic-regression\n",
            "  n_iter_i = _check_optimize_result(\n",
            "/usr/local/lib/python3.11/dist-packages/sklearn/linear_model/_logistic.py:465: ConvergenceWarning: lbfgs failed to converge (status=1):\n",
            "STOP: TOTAL NO. of ITERATIONS REACHED LIMIT.\n",
            "\n",
            "Increase the number of iterations (max_iter) or scale the data as shown in:\n",
            "    https://scikit-learn.org/stable/modules/preprocessing.html\n",
            "Please also refer to the documentation for alternative solver options:\n",
            "    https://scikit-learn.org/stable/modules/linear_model.html#logistic-regression\n",
            "  n_iter_i = _check_optimize_result(\n",
            "/usr/local/lib/python3.11/dist-packages/sklearn/linear_model/_logistic.py:465: ConvergenceWarning: lbfgs failed to converge (status=1):\n",
            "STOP: TOTAL NO. of ITERATIONS REACHED LIMIT.\n",
            "\n",
            "Increase the number of iterations (max_iter) or scale the data as shown in:\n",
            "    https://scikit-learn.org/stable/modules/preprocessing.html\n",
            "Please also refer to the documentation for alternative solver options:\n",
            "    https://scikit-learn.org/stable/modules/linear_model.html#logistic-regression\n",
            "  n_iter_i = _check_optimize_result(\n",
            "/usr/local/lib/python3.11/dist-packages/sklearn/linear_model/_logistic.py:465: ConvergenceWarning: lbfgs failed to converge (status=1):\n",
            "STOP: TOTAL NO. of ITERATIONS REACHED LIMIT.\n",
            "\n",
            "Increase the number of iterations (max_iter) or scale the data as shown in:\n",
            "    https://scikit-learn.org/stable/modules/preprocessing.html\n",
            "Please also refer to the documentation for alternative solver options:\n",
            "    https://scikit-learn.org/stable/modules/linear_model.html#logistic-regression\n",
            "  n_iter_i = _check_optimize_result(\n",
            "/usr/local/lib/python3.11/dist-packages/sklearn/linear_model/_logistic.py:465: ConvergenceWarning: lbfgs failed to converge (status=1):\n",
            "STOP: TOTAL NO. of ITERATIONS REACHED LIMIT.\n",
            "\n",
            "Increase the number of iterations (max_iter) or scale the data as shown in:\n",
            "    https://scikit-learn.org/stable/modules/preprocessing.html\n",
            "Please also refer to the documentation for alternative solver options:\n",
            "    https://scikit-learn.org/stable/modules/linear_model.html#logistic-regression\n",
            "  n_iter_i = _check_optimize_result(\n",
            "/usr/local/lib/python3.11/dist-packages/sklearn/linear_model/_logistic.py:465: ConvergenceWarning: lbfgs failed to converge (status=1):\n",
            "STOP: TOTAL NO. of ITERATIONS REACHED LIMIT.\n",
            "\n",
            "Increase the number of iterations (max_iter) or scale the data as shown in:\n",
            "    https://scikit-learn.org/stable/modules/preprocessing.html\n",
            "Please also refer to the documentation for alternative solver options:\n",
            "    https://scikit-learn.org/stable/modules/linear_model.html#logistic-regression\n",
            "  n_iter_i = _check_optimize_result(\n",
            "/usr/local/lib/python3.11/dist-packages/sklearn/linear_model/_logistic.py:465: ConvergenceWarning: lbfgs failed to converge (status=1):\n",
            "STOP: TOTAL NO. of ITERATIONS REACHED LIMIT.\n",
            "\n",
            "Increase the number of iterations (max_iter) or scale the data as shown in:\n",
            "    https://scikit-learn.org/stable/modules/preprocessing.html\n",
            "Please also refer to the documentation for alternative solver options:\n",
            "    https://scikit-learn.org/stable/modules/linear_model.html#logistic-regression\n",
            "  n_iter_i = _check_optimize_result(\n",
            "/usr/local/lib/python3.11/dist-packages/sklearn/linear_model/_logistic.py:465: ConvergenceWarning: lbfgs failed to converge (status=1):\n",
            "STOP: TOTAL NO. of ITERATIONS REACHED LIMIT.\n",
            "\n",
            "Increase the number of iterations (max_iter) or scale the data as shown in:\n",
            "    https://scikit-learn.org/stable/modules/preprocessing.html\n",
            "Please also refer to the documentation for alternative solver options:\n",
            "    https://scikit-learn.org/stable/modules/linear_model.html#logistic-regression\n",
            "  n_iter_i = _check_optimize_result(\n"
          ]
        },
        {
          "output_type": "stream",
          "name": "stdout",
          "text": [
            "Best Parameters: {'C': 0.1, 'solver': 'liblinear'}\n"
          ]
        }
      ]
    },
    {
      "cell_type": "markdown",
      "source": [
        "This code uses the Hugging Face transformers library to perform sentiment analysis:\n",
        "\n",
        "Installs the transformers library.\n",
        "Loads a pre-trained sentiment analysis pipeline.\n",
        "Tests the pipeline on a sample text (\"I absolutely love this product!\") and prints the sentiment prediction."
      ],
      "metadata": {
        "id": "A6eBzDeEz7LW"
      }
    },
    {
      "cell_type": "code",
      "source": [
        "!pip install transformers\n",
        "\n",
        "from transformers import pipeline\n",
        "\n",
        "# Load pre-trained sentiment analysis pipeline\n",
        "sentiment_pipeline = pipeline('sentiment-analysis')\n",
        "\n",
        "# Test on a sample\n",
        "sample_text = \"I absolutely love this product!\"\n",
        "print(sentiment_pipeline(sample_text))\n"
      ],
      "metadata": {
        "colab": {
          "base_uri": "https://localhost:8080/",
          "height": 633,
          "referenced_widgets": [
            "6296de9d39f94082b6e0ac66b43f5783",
            "3553aae295354550885546d74f8029ff",
            "9400d3d7f9474e88a7416d47a46bb48f",
            "f84a0db3fdb7412e98d7e3705e363c1b",
            "5eac4a7dcd1b4edd85b34879e3454e22",
            "68244b82384c46fd9ad242bda45ee95a",
            "c626aeb63e584be78f951fa5f8057547",
            "c0f9baa81840454d8b1fc244d227fc28",
            "21618c7cc8e948f5bbf605520e2f12a2",
            "8678b894f887417ca8354c1f87052442",
            "dc55ad1d6a2b4a128673a8a9232da3eb",
            "4b7aa30be8b9421d834874c0667bf767",
            "021b4dd9c07546e0af37b4a1a514ff98",
            "22c6a75d9cb445019a54be66ecc67edd",
            "e5ba21fd3b144d44bd2f290bf5e47450",
            "6b311cbc9d1e4b818ec27185262eb387",
            "11ab64495a874ed5af45ab1af8bcf9c4",
            "9bfdc5ce354641a0abc99a68fe86730b",
            "04315bb51210408aa4241b88252d7cda",
            "0b49cae4d1b7453fabc20484dbc5db23",
            "59e44122edba4c5497203b9d00409723",
            "aad2c344f04f46b99c1f857d8665881a",
            "b0da9d06acc641d28235146a9b20691c",
            "b9dbff638c2a466788c9828c9033f971",
            "f4949a0c93a74346a58197179c6bde6e",
            "1d18982bd08945389d9db7f45005e6d9",
            "f7c7c26e64154667b10631f12c37c6eb",
            "2556f4b8a94f4b3b8e454c1a58049283",
            "c20fdfc7627c499a97def33b5297a202",
            "ea152a24cc314db1b5e4bc2cb1f8dad0",
            "024aa05fad37420d9fd80b1e6a75e957",
            "c5aae9b04a264da5a63261486e85f6e8",
            "5c87c442caf0408eb57e49dae61d4d5b",
            "445da3c79165413283d5df7c3e4477a1",
            "ce15796f8a9e4a34b88e2fd1dcc4f447",
            "a5929a69970148669d9e70f3a7beb013",
            "e78813f6e7c840c196176e38c8aa8030",
            "c9b7f7ee1e97480e823c6fe9ce7e7983",
            "58c0b7eee03748f3b45b8fb85f99efb6",
            "bdca2085c1b249fc9e662c7de2845bad",
            "a8c25e5500884a58a8e96d74908c4b06",
            "c07d492f8731460a9e1f402ac508846b",
            "211cac5075324d71afa44e2e4cf6056b",
            "fb1df1ba5ae0404885c1c595a58a0b14"
          ]
        },
        "id": "OPiKCiIsxWdt",
        "outputId": "3b54d72a-af91-4fc4-b4f1-8061277ebfc6"
      },
      "execution_count": 19,
      "outputs": [
        {
          "output_type": "stream",
          "name": "stdout",
          "text": [
            "Requirement already satisfied: transformers in /usr/local/lib/python3.11/dist-packages (4.47.1)\n",
            "Requirement already satisfied: filelock in /usr/local/lib/python3.11/dist-packages (from transformers) (3.16.1)\n",
            "Requirement already satisfied: huggingface-hub<1.0,>=0.24.0 in /usr/local/lib/python3.11/dist-packages (from transformers) (0.27.1)\n",
            "Requirement already satisfied: numpy>=1.17 in /usr/local/lib/python3.11/dist-packages (from transformers) (1.26.4)\n",
            "Requirement already satisfied: packaging>=20.0 in /usr/local/lib/python3.11/dist-packages (from transformers) (24.2)\n",
            "Requirement already satisfied: pyyaml>=5.1 in /usr/local/lib/python3.11/dist-packages (from transformers) (6.0.2)\n",
            "Requirement already satisfied: regex!=2019.12.17 in /usr/local/lib/python3.11/dist-packages (from transformers) (2024.11.6)\n",
            "Requirement already satisfied: requests in /usr/local/lib/python3.11/dist-packages (from transformers) (2.32.3)\n",
            "Requirement already satisfied: tokenizers<0.22,>=0.21 in /usr/local/lib/python3.11/dist-packages (from transformers) (0.21.0)\n",
            "Requirement already satisfied: safetensors>=0.4.1 in /usr/local/lib/python3.11/dist-packages (from transformers) (0.5.2)\n",
            "Requirement already satisfied: tqdm>=4.27 in /usr/local/lib/python3.11/dist-packages (from transformers) (4.67.1)\n",
            "Requirement already satisfied: fsspec>=2023.5.0 in /usr/local/lib/python3.11/dist-packages (from huggingface-hub<1.0,>=0.24.0->transformers) (2024.10.0)\n",
            "Requirement already satisfied: typing-extensions>=3.7.4.3 in /usr/local/lib/python3.11/dist-packages (from huggingface-hub<1.0,>=0.24.0->transformers) (4.12.2)\n",
            "Requirement already satisfied: charset-normalizer<4,>=2 in /usr/local/lib/python3.11/dist-packages (from requests->transformers) (3.4.1)\n",
            "Requirement already satisfied: idna<4,>=2.5 in /usr/local/lib/python3.11/dist-packages (from requests->transformers) (3.10)\n",
            "Requirement already satisfied: urllib3<3,>=1.21.1 in /usr/local/lib/python3.11/dist-packages (from requests->transformers) (2.3.0)\n",
            "Requirement already satisfied: certifi>=2017.4.17 in /usr/local/lib/python3.11/dist-packages (from requests->transformers) (2024.12.14)\n"
          ]
        },
        {
          "output_type": "stream",
          "name": "stderr",
          "text": [
            "No model was supplied, defaulted to distilbert/distilbert-base-uncased-finetuned-sst-2-english and revision 714eb0f (https://huggingface.co/distilbert/distilbert-base-uncased-finetuned-sst-2-english).\n",
            "Using a pipeline without specifying a model name and revision in production is not recommended.\n",
            "/usr/local/lib/python3.11/dist-packages/huggingface_hub/utils/_auth.py:94: UserWarning: \n",
            "The secret `HF_TOKEN` does not exist in your Colab secrets.\n",
            "To authenticate with the Hugging Face Hub, create a token in your settings tab (https://huggingface.co/settings/tokens), set it as secret in your Google Colab and restart your session.\n",
            "You will be able to reuse this secret in all of your notebooks.\n",
            "Please note that authentication is recommended but still optional to access public models or datasets.\n",
            "  warnings.warn(\n"
          ]
        },
        {
          "output_type": "display_data",
          "data": {
            "text/plain": [
              "config.json:   0%|          | 0.00/629 [00:00<?, ?B/s]"
            ],
            "application/vnd.jupyter.widget-view+json": {
              "version_major": 2,
              "version_minor": 0,
              "model_id": "6296de9d39f94082b6e0ac66b43f5783"
            }
          },
          "metadata": {}
        },
        {
          "output_type": "display_data",
          "data": {
            "text/plain": [
              "model.safetensors:   0%|          | 0.00/268M [00:00<?, ?B/s]"
            ],
            "application/vnd.jupyter.widget-view+json": {
              "version_major": 2,
              "version_minor": 0,
              "model_id": "4b7aa30be8b9421d834874c0667bf767"
            }
          },
          "metadata": {}
        },
        {
          "output_type": "display_data",
          "data": {
            "text/plain": [
              "tokenizer_config.json:   0%|          | 0.00/48.0 [00:00<?, ?B/s]"
            ],
            "application/vnd.jupyter.widget-view+json": {
              "version_major": 2,
              "version_minor": 0,
              "model_id": "b0da9d06acc641d28235146a9b20691c"
            }
          },
          "metadata": {}
        },
        {
          "output_type": "display_data",
          "data": {
            "text/plain": [
              "vocab.txt:   0%|          | 0.00/232k [00:00<?, ?B/s]"
            ],
            "application/vnd.jupyter.widget-view+json": {
              "version_major": 2,
              "version_minor": 0,
              "model_id": "445da3c79165413283d5df7c3e4477a1"
            }
          },
          "metadata": {}
        },
        {
          "output_type": "stream",
          "name": "stderr",
          "text": [
            "Device set to use cpu\n"
          ]
        },
        {
          "output_type": "stream",
          "name": "stdout",
          "text": [
            "[{'label': 'POSITIVE', 'score': 0.9998854398727417}]\n"
          ]
        }
      ]
    },
    {
      "cell_type": "markdown",
      "source": [
        "This code trains a RandomForestClassifier for sentiment classification:\n",
        "\n",
        "Initializes the classifier with 100 trees and a fixed random state for reproducibility.\n",
        "Fits the model on the training data (X_train, y_train).\n",
        "Predicts sentiment labels for the validation data (X_val).\n",
        "Evaluates the model's performance using accuracy and a classification report."
      ],
      "metadata": {
        "id": "mZjaCmFoz_Ev"
      }
    },
    {
      "cell_type": "code",
      "source": [
        "from sklearn.ensemble import RandomForestClassifier\n",
        "\n",
        "# Train a Random Forest Classifier\n",
        "rf_model = RandomForestClassifier(n_estimators=100, random_state=42)\n",
        "rf_model.fit(X_train, y_train)\n",
        "\n",
        "# Predict and evaluate\n",
        "y_pred_rf = rf_model.predict(X_val)\n",
        "print(\"Random Forest Accuracy on Validation Data:\", accuracy_score(y_val, y_pred_rf))\n",
        "print(\"\\nClassification Report (Random Forest):\\n\", classification_report(y_val, y_pred_rf))\n"
      ],
      "metadata": {
        "colab": {
          "base_uri": "https://localhost:8080/"
        },
        "id": "7faIZzNgxZPP",
        "outputId": "fa039a8c-d9de-4dc5-a61b-1edea65c3f88"
      },
      "execution_count": 22,
      "outputs": [
        {
          "output_type": "stream",
          "name": "stdout",
          "text": [
            "Random Forest Accuracy on Validation Data: 0.9619238476953907\n",
            "\n",
            "Classification Report (Random Forest):\n",
            "               precision    recall  f1-score   support\n",
            "\n",
            "           0       0.99      0.94      0.97       171\n",
            "           1       0.95      0.97      0.96       266\n",
            "           2       0.96      0.96      0.96       285\n",
            "           3       0.96      0.97      0.96       276\n",
            "\n",
            "    accuracy                           0.96       998\n",
            "   macro avg       0.97      0.96      0.96       998\n",
            "weighted avg       0.96      0.96      0.96       998\n",
            "\n"
          ]
        }
      ]
    },
    {
      "cell_type": "markdown",
      "source": [
        "**The Random Forest Classifier demonstrates excellent performance on the validation dataset, with balanced metrics across all classes. It is a reliable choice for sentiment classification in this case.**"
      ],
      "metadata": {
        "id": "eGp9Lxbb0dWZ"
      }
    }
  ]
}