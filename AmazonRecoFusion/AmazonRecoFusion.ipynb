{
  "nbformat": 4,
  "nbformat_minor": 0,
  "metadata": {
    "colab": {
      "provenance": [],
      "gpuType": "T4"
    },
    "kernelspec": {
      "name": "python3",
      "display_name": "Python 3"
    },
    "language_info": {
      "name": "python"
    },
    "accelerator": "GPU"
  },
  "cells": [
    {
      "cell_type": "markdown",
      "source": [
        "# **AmazonRecoFusion**"
      ],
      "metadata": {
        "id": "cOtNLoOcE_3Z"
      }
    },
    {
      "cell_type": "markdown",
      "source": [
        "AmazonRecoFusion is an advanced recommendation system that combines collaborative filtering and content-based filtering to deliver personalized product suggestions. By leveraging user interactions and product attributes, it enhances accuracy and diversity, providing more relevant recommendations for users, similar to those on Amazon."
      ],
      "metadata": {
        "id": "VRGjYCa3FJCN"
      }
    },
    {
      "cell_type": "markdown",
      "source": [
        "**Load the Database**"
      ],
      "metadata": {
        "id": "yfAVOQsP2pLX"
      }
    },
    {
      "cell_type": "code",
      "execution_count": null,
      "metadata": {
        "colab": {
          "base_uri": "https://localhost:8080/"
        },
        "id": "lzRIX_3ryk7U",
        "outputId": "8c76f0fa-4850-42b6-911e-a9c4ee003ff5"
      },
      "outputs": [
        {
          "output_type": "stream",
          "name": "stdout",
          "text": [
            "   product_id                                       product_name  \\\n",
            "0  B07JW9H4J1  Wayona Nylon Braided USB to Lightning Fast Cha...   \n",
            "1  B098NS6PVG  Ambrane Unbreakable 60W / 3A Fast Charging 1.5...   \n",
            "2  B096MSW6CT  Sounce Fast Phone Charging Cable & Data Sync U...   \n",
            "3  B08HDJ86NZ  boAt Deuce USB 300 2 in 1 Type-C & Micro USB S...   \n",
            "4  B08CF3B7N1  Portronics Konnect L 1.2M Fast Charging 3A 8 P...   \n",
            "\n",
            "                                            category discounted_price  \\\n",
            "0  Computers&Accessories|Accessories&Peripherals|...             ₹399   \n",
            "1  Computers&Accessories|Accessories&Peripherals|...             ₹199   \n",
            "2  Computers&Accessories|Accessories&Peripherals|...             ₹199   \n",
            "3  Computers&Accessories|Accessories&Peripherals|...             ₹329   \n",
            "4  Computers&Accessories|Accessories&Peripherals|...             ₹154   \n",
            "\n",
            "  actual_price discount_percentage rating rating_count  \\\n",
            "0       ₹1,099                 64%    4.2       24,269   \n",
            "1         ₹349                 43%    4.0       43,994   \n",
            "2       ₹1,899                 90%    3.9        7,928   \n",
            "3         ₹699                 53%    4.2       94,363   \n",
            "4         ₹399                 61%    4.2       16,905   \n",
            "\n",
            "                                       about_product  \\\n",
            "0  High Compatibility : Compatible With iPhone 12...   \n",
            "1  Compatible with all Type C enabled devices, be...   \n",
            "2  【 Fast Charger& Data Sync】-With built-in safet...   \n",
            "3  The boAt Deuce USB 300 2 in 1 cable is compati...   \n",
            "4  [CHARGE & SYNC FUNCTION]- This cable comes wit...   \n",
            "\n",
            "                                             user_id  \\\n",
            "0  AG3D6O4STAQKAY2UVGEUV46KN35Q,AHMY5CWJMMK5BJRBB...   \n",
            "1  AECPFYFQVRUWC3KGNLJIOREFP5LQ,AGYYVPDD7YG7FYNBX...   \n",
            "2  AGU3BBQ2V2DDAMOAKGFAWDDQ6QHA,AESFLDV2PT363T2AQ...   \n",
            "3  AEWAZDZZJLQUYVOVGBEUKSLXHQ5A,AG5HTSFRRE6NL3M5S...   \n",
            "4  AE3Q6KSUK5P75D5HFYHCRAOLODSA,AFUGIFH5ZAFXRDSZH...   \n",
            "\n",
            "                                           user_name  \\\n",
            "0  Manav,Adarsh gupta,Sundeep,S.Sayeed Ahmed,jasp...   \n",
            "1  ArdKn,Nirbhay kumar,Sagar Viswanathan,Asp,Plac...   \n",
            "2  Kunal,Himanshu,viswanath,sai niharka,saqib mal...   \n",
            "3  Omkar dhale,JD,HEMALATHA,Ajwadh a.,amar singh ...   \n",
            "4  rahuls6099,Swasat Borah,Ajay Wadke,Pranali,RVK...   \n",
            "\n",
            "                                           review_id  \\\n",
            "0  R3HXWT0LRP0NMF,R2AJM3LFTLZHFO,R6AQJGUP6P86,R1K...   \n",
            "1  RGIQEG07R9HS2,R1SMWZQ86XIN8U,R2J3Y1WL29GWDE,RY...   \n",
            "2  R3J3EQQ9TZI5ZJ,R3E7WBGK7ID0KV,RWU79XKQ6I1QF,R2...   \n",
            "3  R3EEUZKKK9J36I,R3HJVYCLYOY554,REDECAZ7AMPQC,R1...   \n",
            "4  R1BP4L2HH9TFUP,R16PVJEXKV6QZS,R2UPDB81N66T4P,R...   \n",
            "\n",
            "                                        review_title  \\\n",
            "0  Satisfied,Charging is really fast,Value for mo...   \n",
            "1  A Good Braided Cable for Your Type C Device,Go...   \n",
            "2  Good speed for earlier versions,Good Product,W...   \n",
            "3  Good product,Good one,Nice,Really nice product...   \n",
            "4  As good as original,Decent,Good one for second...   \n",
            "\n",
            "                                      review_content  \\\n",
            "0  Looks durable Charging is fine tooNo complains...   \n",
            "1  I ordered this cable to connect my phone to An...   \n",
            "2  Not quite durable and sturdy,https://m.media-a...   \n",
            "3  Good product,long wire,Charges good,Nice,I bou...   \n",
            "4  Bought this instead of original apple, does th...   \n",
            "\n",
            "                                            img_link  \\\n",
            "0  https://m.media-amazon.com/images/W/WEBP_40237...   \n",
            "1  https://m.media-amazon.com/images/W/WEBP_40237...   \n",
            "2  https://m.media-amazon.com/images/W/WEBP_40237...   \n",
            "3  https://m.media-amazon.com/images/I/41V5FtEWPk...   \n",
            "4  https://m.media-amazon.com/images/W/WEBP_40237...   \n",
            "\n",
            "                                        product_link  \n",
            "0  https://www.amazon.in/Wayona-Braided-WN3LG1-Sy...  \n",
            "1  https://www.amazon.in/Ambrane-Unbreakable-Char...  \n",
            "2  https://www.amazon.in/Sounce-iPhone-Charging-C...  \n",
            "3  https://www.amazon.in/Deuce-300-Resistant-Tang...  \n",
            "4  https://www.amazon.in/Portronics-Konnect-POR-1...  \n"
          ]
        }
      ],
      "source": [
        "import pandas as pd\n",
        "data = pd.read_csv('amazon.csv')\n",
        "print(data.head())\n"
      ]
    },
    {
      "cell_type": "markdown",
      "source": [
        "Display data types"
      ],
      "metadata": {
        "id": "Zp5JOXAF3IZ2"
      }
    },
    {
      "cell_type": "code",
      "source": [
        "# Display data types of each column\n",
        "print(data.dtypes)\n",
        "\n",
        "# Display basic information about the dataset\n",
        "data.info()\n"
      ],
      "metadata": {
        "colab": {
          "base_uri": "https://localhost:8080/"
        },
        "id": "hm2_B39X0YI1",
        "outputId": "0fc1e8b4-35a2-46f3-8b50-ad6288863483"
      },
      "execution_count": null,
      "outputs": [
        {
          "output_type": "stream",
          "name": "stdout",
          "text": [
            "product_id             object\n",
            "product_name           object\n",
            "category               object\n",
            "discounted_price       object\n",
            "actual_price           object\n",
            "discount_percentage    object\n",
            "rating                 object\n",
            "rating_count           object\n",
            "about_product          object\n",
            "user_id                object\n",
            "user_name              object\n",
            "review_id              object\n",
            "review_title           object\n",
            "review_content         object\n",
            "img_link               object\n",
            "product_link           object\n",
            "dtype: object\n",
            "<class 'pandas.core.frame.DataFrame'>\n",
            "RangeIndex: 1465 entries, 0 to 1464\n",
            "Data columns (total 16 columns):\n",
            " #   Column               Non-Null Count  Dtype \n",
            "---  ------               --------------  ----- \n",
            " 0   product_id           1465 non-null   object\n",
            " 1   product_name         1465 non-null   object\n",
            " 2   category             1465 non-null   object\n",
            " 3   discounted_price     1465 non-null   object\n",
            " 4   actual_price         1465 non-null   object\n",
            " 5   discount_percentage  1465 non-null   object\n",
            " 6   rating               1465 non-null   object\n",
            " 7   rating_count         1463 non-null   object\n",
            " 8   about_product        1465 non-null   object\n",
            " 9   user_id              1465 non-null   object\n",
            " 10  user_name            1465 non-null   object\n",
            " 11  review_id            1465 non-null   object\n",
            " 12  review_title         1465 non-null   object\n",
            " 13  review_content       1465 non-null   object\n",
            " 14  img_link             1465 non-null   object\n",
            " 15  product_link         1465 non-null   object\n",
            "dtypes: object(16)\n",
            "memory usage: 183.3+ KB\n"
          ]
        }
      ]
    },
    {
      "cell_type": "markdown",
      "source": [
        "# **Data Preprocessing**"
      ],
      "metadata": {
        "id": "bu-5MILU2Q_r"
      }
    },
    {
      "cell_type": "markdown",
      "source": [
        "Handle Missing Values"
      ],
      "metadata": {
        "id": "S9Lp772c3Lq6"
      }
    },
    {
      "cell_type": "code",
      "source": [
        "# Check for missing values\n",
        "print(\"Missing values per column:\")\n",
        "print(data.isnull().sum())\n",
        "\n",
        "# Handling missing values:\n",
        "# Since 'rating_count' is the only column with missing values, we'll fill it with 0 (or any value you prefer).\n",
        "data['rating_count'] = data['rating_count'].fillna('0')  # Filling missing 'rating_count' with '0'\n",
        "\n",
        "# Verify that there are no missing values left\n",
        "print(\"\\nAfter handling missing values:\")\n",
        "print(data.isnull().sum())\n"
      ],
      "metadata": {
        "colab": {
          "base_uri": "https://localhost:8080/"
        },
        "id": "7SJdFr440tR9",
        "outputId": "d4db44ed-45df-49db-920b-9c33abe1fbfd"
      },
      "execution_count": null,
      "outputs": [
        {
          "output_type": "stream",
          "name": "stdout",
          "text": [
            "Missing values per column:\n",
            "product_id             0\n",
            "product_name           0\n",
            "category               0\n",
            "discounted_price       0\n",
            "actual_price           0\n",
            "discount_percentage    0\n",
            "rating                 0\n",
            "rating_count           2\n",
            "about_product          0\n",
            "user_id                0\n",
            "user_name              0\n",
            "review_id              0\n",
            "review_title           0\n",
            "review_content         0\n",
            "img_link               0\n",
            "product_link           0\n",
            "dtype: int64\n",
            "\n",
            "After handling missing values:\n",
            "product_id             0\n",
            "product_name           0\n",
            "category               0\n",
            "discounted_price       0\n",
            "actual_price           0\n",
            "discount_percentage    0\n",
            "rating                 0\n",
            "rating_count           0\n",
            "about_product          0\n",
            "user_id                0\n",
            "user_name              0\n",
            "review_id              0\n",
            "review_title           0\n",
            "review_content         0\n",
            "img_link               0\n",
            "product_link           0\n",
            "dtype: int64\n"
          ]
        }
      ]
    },
    {
      "cell_type": "markdown",
      "source": [
        "Normalize Text in review_content and about_product"
      ],
      "metadata": {
        "id": "koi26ozH3OAU"
      }
    },
    {
      "cell_type": "code",
      "source": [
        "import re\n",
        "\n",
        "# Function to normalize text\n",
        "def normalize_text(text):\n",
        "    text = text.lower()  # Convert to lowercase\n",
        "    text = re.sub(r'[^\\w\\s]', '', text)  # Remove special characters and punctuation\n",
        "    text = re.sub(r'\\d+', '', text)  # Remove numbers\n",
        "    text = re.sub(r'\\s+', ' ', text).strip()  # Remove extra whitespaces\n",
        "    return text\n",
        "\n",
        "# Apply normalization to 'review_content' and 'about_product'\n",
        "data['review_content'] = data['review_content'].apply(normalize_text)\n",
        "data['about_product'] = data['about_product'].apply(normalize_text)\n",
        "\n",
        "# Display a sample to verify normalization\n",
        "print(\"Sample normalized text from 'review_content':\")\n",
        "print(data['review_content'].head())\n",
        "\n",
        "print(\"\\nSample normalized text from 'about_product':\")\n",
        "print(data['about_product'].head())\n"
      ],
      "metadata": {
        "colab": {
          "base_uri": "https://localhost:8080/"
        },
        "id": "V-N_rumR1oWK",
        "outputId": "ea015b14-31d5-4550-f187-62ba8e24defc"
      },
      "execution_count": null,
      "outputs": [
        {
          "output_type": "stream",
          "name": "stdout",
          "text": [
            "Sample normalized text from 'review_content':\n",
            "0    looks durable charging is fine toono complains...\n",
            "1    i ordered this cable to connect my phone to an...\n",
            "2    not quite durable and sturdyhttpsmmediaamazonc...\n",
            "3    good productlong wirecharges goodnicei bought ...\n",
            "4    bought this instead of original apple does the...\n",
            "Name: review_content, dtype: object\n",
            "\n",
            "Sample normalized text from 'about_product':\n",
            "0    high compatibility compatible with iphone xxsm...\n",
            "1    compatible with all type c enabled devices be ...\n",
            "2    fast charger data syncwith builtin safety proc...\n",
            "3    the boat deuce usb in cable is compatible with...\n",
            "4    charge sync function this cable comes with cha...\n",
            "Name: about_product, dtype: object\n"
          ]
        }
      ]
    },
    {
      "cell_type": "markdown",
      "source": [
        "Transform Prices into Numerical Data"
      ],
      "metadata": {
        "id": "bAmTQO1X3QD0"
      }
    },
    {
      "cell_type": "code",
      "source": [
        "# Function to clean price columns\n",
        "def clean_price(price):\n",
        "    price = re.sub(r'[^\\d.]', '', price)  # Remove non-numeric characters (e.g., ₹)\n",
        "    return float(price) if price else 0.0  # Convert to float and handle empty values\n",
        "\n",
        "# Apply cleaning to price columns\n",
        "data['discounted_price'] = data['discounted_price'].apply(clean_price)\n",
        "data['actual_price'] = data['actual_price'].apply(clean_price)\n",
        "\n",
        "# Display the cleaned price columns\n",
        "print(\"Cleaned 'discounted_price':\")\n",
        "print(data['discounted_price'].head())\n",
        "\n",
        "print(\"\\nCleaned 'actual_price':\")\n",
        "print(data['actual_price'].head())\n"
      ],
      "metadata": {
        "colab": {
          "base_uri": "https://localhost:8080/"
        },
        "id": "ZRcKbAoL1qZJ",
        "outputId": "fad34a09-0af3-401e-d95b-2810bdbf7c26"
      },
      "execution_count": null,
      "outputs": [
        {
          "output_type": "stream",
          "name": "stdout",
          "text": [
            "Cleaned 'discounted_price':\n",
            "0    399.0\n",
            "1    199.0\n",
            "2    199.0\n",
            "3    329.0\n",
            "4    154.0\n",
            "Name: discounted_price, dtype: float64\n",
            "\n",
            "Cleaned 'actual_price':\n",
            "0    1099.0\n",
            "1     349.0\n",
            "2    1899.0\n",
            "3     699.0\n",
            "4     399.0\n",
            "Name: actual_price, dtype: float64\n"
          ]
        }
      ]
    },
    {
      "cell_type": "markdown",
      "source": [
        "Encode Categorical Variables (e.g., category)"
      ],
      "metadata": {
        "id": "0TzC6fLK3SiH"
      }
    },
    {
      "cell_type": "code",
      "source": [
        "# Extract top-level category\n",
        "data['top_category'] = data['category'].apply(lambda x: x.split('|')[0])\n",
        "\n",
        "# Display unique top categories\n",
        "print(\"Unique top-level categories:\")\n",
        "print(data['top_category'].unique())\n",
        "\n",
        "# Perform one-hot encoding on the top-level category\n",
        "one_hot_encoded = pd.get_dummies(data['top_category'], prefix='category')\n",
        "\n",
        "# Append the one-hot encoded columns to the dataset\n",
        "data = pd.concat([data, one_hot_encoded], axis=1)\n",
        "\n",
        "# Display a sample of the updated dataset\n",
        "print(\"\\nSample of one-hot encoded categories:\")\n",
        "print(data[['top_category'] + list(one_hot_encoded.columns)].head())\n"
      ],
      "metadata": {
        "colab": {
          "base_uri": "https://localhost:8080/"
        },
        "id": "ExRS5K8y152J",
        "outputId": "df2e8435-e4bb-41f6-e607-6f6d1f7cbe88"
      },
      "execution_count": null,
      "outputs": [
        {
          "output_type": "stream",
          "name": "stdout",
          "text": [
            "Unique top-level categories:\n",
            "['Computers&Accessories' 'Electronics' 'MusicalInstruments'\n",
            " 'OfficeProducts' 'Home&Kitchen' 'HomeImprovement' 'Toys&Games'\n",
            " 'Car&Motorbike' 'Health&PersonalCare']\n",
            "\n",
            "Sample of one-hot encoded categories:\n",
            "            top_category  category_Car&Motorbike  \\\n",
            "0  Computers&Accessories                   False   \n",
            "1  Computers&Accessories                   False   \n",
            "2  Computers&Accessories                   False   \n",
            "3  Computers&Accessories                   False   \n",
            "4  Computers&Accessories                   False   \n",
            "\n",
            "   category_Computers&Accessories  category_Electronics  \\\n",
            "0                            True                 False   \n",
            "1                            True                 False   \n",
            "2                            True                 False   \n",
            "3                            True                 False   \n",
            "4                            True                 False   \n",
            "\n",
            "   category_Health&PersonalCare  category_Home&Kitchen  \\\n",
            "0                         False                  False   \n",
            "1                         False                  False   \n",
            "2                         False                  False   \n",
            "3                         False                  False   \n",
            "4                         False                  False   \n",
            "\n",
            "   category_HomeImprovement  category_MusicalInstruments  \\\n",
            "0                     False                        False   \n",
            "1                     False                        False   \n",
            "2                     False                        False   \n",
            "3                     False                        False   \n",
            "4                     False                        False   \n",
            "\n",
            "   category_OfficeProducts  category_Toys&Games  \n",
            "0                    False                False  \n",
            "1                    False                False  \n",
            "2                    False                False  \n",
            "3                    False                False  \n",
            "4                    False                False  \n"
          ]
        }
      ]
    },
    {
      "cell_type": "markdown",
      "source": [
        "# **Exploratory Data Analysis (EDA)**"
      ],
      "metadata": {
        "id": "ABAveGBv2TYe"
      }
    },
    {
      "cell_type": "markdown",
      "source": [
        "Analyze Product Popularity Based on rating_count and rating"
      ],
      "metadata": {
        "id": "-UsQB-vW2ccm"
      }
    },
    {
      "cell_type": "code",
      "source": [
        "import matplotlib.pyplot as plt\n",
        "import seaborn as sns\n",
        "# Clean and convert 'rating_count' to integers\n",
        "data['rating_count'] = data['rating_count'].str.replace(',', '').astype(int)\n",
        "\n",
        "# Top 5 most-rated products (updated after cleaning)\n",
        "top_rated_products = data.sort_values(by='rating_count', ascending=False).head(5)\n",
        "print(\"Top 5 products with highest rating counts:\")\n",
        "print(top_rated_products[['product_name', 'rating', 'rating_count']])\n",
        "\n",
        "# Distribution of rating_count\n",
        "plt.figure(figsize=(10, 5))\n",
        "sns.histplot(data['rating_count'], bins=20, kde=True)\n",
        "plt.title(\"Distribution of Rating Count\")\n",
        "plt.xlabel(\"Rating Count\")\n",
        "plt.ylabel(\"Frequency\")\n",
        "plt.show()\n",
        "\n",
        "# Distribution of rating\n",
        "plt.figure(figsize=(10, 5))\n",
        "sns.histplot(data['rating'], bins=10, kde=True)\n",
        "plt.title(\"Distribution of Ratings\")\n",
        "plt.xlabel(\"Rating\")\n",
        "plt.ylabel(\"Frequency\")\n",
        "plt.show()\n"
      ],
      "metadata": {
        "colab": {
          "base_uri": "https://localhost:8080/",
          "height": 1000
        },
        "id": "_IN6B3Tb1_A5",
        "outputId": "80220890-6a92-4684-979d-36b100a4fe4c"
      },
      "execution_count": null,
      "outputs": [
        {
          "output_type": "stream",
          "name": "stdout",
          "text": [
            "Top 5 products with highest rating counts:\n",
            "                                          product_name rating  rating_count\n",
            "47   Amazon Basics High-Speed HDMI Cable, 6 Feet - ...    4.4        426973\n",
            "12   AmazonBasics Flexible Premium HDMI Cable (Blac...    4.4        426973\n",
            "65   Amazon Basics High-Speed HDMI Cable, 6 Feet (2...    4.4        426973\n",
            "684  AmazonBasics Flexible Premium HDMI Cable (Blac...    4.4        426972\n",
            "400  boAt Bassheads 100 in Ear Wired Earphones with...    4.1        363713\n"
          ]
        },
        {
          "output_type": "display_data",
          "data": {
            "text/plain": [
              "<Figure size 1000x500 with 1 Axes>"
            ],
            "image/png": "[encoded data removed]"
          },
          "metadata": {}
        },
        {
          "output_type": "display_data",
          "data": {
            "text/plain": [
              "<Figure size 1000x500 with 1 Axes>"
            ],
            "image/png": "[encoded data removed]"
          },
          "metadata": {}
        }
      ]
    },
    {
      "cell_type": "markdown",
      "source": [
        "Identify Highly Discounted Products and Their Impact on Sales"
      ],
      "metadata": {
        "id": "GydArf7g33zH"
      }
    },
    {
      "cell_type": "code",
      "source": [
        "# Clean 'discount_percentage' to remove '%' and convert to numeric\n",
        "data['discount_percentage'] = data['discount_percentage'].str.replace('%', '').astype(float)\n",
        "\n",
        "# Identify highly discounted products (e.g., discount > 50%)\n",
        "highly_discounted = data[data['discount_percentage'] > 50]\n",
        "print(f\"Number of highly discounted products: {len(highly_discounted)}\")\n",
        "print(\"\\nSample of highly discounted products:\")\n",
        "print(highly_discounted[['product_name', 'discounted_price', 'actual_price', 'discount_percentage', 'rating_count']].head())\n",
        "\n",
        "# Plot relationship between discount_percentage and rating_count\n",
        "plt.figure(figsize=(10, 5))\n",
        "sns.scatterplot(x='discount_percentage', y='rating_count', data=data)\n",
        "plt.title(\"Impact of Discount Percentage on Rating Count\")\n",
        "plt.xlabel(\"Discount Percentage\")\n",
        "plt.ylabel(\"Rating Count\")\n",
        "plt.show()\n"
      ],
      "metadata": {
        "id": "P2-FvTBC3XqH",
        "colab": {
          "base_uri": "https://localhost:8080/",
          "height": 742
        },
        "outputId": "6d9748e9-0435-4e83-eadc-5caff66877cf"
      },
      "execution_count": null,
      "outputs": [
        {
          "output_type": "stream",
          "name": "stdout",
          "text": [
            "Number of highly discounted products: 695\n",
            "\n",
            "Sample of highly discounted products:\n",
            "                                        product_name  discounted_price  \\\n",
            "0  Wayona Nylon Braided USB to Lightning Fast Cha...             399.0   \n",
            "2  Sounce Fast Phone Charging Cable & Data Sync U...             199.0   \n",
            "3  boAt Deuce USB 300 2 in 1 Type-C & Micro USB S...             329.0   \n",
            "4  Portronics Konnect L 1.2M Fast Charging 3A 8 P...             154.0   \n",
            "5  pTron Solero TB301 3A Type-C Data and Fast Cha...             149.0   \n",
            "\n",
            "   actual_price  discount_percentage  rating_count  \n",
            "0        1099.0                 64.0         24269  \n",
            "2        1899.0                 90.0          7928  \n",
            "3         699.0                 53.0         94363  \n",
            "4         399.0                 61.0         16905  \n",
            "5        1000.0                 85.0         24871  \n"
          ]
        },
        {
          "output_type": "display_data",
          "data": {
            "text/plain": [
              "<Figure size 1000x500 with 1 Axes>"
            ],
            "image/png": "[encoded data removed]"
          },
          "metadata": {}
        }
      ]
    },
    {
      "cell_type": "markdown",
      "source": [
        "Investigate Correlations Between category, discount_percentage, and ratings"
      ],
      "metadata": {
        "id": "q6Ci9ZPU4C8A"
      }
    },
    {
      "cell_type": "code",
      "source": [
        "# Ensure 'rating_count' is numeric (already cleaned earlier)\n",
        "data['rating_count'] = pd.to_numeric(data['rating_count'], errors='coerce')\n",
        "\n",
        "# Ensure 'discount_percentage' and 'rating' are numeric\n",
        "data['discount_percentage'] = pd.to_numeric(data['discount_percentage'], errors='coerce')\n",
        "data['rating'] = pd.to_numeric(data['rating'], errors='coerce')\n",
        "\n",
        "# Recalculate the correlation matrix\n",
        "correlation_matrix = data[['discount_percentage', 'rating', 'rating_count']].corr()\n",
        "print(\"Correlation Matrix:\")\n",
        "print(correlation_matrix)\n",
        "\n",
        "# Average discount and ratings per category\n",
        "category_analysis = data.groupby('top_category').agg({\n",
        "    'discount_percentage': 'mean',\n",
        "    'rating': 'mean'\n",
        "}).reset_index()\n",
        "\n",
        "print(\"\\nAverage Discount Percentage and Rating per Category:\")\n",
        "print(category_analysis)\n",
        "\n",
        "# Visualize average discount and ratings per category\n",
        "plt.figure(figsize=(10, 5))\n",
        "sns.barplot(x='discount_percentage', y='top_category', data=category_analysis, palette='viridis')\n",
        "plt.title(\"Average Discount Percentage by Category\")\n",
        "plt.xlabel(\"Average Discount Percentage\")\n",
        "plt.ylabel(\"Category\")\n",
        "plt.show()\n",
        "\n",
        "plt.figure(figsize=(10, 5))\n",
        "sns.barplot(x='rating', y='top_category', data=category_analysis, palette='coolwarm')\n",
        "plt.title(\"Average Rating by Category\")\n",
        "plt.xlabel(\"Average Rating\")\n",
        "plt.ylabel(\"Category\")\n",
        "plt.show()\n"
      ],
      "metadata": {
        "colab": {
          "base_uri": "https://localhost:8080/",
          "height": 1000
        },
        "id": "E-ZC1iN735z2",
        "outputId": "da9c1409-f332-4a5b-db4d-68f9b4284102"
      },
      "execution_count": null,
      "outputs": [
        {
          "output_type": "stream",
          "name": "stdout",
          "text": [
            "Correlation Matrix:\n",
            "                     discount_percentage    rating  rating_count\n",
            "discount_percentage             1.000000 -0.155375      0.010868\n",
            "rating                         -0.155375  1.000000      0.101584\n",
            "rating_count                    0.010868  0.101584      1.000000\n",
            "\n",
            "Average Discount Percentage and Rating per Category:\n",
            "            top_category  discount_percentage    rating\n",
            "0          Car&Motorbike            42.000000  3.800000\n",
            "1  Computers&Accessories            54.024283  4.154967\n",
            "2            Electronics            50.828897  4.081749\n",
            "3    Health&PersonalCare            53.000000  4.000000\n",
            "4           Home&Kitchen            40.120536  4.040716\n",
            "5        HomeImprovement            57.500000  4.250000\n",
            "6     MusicalInstruments            46.000000  3.900000\n",
            "7         OfficeProducts            12.354839  4.309677\n",
            "8             Toys&Games             0.000000  4.300000\n"
          ]
        },
        {
          "output_type": "stream",
          "name": "stderr",
          "text": [
            "<ipython-input-23-d3bcae973f07>:24: FutureWarning: \n",
            "\n",
            "Passing `palette` without assigning `hue` is deprecated and will be removed in v0.14.0. Assign the `y` variable to `hue` and set `legend=False` for the same effect.\n",
            "\n",
            "  sns.barplot(x='discount_percentage', y='top_category', data=category_analysis, palette='viridis')\n"
          ]
        },
        {
          "output_type": "display_data",
          "data": {
            "text/plain": [
              "<Figure size 1000x500 with 1 Axes>"
            ],
            "image/png": "[encoded data removed]"
          },
          "metadata": {}
        },
        {
          "output_type": "stream",
          "name": "stderr",
          "text": [
            "<ipython-input-23-d3bcae973f07>:31: FutureWarning: \n",
            "\n",
            "Passing `palette` without assigning `hue` is deprecated and will be removed in v0.14.0. Assign the `y` variable to `hue` and set `legend=False` for the same effect.\n",
            "\n",
            "  sns.barplot(x='rating', y='top_category', data=category_analysis, palette='coolwarm')\n"
          ]
        },
        {
          "output_type": "display_data",
          "data": {
            "text/plain": [
              "<Figure size 1000x500 with 1 Axes>"
            ],
            "image/png": "[encoded data removed]"
          },
          "metadata": {}
        }
      ]
    },
    {
      "cell_type": "markdown",
      "source": [
        "# **Collaborative Filtering**"
      ],
      "metadata": {
        "id": "-2FctrHk4-20"
      }
    },
    {
      "cell_type": "markdown",
      "source": [
        "Create a User-Item Interaction Matrix"
      ],
      "metadata": {
        "id": "bVwGadGn5Dhq"
      }
    },
    {
      "cell_type": "code",
      "source": [
        "# Ensure that 'rating' is numeric (if not already done)\n",
        "data['rating'] = pd.to_numeric(data['rating'], errors='coerce')\n",
        "\n",
        "# Create a user-item interaction matrix\n",
        "user_item_matrix = data.pivot_table(index='user_id', columns='product_id', values='rating')\n",
        "\n",
        "# Display a sample of the user-item interaction matrix\n",
        "print(\"User-Item Interaction Matrix (Sample):\")\n",
        "print(user_item_matrix.head())\n",
        "\n",
        "# Check the sparsity of the matrix\n",
        "total_elements = user_item_matrix.size\n",
        "non_zero_elements = user_item_matrix.count().sum()\n",
        "sparsity = 1 - (non_zero_elements / total_elements)\n",
        "print(f\"\\nMatrix Sparsity: {sparsity:.2%}\")\n"
      ],
      "metadata": {
        "colab": {
          "base_uri": "https://localhost:8080/"
        },
        "id": "cHgxpEJT4PCm",
        "outputId": "e58ffc5c-c6c8-4279-8493-8e9b058b6f10"
      },
      "execution_count": null,
      "outputs": [
        {
          "output_type": "stream",
          "name": "stdout",
          "text": [
            "User-Item Interaction Matrix (Sample):\n",
            "product_id                                          B002PD61Y4  B002SZEOLG  \\\n",
            "user_id                                                                      \n",
            "AE22Y3KIS7SE6LI3HE2VS6WWPU4Q,AHWEYO2IJ5I5GDWZAH...         NaN         NaN   \n",
            "AE23RS3W7GZO7LHYKJU6KSKVM4MQ,AEQUNEY6GQOTEGUMS6...         NaN         NaN   \n",
            "AE242TR3GQ6TYC6W4SJ5UYYKBTYQ                               NaN         NaN   \n",
            "AE27UOZENYSWCQVQRRUQIV2ZM7VA,AGMYSLV6NNOAYES25J...         NaN         NaN   \n",
            "AE2JTMRKTUOIVIZWS2WDGTMNTU4Q,AF4QXCB32VC2DVE7O3...         NaN         NaN   \n",
            "\n",
            "product_id                                          B003B00484  B003L62T7W  \\\n",
            "user_id                                                                      \n",
            "AE22Y3KIS7SE6LI3HE2VS6WWPU4Q,AHWEYO2IJ5I5GDWZAH...         NaN         NaN   \n",
            "AE23RS3W7GZO7LHYKJU6KSKVM4MQ,AEQUNEY6GQOTEGUMS6...         NaN         NaN   \n",
            "AE242TR3GQ6TYC6W4SJ5UYYKBTYQ                               NaN         NaN   \n",
            "AE27UOZENYSWCQVQRRUQIV2ZM7VA,AGMYSLV6NNOAYES25J...         NaN         NaN   \n",
            "AE2JTMRKTUOIVIZWS2WDGTMNTU4Q,AF4QXCB32VC2DVE7O3...         NaN         NaN   \n",
            "\n",
            "product_id                                          B004IO5BMQ  B005FYNT3G  \\\n",
            "user_id                                                                      \n",
            "AE22Y3KIS7SE6LI3HE2VS6WWPU4Q,AHWEYO2IJ5I5GDWZAH...         NaN         NaN   \n",
            "AE23RS3W7GZO7LHYKJU6KSKVM4MQ,AEQUNEY6GQOTEGUMS6...         NaN         NaN   \n",
            "AE242TR3GQ6TYC6W4SJ5UYYKBTYQ                               NaN         NaN   \n",
            "AE27UOZENYSWCQVQRRUQIV2ZM7VA,AGMYSLV6NNOAYES25J...         NaN         NaN   \n",
            "AE2JTMRKTUOIVIZWS2WDGTMNTU4Q,AF4QXCB32VC2DVE7O3...         NaN         NaN   \n",
            "\n",
            "product_id                                          B005LJQMCK  B005LJQMZC  \\\n",
            "user_id                                                                      \n",
            "AE22Y3KIS7SE6LI3HE2VS6WWPU4Q,AHWEYO2IJ5I5GDWZAH...         NaN         NaN   \n",
            "AE23RS3W7GZO7LHYKJU6KSKVM4MQ,AEQUNEY6GQOTEGUMS6...         NaN         NaN   \n",
            "AE242TR3GQ6TYC6W4SJ5UYYKBTYQ                               NaN         NaN   \n",
            "AE27UOZENYSWCQVQRRUQIV2ZM7VA,AGMYSLV6NNOAYES25J...         NaN         NaN   \n",
            "AE2JTMRKTUOIVIZWS2WDGTMNTU4Q,AF4QXCB32VC2DVE7O3...         NaN         NaN   \n",
            "\n",
            "product_id                                          B006LW0WDQ  B0073QGKAS  \\\n",
            "user_id                                                                      \n",
            "AE22Y3KIS7SE6LI3HE2VS6WWPU4Q,AHWEYO2IJ5I5GDWZAH...         NaN         NaN   \n",
            "AE23RS3W7GZO7LHYKJU6KSKVM4MQ,AEQUNEY6GQOTEGUMS6...         NaN         NaN   \n",
            "AE242TR3GQ6TYC6W4SJ5UYYKBTYQ                               NaN         NaN   \n",
            "AE27UOZENYSWCQVQRRUQIV2ZM7VA,AGMYSLV6NNOAYES25J...         NaN         NaN   \n",
            "AE2JTMRKTUOIVIZWS2WDGTMNTU4Q,AF4QXCB32VC2DVE7O3...         NaN         NaN   \n",
            "\n",
            "product_id                                          ...  B0BP18W8TM  \\\n",
            "user_id                                             ...               \n",
            "AE22Y3KIS7SE6LI3HE2VS6WWPU4Q,AHWEYO2IJ5I5GDWZAH...  ...         NaN   \n",
            "AE23RS3W7GZO7LHYKJU6KSKVM4MQ,AEQUNEY6GQOTEGUMS6...  ...         NaN   \n",
            "AE242TR3GQ6TYC6W4SJ5UYYKBTYQ                        ...         NaN   \n",
            "AE27UOZENYSWCQVQRRUQIV2ZM7VA,AGMYSLV6NNOAYES25J...  ...         NaN   \n",
            "AE2JTMRKTUOIVIZWS2WDGTMNTU4Q,AF4QXCB32VC2DVE7O3...  ...         NaN   \n",
            "\n",
            "product_id                                          B0BP7XLX48  B0BP89YBC1  \\\n",
            "user_id                                                                      \n",
            "AE22Y3KIS7SE6LI3HE2VS6WWPU4Q,AHWEYO2IJ5I5GDWZAH...         NaN         NaN   \n",
            "AE23RS3W7GZO7LHYKJU6KSKVM4MQ,AEQUNEY6GQOTEGUMS6...         NaN         NaN   \n",
            "AE242TR3GQ6TYC6W4SJ5UYYKBTYQ                               NaN         NaN   \n",
            "AE27UOZENYSWCQVQRRUQIV2ZM7VA,AGMYSLV6NNOAYES25J...         NaN         NaN   \n",
            "AE2JTMRKTUOIVIZWS2WDGTMNTU4Q,AF4QXCB32VC2DVE7O3...         NaN         NaN   \n",
            "\n",
            "product_id                                          B0BPBG712X  B0BPBXNQQT  \\\n",
            "user_id                                                                      \n",
            "AE22Y3KIS7SE6LI3HE2VS6WWPU4Q,AHWEYO2IJ5I5GDWZAH...         NaN         NaN   \n",
            "AE23RS3W7GZO7LHYKJU6KSKVM4MQ,AEQUNEY6GQOTEGUMS6...         NaN         NaN   \n",
            "AE242TR3GQ6TYC6W4SJ5UYYKBTYQ                               NaN         NaN   \n",
            "AE27UOZENYSWCQVQRRUQIV2ZM7VA,AGMYSLV6NNOAYES25J...         NaN         NaN   \n",
            "AE2JTMRKTUOIVIZWS2WDGTMNTU4Q,AF4QXCB32VC2DVE7O3...         NaN         NaN   \n",
            "\n",
            "product_id                                          B0BPCJM7TB  B0BPJBTB3F  \\\n",
            "user_id                                                                      \n",
            "AE22Y3KIS7SE6LI3HE2VS6WWPU4Q,AHWEYO2IJ5I5GDWZAH...         NaN         NaN   \n",
            "AE23RS3W7GZO7LHYKJU6KSKVM4MQ,AEQUNEY6GQOTEGUMS6...         NaN         NaN   \n",
            "AE242TR3GQ6TYC6W4SJ5UYYKBTYQ                               NaN         NaN   \n",
            "AE27UOZENYSWCQVQRRUQIV2ZM7VA,AGMYSLV6NNOAYES25J...         NaN         NaN   \n",
            "AE2JTMRKTUOIVIZWS2WDGTMNTU4Q,AF4QXCB32VC2DVE7O3...         NaN         NaN   \n",
            "\n",
            "product_id                                          B0BQ3K23Y1  B0BQRJ3C47  \\\n",
            "user_id                                                                      \n",
            "AE22Y3KIS7SE6LI3HE2VS6WWPU4Q,AHWEYO2IJ5I5GDWZAH...         NaN         NaN   \n",
            "AE23RS3W7GZO7LHYKJU6KSKVM4MQ,AEQUNEY6GQOTEGUMS6...         NaN         NaN   \n",
            "AE242TR3GQ6TYC6W4SJ5UYYKBTYQ                               NaN         NaN   \n",
            "AE27UOZENYSWCQVQRRUQIV2ZM7VA,AGMYSLV6NNOAYES25J...         NaN         NaN   \n",
            "AE2JTMRKTUOIVIZWS2WDGTMNTU4Q,AF4QXCB32VC2DVE7O3...         NaN         NaN   \n",
            "\n",
            "product_id                                          B0BR4F878Q  \n",
            "user_id                                                         \n",
            "AE22Y3KIS7SE6LI3HE2VS6WWPU4Q,AHWEYO2IJ5I5GDWZAH...         NaN  \n",
            "AE23RS3W7GZO7LHYKJU6KSKVM4MQ,AEQUNEY6GQOTEGUMS6...         NaN  \n",
            "AE242TR3GQ6TYC6W4SJ5UYYKBTYQ                               NaN  \n",
            "AE27UOZENYSWCQVQRRUQIV2ZM7VA,AGMYSLV6NNOAYES25J...         NaN  \n",
            "AE2JTMRKTUOIVIZWS2WDGTMNTU4Q,AF4QXCB32VC2DVE7O3...         NaN  \n",
            "\n",
            "[5 rows x 1350 columns]\n",
            "\n",
            "Matrix Sparsity: 99.92%\n"
          ]
        }
      ]
    },
    {
      "cell_type": "markdown",
      "source": [
        "Apply Memory-Based Collaborative Filtering Using Cosine Similarity"
      ],
      "metadata": {
        "id": "iE_j8Qwb5MRl"
      }
    },
    {
      "cell_type": "code",
      "source": [
        "from sklearn.metrics.pairwise import cosine_similarity\n",
        "import numpy as np\n",
        "import pandas as pd\n",
        "\n",
        "# Fill missing values in the user-item matrix with 0\n",
        "user_item_matrix_filled = user_item_matrix.fillna(0)\n",
        "\n",
        "# Compute user-user similarity using cosine similarity\n",
        "user_similarity = cosine_similarity(user_item_matrix_filled)\n",
        "user_similarity_df = pd.DataFrame(user_similarity, index=user_item_matrix_filled.index, columns=user_item_matrix_filled.index)\n",
        "\n",
        "# Display a sample of the user-user similarity matrix\n",
        "print(\"User-User Similarity Matrix (Sample):\")\n",
        "print(user_similarity_df.iloc[:5, :5])\n",
        "\n",
        "# Find top similar users for a random user\n",
        "random_user = user_item_matrix_filled.index[0]  # Change the index for a specific user\n",
        "similar_users = user_similarity_df.loc[random_user].sort_values(ascending=False).head(5)\n",
        "print(f\"\\nTop 5 similar users to '{random_user}':\")\n",
        "print(similar_users)\n"
      ],
      "metadata": {
        "colab": {
          "base_uri": "https://localhost:8080/"
        },
        "id": "2ZEApSDE5HS1",
        "outputId": "cd7a88a3-8789-471d-ea89-19b63b72cc46"
      },
      "execution_count": null,
      "outputs": [
        {
          "output_type": "stream",
          "name": "stdout",
          "text": [
            "User-User Similarity Matrix (Sample):\n",
            "user_id                                             AE22Y3KIS7SE6LI3HE2VS6WWPU4Q,AHWEYO2IJ5I5GDWZAHJK6NGYHFMA,AGYURQ3476BNT4D2O46THXEUY3SA,AFPMBSBIEX45OQ6UCQWPDG55GWLQ,AGWJU3WUQBDQYPSYAJSR3AKBLCOA,AEOVUNFCIFV223O536GVW5JHZKOA  \\\n",
            "user_id                                                                                                                                                                                                                             \n",
            "AE22Y3KIS7SE6LI3HE2VS6WWPU4Q,AHWEYO2IJ5I5GDWZAH...                                                1.0                                                                                                                               \n",
            "AE23RS3W7GZO7LHYKJU6KSKVM4MQ,AEQUNEY6GQOTEGUMS6...                                                0.0                                                                                                                               \n",
            "AE242TR3GQ6TYC6W4SJ5UYYKBTYQ                                                                      0.0                                                                                                                               \n",
            "AE27UOZENYSWCQVQRRUQIV2ZM7VA,AGMYSLV6NNOAYES25J...                                                0.0                                                                                                                               \n",
            "AE2JTMRKTUOIVIZWS2WDGTMNTU4Q,AF4QXCB32VC2DVE7O3...                                                0.0                                                                                                                               \n",
            "\n",
            "user_id                                             AE23RS3W7GZO7LHYKJU6KSKVM4MQ,AEQUNEY6GQOTEGUMS6KRUEYNXJSQ,AGYPIE5BICV44WEEEPJVEFQOCJSQ,AFR7CEQKWZE53IHHOWBIPAMYKL4Q,AGBV7FBP4SEITF6UKRFKTV7O32IA,AHQVOY54QKPIQZIJ57JKCGQPVV3Q,AEMCVRRD3XQRGFHC2VFCXHJEMESQ,AFBWXU7DUWCIK5MRDCLBXWTWN7ZQ  \\\n",
            "user_id                                                                                                                                                                                                                                                                                       \n",
            "AE22Y3KIS7SE6LI3HE2VS6WWPU4Q,AHWEYO2IJ5I5GDWZAH...                                                0.0                                                                                                                                                                                         \n",
            "AE23RS3W7GZO7LHYKJU6KSKVM4MQ,AEQUNEY6GQOTEGUMS6...                                                1.0                                                                                                                                                                                         \n",
            "AE242TR3GQ6TYC6W4SJ5UYYKBTYQ                                                                      0.0                                                                                                                                                                                         \n",
            "AE27UOZENYSWCQVQRRUQIV2ZM7VA,AGMYSLV6NNOAYES25J...                                                0.0                                                                                                                                                                                         \n",
            "AE2JTMRKTUOIVIZWS2WDGTMNTU4Q,AF4QXCB32VC2DVE7O3...                                                0.0                                                                                                                                                                                         \n",
            "\n",
            "user_id                                             AE242TR3GQ6TYC6W4SJ5UYYKBTYQ  \\\n",
            "user_id                                                                            \n",
            "AE22Y3KIS7SE6LI3HE2VS6WWPU4Q,AHWEYO2IJ5I5GDWZAH...                           0.0   \n",
            "AE23RS3W7GZO7LHYKJU6KSKVM4MQ,AEQUNEY6GQOTEGUMS6...                           0.0   \n",
            "AE242TR3GQ6TYC6W4SJ5UYYKBTYQ                                                 1.0   \n",
            "AE27UOZENYSWCQVQRRUQIV2ZM7VA,AGMYSLV6NNOAYES25J...                           0.0   \n",
            "AE2JTMRKTUOIVIZWS2WDGTMNTU4Q,AF4QXCB32VC2DVE7O3...                           0.0   \n",
            "\n",
            "user_id                                             AE27UOZENYSWCQVQRRUQIV2ZM7VA,AGMYSLV6NNOAYES25JDTJPCZY47A,AFHS33MWRQGSS64EETZJGCBWXXXA,AHYXZVXUY3QTBP7IBFIUBSZVH2XQ,AH2SHWYEWDAK6A5Y2ZBEMZ2KIG3A,AEYMOGP2CYRKYZ7TIDNLGR5QPZ4Q,AGPGDCCXPI3EACMNJKBCNT57DVFA,AFPBMRYRSMD3PP3CBKLFF7EKOCXA  \\\n",
            "user_id                                                                                                                                                                                                                                                                                       \n",
            "AE22Y3KIS7SE6LI3HE2VS6WWPU4Q,AHWEYO2IJ5I5GDWZAH...                                                0.0                                                                                                                                                                                         \n",
            "AE23RS3W7GZO7LHYKJU6KSKVM4MQ,AEQUNEY6GQOTEGUMS6...                                                0.0                                                                                                                                                                                         \n",
            "AE242TR3GQ6TYC6W4SJ5UYYKBTYQ                                                                      0.0                                                                                                                                                                                         \n",
            "AE27UOZENYSWCQVQRRUQIV2ZM7VA,AGMYSLV6NNOAYES25J...                                                1.0                                                                                                                                                                                         \n",
            "AE2JTMRKTUOIVIZWS2WDGTMNTU4Q,AF4QXCB32VC2DVE7O3...                                                0.0                                                                                                                                                                                         \n",
            "\n",
            "user_id                                             AE2JTMRKTUOIVIZWS2WDGTMNTU4Q,AF4QXCB32VC2DVE7O3DGFNQVFFNQ,AGAFYHMPFGVPR3MOS4QAZLAWPW3A,AGNNWLEF6V57TKIFJM7SWHNFAIQQ,AFVIPOPKMOCVCX3CMXUJHMWDIMGA,AH6MFUU725GG4KA3XTALSTU2ILHA,AGQYTSKE2UBYARZYRBADQMX6BJPQ,AG7F66F724JZ2HIJQY7NOU5M5D2Q  \n",
            "user_id                                                                                                                                                                                                                                                                                      \n",
            "AE22Y3KIS7SE6LI3HE2VS6WWPU4Q,AHWEYO2IJ5I5GDWZAH...                                                0.0                                                                                                                                                                                        \n",
            "AE23RS3W7GZO7LHYKJU6KSKVM4MQ,AEQUNEY6GQOTEGUMS6...                                                0.0                                                                                                                                                                                        \n",
            "AE242TR3GQ6TYC6W4SJ5UYYKBTYQ                                                                      0.0                                                                                                                                                                                        \n",
            "AE27UOZENYSWCQVQRRUQIV2ZM7VA,AGMYSLV6NNOAYES25J...                                                0.0                                                                                                                                                                                        \n",
            "AE2JTMRKTUOIVIZWS2WDGTMNTU4Q,AF4QXCB32VC2DVE7O3...                                                1.0                                                                                                                                                                                        \n",
            "\n",
            "Top 5 similar users to 'AE22Y3KIS7SE6LI3HE2VS6WWPU4Q,AHWEYO2IJ5I5GDWZAHJK6NGYHFMA,AGYURQ3476BNT4D2O46THXEUY3SA,AFPMBSBIEX45OQ6UCQWPDG55GWLQ,AGWJU3WUQBDQYPSYAJSR3AKBLCOA,AEOVUNFCIFV223O536GVW5JHZKOA':\n",
            "user_id\n",
            "AE22Y3KIS7SE6LI3HE2VS6WWPU4Q,AHWEYO2IJ5I5GDWZAHJK6NGYHFMA,AGYURQ3476BNT4D2O46THXEUY3SA,AFPMBSBIEX45OQ6UCQWPDG55GWLQ,AGWJU3WUQBDQYPSYAJSR3AKBLCOA,AEOVUNFCIFV223O536GVW5JHZKOA                                                              1.0\n",
            "AGP7FT53TVZYTLYSU63C77AMNKRA,AFYO7NAUE7PLQZUFAXIANYIKNX6A,AHJ6VHL36QKYZYOZPWP5QD3H4DQQ,AHJI2MF55Q5TE6JR2TUNNJXTACHQ,AFJ5FUWKGY7XDPJOCMQ7EZQYHEFA,AFCWD3PO4G6GJVEEMXGD4B3XDC3Q,AGEUYI7ZTBU6QTOBHLOUNLD2XTSQ,AEXBFL4AVC5RWOOWW4X5J3RV5MQQ    0.0\n",
            "AGP5YURZQ6W2GKYILORIGKB3NDUQ,AEPAZYTLJQKDOZBSNB35SQF6CMUQ,AHDSX7NV3NZQB2NZ4RLIOBKUOMYQ,AEDL37BWW4MEOIJFCGUXHFUQRXGQ,AFJN6RLNPLI6R42GH7IMYMMOXGMA,AERJQGP7X4KVPD26I4WOZDDP23KQ                                                              0.0\n",
            "AGOYJRXFFVVGZDJTZV474WDLAPUA,AFU33Y7EUIZTFCE3QHWISRFUAG2Q,AE6DRYSJVPHBCSHCTRNULSU2D4CA,AHSRHKUU5AZ5ONNHBV3XIT6SOI7Q,AGDJSUUWIZJCPVADFXORM7A6KD6Q,AFTIB5G46ORBIMWQMKAWPGRTLR2Q,AFYDOUCV4JCJESNQ57MXOVGSJ5PQ,AHK23XTCQSYWXJS2PHSGZP7TDHOA    0.0\n",
            "AGOWF5LLDDKUJTPYF4WOO5RKT4JA,AGIJWXZQV3F5BX3NCSWDZVKK4RCQ,AFJH7QKP457YR2ZYLVCPSMM5SWHQ,AEUFJD6BX2IQCSBOKNA7MQFE7QKA,AHCBFTWURJCUA25OV4KMXCRKG64A,AFBJK7AC7CHF64YGGCYORLZKDJPA,AFS3FJBEMAQT6KHZEAOPUHRCVQ7A,AFCWNR2KVRYPLSRP4RNLWZVM6TSA    0.0\n",
            "Name: AE22Y3KIS7SE6LI3HE2VS6WWPU4Q,AHWEYO2IJ5I5GDWZAHJK6NGYHFMA,AGYURQ3476BNT4D2O46THXEUY3SA,AFPMBSBIEX45OQ6UCQWPDG55GWLQ,AGWJU3WUQBDQYPSYAJSR3AKBLCOA,AEOVUNFCIFV223O536GVW5JHZKOA, dtype: float64\n"
          ]
        }
      ]
    },
    {
      "cell_type": "markdown",
      "source": [
        "Generate Recommendations Based on Similar Users"
      ],
      "metadata": {
        "id": "dXiebYRN5T8u"
      }
    },
    {
      "cell_type": "code",
      "source": [
        "def recommend_products(user_id, user_similarity_df, user_item_matrix, top_n=5):\n",
        "    # Get similar users and their similarity scores\n",
        "    similar_users = user_similarity_df[user_id].sort_values(ascending=False).iloc[1:]  # Exclude the user themselves\n",
        "\n",
        "    # Get the products rated by similar users\n",
        "    similar_users_ratings = user_item_matrix.loc[similar_users.index]\n",
        "\n",
        "    # Calculate predicted ratings for the target user\n",
        "    predicted_ratings = similar_users_ratings.T.dot(similar_users) / similar_users.sum()\n",
        "\n",
        "    # Exclude products already rated by the target user\n",
        "    user_rated_products = user_item_matrix.loc[user_id][user_item_matrix.loc[user_id].notna()].index\n",
        "    recommendations = predicted_ratings[~predicted_ratings.index.isin(user_rated_products)]\n",
        "\n",
        "    # Return top N recommended products\n",
        "    return recommendations.sort_values(ascending=False).head(top_n)\n",
        "\n",
        "# Example: Recommend products for a specific user\n",
        "target_user = user_item_matrix.index[0]  # Replace with a specific user ID if needed\n",
        "recommended_products = recommend_products(target_user, user_similarity_df, user_item_matrix_filled)\n",
        "print(f\"\\nTop recommended products for user '{target_user}':\")\n",
        "print(recommended_products)\n"
      ],
      "metadata": {
        "colab": {
          "base_uri": "https://localhost:8080/"
        },
        "id": "k1H9EYu_5N1l",
        "outputId": "34a9b55a-7329-4470-9672-a9782d4f6d26"
      },
      "execution_count": null,
      "outputs": [
        {
          "output_type": "stream",
          "name": "stdout",
          "text": [
            "\n",
            "Top recommended products for user 'AE22Y3KIS7SE6LI3HE2VS6WWPU4Q,AHWEYO2IJ5I5GDWZAHJK6NGYHFMA,AGYURQ3476BNT4D2O46THXEUY3SA,AFPMBSBIEX45OQ6UCQWPDG55GWLQ,AGWJU3WUQBDQYPSYAJSR3AKBLCOA,AEOVUNFCIFV223O536GVW5JHZKOA':\n",
            "Series([], dtype: float64)\n"
          ]
        }
      ]
    },
    {
      "cell_type": "markdown",
      "source": [
        "The result shows that there are no recommended products for the target user. This happens because the dataset is extremely sparse (99.92% sparsity), meaning:\n",
        "\n",
        "The target user has no significant overlap in rated products with other users.\n",
        "The similarity scores with other users are either zero or very low, resulting in no predicted ratings.\n"
      ],
      "metadata": {
        "id": "qmB5LCtJ50kh"
      }
    },
    {
      "cell_type": "markdown",
      "source": [
        "Item-Based Collaborative Filtering"
      ],
      "metadata": {
        "id": "vgoTF2ea51Id"
      }
    },
    {
      "cell_type": "code",
      "source": [
        "# Compute item-item similarity using cosine similarity\n",
        "item_similarity = cosine_similarity(user_item_matrix_filled.T)\n",
        "item_similarity_df = pd.DataFrame(item_similarity, index=user_item_matrix_filled.columns, columns=user_item_matrix_filled.columns)\n",
        "\n",
        "# Function to recommend products based on item similarity\n",
        "def recommend_products_item_based(user_id, user_item_matrix, item_similarity_df, top_n=5):\n",
        "    # Get products rated by the user\n",
        "    user_ratings = user_item_matrix.loc[user_id]\n",
        "    rated_products = user_ratings[user_ratings.notna()].index\n",
        "\n",
        "    # Calculate scores for products not rated by the user\n",
        "    scores = item_similarity_df.loc[rated_products].dot(user_ratings[rated_products].fillna(0))\n",
        "    scores = scores / item_similarity_df.loc[rated_products].sum()\n",
        "\n",
        "    # Exclude already rated products\n",
        "    recommendations = scores[~scores.index.isin(rated_products)]\n",
        "\n",
        "    # Return top N recommendations\n",
        "    return recommendations.sort_values(ascending=False).head(top_n)\n",
        "\n",
        "# Example: Recommend products for a specific user using item-based filtering\n",
        "recommended_products_item = recommend_products_item_based(target_user, user_item_matrix_filled, item_similarity_df)\n",
        "print(f\"\\nTop recommended products for user '{target_user}' (Item-Based):\")\n",
        "print(recommended_products_item)\n"
      ],
      "metadata": {
        "colab": {
          "base_uri": "https://localhost:8080/"
        },
        "id": "7yO8_iTb5WEk",
        "outputId": "783c5183-353f-4f97-d49a-14a6fd624dc3"
      },
      "execution_count": null,
      "outputs": [
        {
          "output_type": "stream",
          "name": "stdout",
          "text": [
            "\n",
            "Top recommended products for user 'AE22Y3KIS7SE6LI3HE2VS6WWPU4Q,AHWEYO2IJ5I5GDWZAHJK6NGYHFMA,AGYURQ3476BNT4D2O46THXEUY3SA,AFPMBSBIEX45OQ6UCQWPDG55GWLQ,AGWJU3WUQBDQYPSYAJSR3AKBLCOA,AEOVUNFCIFV223O536GVW5JHZKOA' (Item-Based):\n",
            "Series([], dtype: float64)\n"
          ]
        }
      ]
    },
    {
      "cell_type": "markdown",
      "source": [
        "The sparsity of the dataset continues to impact the recommendation process. Both user-based and item-based collaborative filtering approaches are not yielding results due to the lack of overlap in interactions. This is a common issue in datasets with extreme sparsity, and it highlights the limitations of memory-based collaborative filtering in such cases.\n",
        "\n",
        "Solution: Move to a Model-Based Approach (Matrix Factorization)\n",
        "Matrix factorization methods like Singular Value Decomposition (SVD) are better suited for sparse datasets. These methods extract latent factors from the user-item matrix to model interactions and predict ratings."
      ],
      "metadata": {
        "id": "MAGFmke06DEx"
      }
    },
    {
      "cell_type": "markdown",
      "source": [
        "Implement SVD for Collaborative Filtering"
      ],
      "metadata": {
        "id": "QccYNSzp6GKX"
      }
    },
    {
      "cell_type": "code",
      "source": [
        "!pip install scikit-surprise\n",
        "\n",
        "from surprise import SVD, Dataset, Reader\n",
        "from surprise.model_selection import train_test_split\n",
        "from surprise import accuracy\n",
        "\n",
        "# Prepare the data for Surprise\n",
        "reader = Reader(rating_scale=(1, 5))  # Assuming ratings are between 1 and 5\n",
        "data_for_surprise = data[['user_id', 'product_id', 'rating']].dropna()  # Drop rows with missing ratings\n",
        "\n",
        "# Load data into Surprise's Dataset format\n",
        "surprise_data = Dataset.load_from_df(data_for_surprise, reader)\n",
        "\n",
        "# Split the data into training and testing sets\n",
        "trainset, testset = train_test_split(surprise_data, test_size=0.2)\n",
        "\n",
        "# Train the SVD model\n",
        "svd_model = SVD()\n",
        "svd_model.fit(trainset)\n",
        "\n",
        "# Evaluate the model on the test set\n",
        "predictions = svd_model.test(testset)\n",
        "rmse = accuracy.rmse(predictions)\n",
        "print(f\"\\nRoot Mean Squared Error (RMSE): {rmse}\")\n"
      ],
      "metadata": {
        "colab": {
          "base_uri": "https://localhost:8080/"
        },
        "id": "EE0Rwl8B56JG",
        "outputId": "b7e7467d-6072-4946-b5e3-bfbaf8e9a71f"
      },
      "execution_count": null,
      "outputs": [
        {
          "output_type": "stream",
          "name": "stdout",
          "text": [
            "Collecting scikit-surprise\n",
            "  Downloading scikit_surprise-1.1.4.tar.gz (154 kB)\n",
            "\u001b[?25l     \u001b[90m━━━━━━━━━━━━━━━━━━━━━━━━━━━━━━━━━━━━━━━━\u001b[0m \u001b[32m0.0/154.4 kB\u001b[0m \u001b[31m?\u001b[0m eta \u001b[36m-:--:--\u001b[0m\r\u001b[2K     \u001b[90m━━━━━━━━━━━━━━━━━━━━━━━━━━━━━━━━━━━━━━━━\u001b[0m \u001b[32m154.4/154.4 kB\u001b[0m \u001b[31m8.2 MB/s\u001b[0m eta \u001b[36m0:00:00\u001b[0m\n",
            "\u001b[?25h  Installing build dependencies ... \u001b[?25l\u001b[?25hdone\n",
            "  Getting requirements to build wheel ... \u001b[?25l\u001b[?25hdone\n",
            "  Preparing metadata (pyproject.toml) ... \u001b[?25l\u001b[?25hdone\n",
            "Requirement already satisfied: joblib>=1.2.0 in /usr/local/lib/python3.11/dist-packages (from scikit-surprise) (1.4.2)\n",
            "Requirement already satisfied: numpy>=1.19.5 in /usr/local/lib/python3.11/dist-packages (from scikit-surprise) (1.26.4)\n",
            "Requirement already satisfied: scipy>=1.6.0 in /usr/local/lib/python3.11/dist-packages (from scikit-surprise) (1.13.1)\n",
            "Building wheels for collected packages: scikit-surprise\n",
            "  Building wheel for scikit-surprise (pyproject.toml) ... \u001b[?25l\u001b[?25hdone\n",
            "  Created wheel for scikit-surprise: filename=scikit_surprise-1.1.4-cp311-cp311-linux_x86_64.whl size=2505175 sha256=f227fb97c582161991e033f9fed73a39d493da2a59b27c8aa7b5e578d0ffa833\n",
            "  Stored in directory: /root/.cache/pip/wheels/2a/8f/6e/7e2899163e2d85d8266daab4aa1cdabec7a6c56f83c015b5af\n",
            "Successfully built scikit-surprise\n",
            "Installing collected packages: scikit-surprise\n",
            "Successfully installed scikit-surprise-1.1.4\n",
            "RMSE: 0.2640\n",
            "\n",
            "Root Mean Squared Error (RMSE): 0.2639926468599789\n"
          ]
        }
      ]
    },
    {
      "cell_type": "markdown",
      "source": [
        "The SVD model has been successfully implemented and evaluated, with a Root Mean Squared Error (RMSE) of 0.264, indicating the model's ability to predict ratings with reasonable accuracy."
      ],
      "metadata": {
        "id": "YBXy_pL27B_m"
      }
    },
    {
      "cell_type": "markdown",
      "source": [
        "Generate Recommendations Using the Trained SVD Model"
      ],
      "metadata": {
        "id": "90QOHZ6h7Dlj"
      }
    },
    {
      "cell_type": "code",
      "source": [
        "def recommend_svd(user_id, model, data, top_n=5):\n",
        "    # Get all unique product IDs\n",
        "    all_products = data['product_id'].unique()\n",
        "\n",
        "    # Get products the user has already rated\n",
        "    rated_products = data[data['user_id'] == user_id]['product_id'].unique()\n",
        "\n",
        "    # Predict ratings for products the user hasn't rated\n",
        "    predictions = []\n",
        "    for product_id in all_products:\n",
        "        if product_id not in rated_products:\n",
        "            prediction = model.predict(user_id, product_id)\n",
        "            predictions.append((product_id, prediction.est))\n",
        "\n",
        "    # Sort predictions by estimated rating\n",
        "    predictions.sort(key=lambda x: x[1], reverse=True)\n",
        "\n",
        "    # Return the top N recommendations\n",
        "    return predictions[:top_n]\n",
        "\n",
        "# Example: Recommend products for a specific user\n",
        "target_user = data['user_id'].iloc[0]  # Replace with a specific user ID if needed\n",
        "recommended_products_svd = recommend_svd(target_user, svd_model, data_for_surprise)\n",
        "print(f\"\\nTop recommended products for user '{target_user}':\")\n",
        "for product_id, predicted_rating in recommended_products_svd:\n",
        "    print(f\"Product ID: {product_id}, Predicted Rating: {predicted_rating:.2f}\")\n"
      ],
      "metadata": {
        "colab": {
          "base_uri": "https://localhost:8080/"
        },
        "id": "PfbxSCsm6Ism",
        "outputId": "000dbd30-656a-4af4-f6c1-ac5c5a383edf"
      },
      "execution_count": null,
      "outputs": [
        {
          "output_type": "stream",
          "name": "stdout",
          "text": [
            "\n",
            "Top recommended products for user 'AG3D6O4STAQKAY2UVGEUV46KN35Q,AHMY5CWJMMK5BJRBBSNLYT3ONILA,AHCTC6ULH4XB6YHDY6PCH2R772LQ,AGYHHIERNXKA6P5T7CZLXKVPT7IQ,AG4OGOFWXJZTQ2HKYIOCOY3KXF2Q,AENGU523SXMOS7JPDTW52PNNVWGQ,AEQJHCVTNINBS4FKTBGQRQTGTE5Q,AFC3FFC5PKFF5PMA52S3VCHOZ5FQ':\n",
            "Product ID: B09C6HXFC1, Predicted Rating: 4.51\n",
            "Product ID: B08L4SBJRY, Predicted Rating: 4.41\n",
            "Product ID: B09X7DY7Q4, Predicted Rating: 4.40\n",
            "Product ID: B07RCGTZ4M, Predicted Rating: 4.39\n",
            "Product ID: B0819HZPXL, Predicted Rating: 4.39\n"
          ]
        }
      ]
    },
    {
      "cell_type": "markdown",
      "source": [
        "# **Evaluate the Recommendation System**"
      ],
      "metadata": {
        "id": "d7V9AcCW7LvJ"
      }
    },
    {
      "cell_type": "code",
      "source": [
        "from sklearn.metrics import precision_recall_fscore_support\n",
        "\n",
        "def evaluate_recommendation_system(predictions, threshold=4.0):\n",
        "    # Extract true and predicted ratings\n",
        "    true_ratings = [pred.r_ui for pred in predictions]\n",
        "    predicted_ratings = [pred.est for pred in predictions]\n",
        "\n",
        "    # Convert ratings to binary for relevance (1 = relevant, 0 = not relevant)\n",
        "    true_relevance = [1 if rating >= threshold else 0 for rating in true_ratings]\n",
        "    predicted_relevance = [1 if rating >= threshold else 0 for rating in predicted_ratings]\n",
        "\n",
        "    # Calculate Precision, Recall, and F1-Score\n",
        "    precision, recall, f1, _ = precision_recall_fscore_support(true_relevance, predicted_relevance, average='binary')\n",
        "\n",
        "    return precision, recall, f1\n",
        "\n",
        "# Evaluate the SVD model on the test set\n",
        "precision, recall, f1 = evaluate_recommendation_system(predictions)\n",
        "print(f\"Precision: {precision:.2f}\")\n",
        "print(f\"Recall: {recall:.2f}\")\n",
        "print(f\"F1-Score: {f1:.2f}\")\n"
      ],
      "metadata": {
        "colab": {
          "base_uri": "https://localhost:8080/"
        },
        "id": "eBWPOHkb7FFD",
        "outputId": "02b3654e-0e26-4e74-8482-3bff8b12da84"
      },
      "execution_count": null,
      "outputs": [
        {
          "output_type": "stream",
          "name": "stdout",
          "text": [
            "Precision: 0.77\n",
            "Recall: 1.00\n",
            "F1-Score: 0.87\n"
          ]
        }
      ]
    },
    {
      "cell_type": "markdown",
      "source": [
        "Precision (0.77): This means that 77% of the recommended products are relevant to the user.\n",
        "\n",
        "Recall (1.00): The system successfully retrieved all relevant products, indicating excellent coverage.\n",
        "\n",
        "F1-Score (0.87): A harmonic mean of precision and recall, balancing the two metrics. This is a high score, reflecting a well-performing system."
      ],
      "metadata": {
        "id": "JnB9tFUH7USW"
      }
    },
    {
      "cell_type": "markdown",
      "source": [
        "Summary of Collaborative Filtering (SVD) Approach:\n",
        "Strengths:\n",
        "\n",
        "The SVD-based model performed well even with sparse data.\n",
        "Recommendations were generated effectively with high recall and good precision.\n",
        "Limitations:\n",
        "\n",
        "While recall is perfect, precision indicates there’s room for improvement in the relevance of some recommendations.\n",
        "Sparse datasets may still limit the performance of memory-based approaches."
      ],
      "metadata": {
        "id": "X6Mj7UhE7eo5"
      }
    },
    {
      "cell_type": "markdown",
      "source": [
        "# **Content-Based Filtering**"
      ],
      "metadata": {
        "id": "S776klVC7yyQ"
      }
    },
    {
      "cell_type": "markdown",
      "source": [
        "Preprocess Text Data"
      ],
      "metadata": {
        "id": "HWwSXmwO72du"
      }
    },
    {
      "cell_type": "code",
      "source": [
        "from sklearn.feature_extraction.text import TfidfVectorizer\n",
        "import numpy as np\n",
        "\n",
        "# Combine `about_product` and `review_content` into a single feature\n",
        "data['combined_text'] = data['about_product'] + \" \" + data['review_content']\n",
        "\n",
        "# Preprocess and vectorize the text using TF-IDF\n",
        "tfidf_vectorizer = TfidfVectorizer(stop_words='english', max_features=5000)  # Limit to top 5000 features\n",
        "tfidf_matrix = tfidf_vectorizer.fit_transform(data['combined_text'])\n",
        "\n",
        "# Display the shape of the resulting TF-IDF matrix\n",
        "print(f\"TF-IDF Matrix Shape: {tfidf_matrix.shape}\")\n"
      ],
      "metadata": {
        "colab": {
          "base_uri": "https://localhost:8080/"
        },
        "id": "Tfjt_aTO7OTF",
        "outputId": "6dfe7e85-fda0-4ef5-bf50-64165c433cf9"
      },
      "execution_count": null,
      "outputs": [
        {
          "output_type": "stream",
          "name": "stdout",
          "text": [
            "TF-IDF Matrix Shape: (1465, 5000)\n"
          ]
        }
      ]
    },
    {
      "cell_type": "markdown",
      "source": [
        "Compute Similarity Scores Between Products"
      ],
      "metadata": {
        "id": "sPnX64kn79jV"
      }
    },
    {
      "cell_type": "code",
      "source": [
        "from sklearn.metrics.pairwise import cosine_similarity\n",
        "\n",
        "# Compute cosine similarity between products\n",
        "product_similarity = cosine_similarity(tfidf_matrix)\n",
        "\n",
        "# Convert to a DataFrame for easier interpretation\n",
        "product_similarity_df = pd.DataFrame(product_similarity, index=data['product_id'], columns=data['product_id'])\n",
        "\n",
        "# Display a sample of the similarity matrix\n",
        "print(\"Product Similarity Matrix (Sample):\")\n",
        "print(product_similarity_df.iloc[:5, :5])\n"
      ],
      "metadata": {
        "colab": {
          "base_uri": "https://localhost:8080/"
        },
        "id": "6gCdH5p37VZc",
        "outputId": "1cbf2ea7-3d6d-4193-9580-842032cbf5dc"
      },
      "execution_count": null,
      "outputs": [
        {
          "output_type": "stream",
          "name": "stdout",
          "text": [
            "Product Similarity Matrix (Sample):\n",
            "product_id  B07JW9H4J1  B098NS6PVG  B096MSW6CT  B08HDJ86NZ  B08CF3B7N1\n",
            "product_id                                                            \n",
            "B07JW9H4J1    1.000000    0.091218    0.115019    0.108781    0.143104\n",
            "B098NS6PVG    0.091218    1.000000    0.097731    0.218263    0.287087\n",
            "B096MSW6CT    0.115019    0.097731    1.000000    0.081666    0.095091\n",
            "B08HDJ86NZ    0.108781    0.218263    0.081666    1.000000    0.202266\n",
            "B08CF3B7N1    0.143104    0.287087    0.095091    0.202266    1.000000\n"
          ]
        }
      ]
    },
    {
      "cell_type": "markdown",
      "source": [
        "Generate Recommendations for a Specific Product"
      ],
      "metadata": {
        "id": "solccSU58FxQ"
      }
    },
    {
      "cell_type": "code",
      "source": [
        "def recommend_similar_products(product_id, similarity_matrix, data, top_n=5):\n",
        "    # Ensure the product exists in the similarity matrix\n",
        "    if product_id not in similarity_matrix.index:\n",
        "        raise ValueError(f\"Product ID '{product_id}' not found in the similarity matrix.\")\n",
        "\n",
        "    # Remove duplicate product IDs from the dataset to avoid reindexing issues\n",
        "    data_unique = data.drop_duplicates(subset='product_id')\n",
        "\n",
        "    # Extract similarity scores for the target product as a Series\n",
        "    product_scores = similarity_matrix.loc[product_id, :]\n",
        "\n",
        "    # Ensure product_scores is a Series\n",
        "    if isinstance(product_scores, pd.DataFrame):\n",
        "        product_scores = product_scores.iloc[0]  # Convert to Series if needed\n",
        "\n",
        "    # Sort scores in descending order and exclude the product itself\n",
        "    similar_products = product_scores.sort_values(ascending=False).iloc[1:top_n+1]\n",
        "\n",
        "    # Retrieve product names and details for the recommendations\n",
        "    recommended = (\n",
        "        data_unique[data_unique['product_id'].isin(similar_products.index)][['product_id', 'product_name']]\n",
        "        .set_index('product_id')\n",
        "        .reindex(similar_products.index)\n",
        "    )\n",
        "    recommended['similarity_score'] = similar_products.values\n",
        "    return recommended.reset_index()\n",
        "\n",
        "# Example: Recommend products similar to a given product ID\n",
        "target_product = 'B07JW9H4J1'  # Replace with any product ID from your dataset\n",
        "try:\n",
        "    recommended_products = recommend_similar_products(target_product, product_similarity_df, data)\n",
        "    print(f\"\\nProducts similar to '{target_product}':\")\n",
        "    print(recommended_products)\n",
        "except ValueError as e:\n",
        "    print(e)\n"
      ],
      "metadata": {
        "colab": {
          "base_uri": "https://localhost:8080/"
        },
        "id": "jOzywIGz7_q0",
        "outputId": "4eba9402-213f-4cdb-a455-c4335e8a3893"
      },
      "execution_count": null,
      "outputs": [
        {
          "output_type": "stream",
          "name": "stdout",
          "text": [
            "\n",
            "Products similar to 'B07JW9H4J1':\n",
            "   product_id                                       product_name  \\\n",
            "0  B07JW9H4J1  Wayona Nylon Braided USB to Lightning Fast Cha...   \n",
            "1  B07JW9H4J1  Wayona Nylon Braided USB to Lightning Fast Cha...   \n",
            "2  B07JH1CBGW  Wayona Nylon Braided Usb Syncing And Charging ...   \n",
            "3  B07JW1Y6XV  Wayona Nylon Braided 3A Lightning to USB A Syn...   \n",
            "4  B07JH1C41D  Wayona Nylon Braided (2 Pack) Lightning Fast U...   \n",
            "\n",
            "   similarity_score  \n",
            "0          1.000000  \n",
            "1          1.000000  \n",
            "2          0.991810  \n",
            "3          0.944362  \n",
            "4          0.944362  \n"
          ]
        }
      ]
    },
    {
      "cell_type": "markdown",
      "source": [
        "Remove Self and Duplicates"
      ],
      "metadata": {
        "id": "jcm5UT-c9FwD"
      }
    },
    {
      "cell_type": "code",
      "source": [
        "def recommend_similar_products(product_id, similarity_matrix, data, top_n=5):\n",
        "    # Ensure the product exists in the similarity matrix\n",
        "    if product_id not in similarity_matrix.index.unique():\n",
        "        raise ValueError(f\"Product ID '{product_id}' not found in the similarity matrix.\")\n",
        "\n",
        "    # Remove duplicate product IDs from the dataset\n",
        "    data_unique = data.drop_duplicates(subset='product_id', keep='first')\n",
        "\n",
        "    # Extract similarity scores for the target product\n",
        "    product_scores = similarity_matrix.loc[product_id]\n",
        "\n",
        "    # Convert product_scores to Series if needed\n",
        "    if isinstance(product_scores, pd.DataFrame):\n",
        "        product_scores = product_scores.iloc[0]\n",
        "\n",
        "    # Ensure unique indexing for product_scores\n",
        "    product_scores = product_scores[~product_scores.index.duplicated(keep='first')]\n",
        "\n",
        "    # Sort scores in descending order and exclude the target product\n",
        "    similar_products = product_scores.sort_values(ascending=False).drop(product_id)\n",
        "\n",
        "    # Retrieve product names and details for the recommendations\n",
        "    recommended = (\n",
        "        data_unique[data_unique['product_id'].isin(similar_products.index)][['product_id', 'product_name']]\n",
        "        .drop_duplicates(subset='product_id')\n",
        "        .set_index('product_id')\n",
        "    )\n",
        "\n",
        "    # Align recommendations with similarity scores\n",
        "    recommended = recommended.loc[recommended.index.intersection(similar_products.index)]\n",
        "    recommended['similarity_score'] = similar_products.loc[recommended.index].values\n",
        "\n",
        "    # Return the top N recommendations\n",
        "    return recommended.sort_values(by='similarity_score', ascending=False).head(top_n).reset_index()\n",
        "\n",
        "# Example: Recommend products similar to a given product ID\n",
        "target_product = 'B07JW9H4J1'  # Replace with any product ID from your dataset\n",
        "try:\n",
        "    recommended_products = recommend_similar_products(target_product, product_similarity_df, data)\n",
        "    print(f\"\\nProducts similar to '{target_product}':\")\n",
        "    print(recommended_products)\n",
        "except ValueError as e:\n",
        "    print(e)\n"
      ],
      "metadata": {
        "colab": {
          "base_uri": "https://localhost:8080/"
        },
        "id": "FJCCLvEi8HwU",
        "outputId": "ca567480-8246-4855-e60a-e0367f4930db"
      },
      "execution_count": null,
      "outputs": [
        {
          "output_type": "stream",
          "name": "stdout",
          "text": [
            "\n",
            "Products similar to 'B07JW9H4J1':\n",
            "   product_id                                       product_name  \\\n",
            "0  B07JH1CBGW  Wayona Nylon Braided Usb Syncing And Charging ...   \n",
            "1  B07JW1Y6XV  Wayona Nylon Braided 3A Lightning to USB A Syn...   \n",
            "2  B07JH1C41D  Wayona Nylon Braided (2 Pack) Lightning Fast U...   \n",
            "3  B07LGT55SJ  Wayona Usb Nylon Braided Data Sync And Chargin...   \n",
            "4  B07JGDB5M1  Wayona Nylon Braided 2M / 6Ft Fast Charge Usb ...   \n",
            "\n",
            "   similarity_score  \n",
            "0          0.991810  \n",
            "1          0.944362  \n",
            "2          0.944362  \n",
            "3          0.743922  \n",
            "4          0.692131  \n"
          ]
        }
      ]
    },
    {
      "cell_type": "markdown",
      "source": [
        "# **Evaluate Content-Based Filtering**"
      ],
      "metadata": {
        "id": "jMasIKou9pNx"
      }
    },
    {
      "cell_type": "code",
      "source": [
        "from sklearn.metrics import precision_score, recall_score, f1_score\n",
        "\n",
        "def evaluate_content_based(target_product, recommended_products, data, threshold=0.5):\n",
        "    # Define relevant products: products similar to the target product based on actual data\n",
        "    relevant_products = data[data['product_id'] != target_product]['product_id'].tolist()\n",
        "\n",
        "    # Define recommended products: products returned by the recommendation system\n",
        "    recommended_product_ids = recommended_products['product_id'].tolist()\n",
        "\n",
        "    # Mark relevance: 1 for relevant, 0 for not relevant\n",
        "    y_true = [1 if product_id in relevant_products else 0 for product_id in recommended_product_ids]\n",
        "    y_pred = [1] * len(recommended_product_ids)  # All recommended products are treated as \"predicted\"\n",
        "\n",
        "    # Calculate Precision, Recall, and F1-Score\n",
        "    precision = precision_score(y_true, y_pred)\n",
        "    recall = recall_score(y_true, y_pred)\n",
        "    f1 = f1_score(y_true, y_pred)\n",
        "\n",
        "    return precision, recall, f1\n",
        "\n",
        "# Example: Evaluate recommendations for the target product\n",
        "try:\n",
        "    precision, recall, f1 = evaluate_content_based(\n",
        "        target_product='B07JW9H4J1',\n",
        "        recommended_products=recommended_products,\n",
        "        data=data\n",
        "    )\n",
        "    print(f\"\\nEvaluation Metrics:\")\n",
        "    print(f\"Precision: {precision:.2f}\")\n",
        "    print(f\"Recall: {recall:.2f}\")\n",
        "    print(f\"F1-Score: {f1:.2f}\")\n",
        "except Exception as e:\n",
        "    print(f\"Error during evaluation: {e}\")\n"
      ],
      "metadata": {
        "colab": {
          "base_uri": "https://localhost:8080/"
        },
        "id": "RDYYtsZp9Htj",
        "outputId": "d302ccb2-1c24-4d4e-aad8-8dda9f4ac4e8"
      },
      "execution_count": null,
      "outputs": [
        {
          "output_type": "stream",
          "name": "stdout",
          "text": [
            "\n",
            "Evaluation Metrics:\n",
            "Precision: 1.00\n",
            "Recall: 1.00\n",
            "F1-Score: 1.00\n"
          ]
        }
      ]
    },
    {
      "cell_type": "markdown",
      "source": [
        "The evaluation results show perfect scores for the content-based recommendation system:\n",
        "\n",
        "Precision (1.00):All recommended products were relevant.\n",
        "\n",
        "Recall (1.00): All relevant products were successfully recommended.\n",
        "\n",
        "F1-Score (1.00): A perfect harmonic mean of Precision and Recall."
      ],
      "metadata": {
        "id": "QT4s_wqG9zTb"
      }
    },
    {
      "cell_type": "markdown",
      "source": [
        "# **Diagnostic Steps**"
      ],
      "metadata": {
        "id": "N4gDrvpw-eon"
      }
    },
    {
      "cell_type": "markdown",
      "source": [
        "Check for Duplicate Products"
      ],
      "metadata": {
        "id": "CtooJKhp-iUR"
      }
    },
    {
      "cell_type": "code",
      "source": [
        "# Check for duplicates based on product_id\n",
        "duplicate_products = data[data.duplicated(subset='product_id', keep=False)]\n",
        "print(f\"Duplicate Products: {duplicate_products[['product_id', 'product_name']].head()}\")\n"
      ],
      "metadata": {
        "colab": {
          "base_uri": "https://localhost:8080/"
        },
        "id": "SDB5GLsN9sFz",
        "outputId": "ef6a0b96-71a9-4236-80f8-fd1d834f5564"
      },
      "execution_count": null,
      "outputs": [
        {
          "output_type": "stream",
          "name": "stdout",
          "text": [
            "Duplicate Products:    product_id                                       product_name\n",
            "0  B07JW9H4J1  Wayona Nylon Braided USB to Lightning Fast Cha...\n",
            "1  B098NS6PVG  Ambrane Unbreakable 60W / 3A Fast Charging 1.5...\n",
            "2  B096MSW6CT  Sounce Fast Phone Charging Cable & Data Sync U...\n",
            "3  B08HDJ86NZ  boAt Deuce USB 300 2 in 1 Type-C & Micro USB S...\n",
            "4  B08CF3B7N1  Portronics Konnect L 1.2M Fast Charging 3A 8 P...\n"
          ]
        }
      ]
    },
    {
      "cell_type": "markdown",
      "source": [
        "Test with Multiple Target Products"
      ],
      "metadata": {
        "id": "20IukQkn-j1B"
      }
    },
    {
      "cell_type": "code",
      "source": [
        "# List of several product IDs to test\n",
        "sample_product_ids = data['product_id'].sample(5, random_state=42).tolist()  # Change the number if needed\n",
        "\n",
        "# Evaluate for multiple target products\n",
        "for product_id in sample_product_ids:\n",
        "    try:\n",
        "        recommended_products = recommend_similar_products(product_id, product_similarity_df, data)\n",
        "        precision, recall, f1 = evaluate_content_based(product_id, recommended_products, data)\n",
        "        print(f\"\\nEvaluation Metrics for Product '{product_id}':\")\n",
        "        print(f\"Precision: {precision:.2f}\")\n",
        "        print(f\"Recall: {recall:.2f}\")\n",
        "        print(f\"F1-Score: {f1:.2f}\")\n",
        "    except Exception as e:\n",
        "        print(f\"Error for Product '{product_id}': {e}\")\n"
      ],
      "metadata": {
        "colab": {
          "base_uri": "https://localhost:8080/"
        },
        "id": "lX72olwC-B9h",
        "outputId": "78445c8a-4338-4ac8-c913-94013186ab5c"
      },
      "execution_count": null,
      "outputs": [
        {
          "output_type": "stream",
          "name": "stdout",
          "text": [
            "\n",
            "Evaluation Metrics for Product 'B09XXZXQC1':\n",
            "Precision: 1.00\n",
            "Recall: 1.00\n",
            "F1-Score: 1.00\n",
            "\n",
            "Evaluation Metrics for Product 'B09LHXNZLR':\n",
            "Precision: 1.00\n",
            "Recall: 1.00\n",
            "F1-Score: 1.00\n",
            "\n",
            "Evaluation Metrics for Product 'B09LV13JFB':\n",
            "Precision: 1.00\n",
            "Recall: 1.00\n",
            "F1-Score: 1.00\n",
            "\n",
            "Evaluation Metrics for Product 'B08M66K48D':\n",
            "Precision: 1.00\n",
            "Recall: 1.00\n",
            "F1-Score: 1.00\n",
            "\n",
            "Evaluation Metrics for Product 'B07KRCW6LZ':\n",
            "Precision: 1.00\n",
            "Recall: 1.00\n",
            "F1-Score: 1.00\n"
          ]
        }
      ]
    },
    {
      "cell_type": "markdown",
      "source": [
        "**Inspect for Redundancy in Product Descriptions**"
      ],
      "metadata": {
        "id": "YHQw1zpX-mvR"
      }
    },
    {
      "cell_type": "code",
      "source": [
        "from sklearn.metrics.pairwise import cosine_similarity\n",
        "\n",
        "# Select a few random products to check for redundancy\n",
        "sample_text_products = data.sample(5, random_state=42)\n",
        "\n",
        "# Create a TF-IDF matrix for the selected products' descriptions\n",
        "sample_text = sample_text_products['about_product'] + \" \" + sample_text_products['review_content']\n",
        "tfidf_vectorizer = TfidfVectorizer(stop_words='english')\n",
        "tfidf_matrix = tfidf_vectorizer.fit_transform(sample_text)\n",
        "\n",
        "# Compute pairwise cosine similarity\n",
        "similarity_matrix = cosine_similarity(tfidf_matrix)\n",
        "\n",
        "print(f\"Textual Similarity Matrix for Sample Products:\\n{similarity_matrix}\")\n"
      ],
      "metadata": {
        "colab": {
          "base_uri": "https://localhost:8080/"
        },
        "id": "FopCKufo-FXU",
        "outputId": "082e2d48-9a22-4c4a-cda1-0b9369b3e97b"
      },
      "execution_count": null,
      "outputs": [
        {
          "output_type": "stream",
          "name": "stdout",
          "text": [
            "Textual Similarity Matrix for Sample Products:\n",
            "[[1.         0.07786272 0.03165919 0.0866418  0.07386233]\n",
            " [0.07786272 1.         0.03684409 0.0351166  0.34091195]\n",
            " [0.03165919 0.03684409 1.         0.01414463 0.05321696]\n",
            " [0.0866418  0.0351166  0.01414463 1.         0.04563287]\n",
            " [0.07386233 0.34091195 0.05321696 0.04563287 1.        ]]\n"
          ]
        }
      ]
    },
    {
      "cell_type": "markdown",
      "source": [
        "**The system is doing really well because it’s finding and recommending products that look similar based on their descriptions, but it might not be as good at recommending things based on actual user preferences or more complex factors.**"
      ],
      "metadata": {
        "id": "ckhG-6gp-be9"
      }
    },
    {
      "cell_type": "markdown",
      "source": [
        "# **Hybrid Model**"
      ],
      "metadata": {
        "id": "Mbf8aCmC-7wB"
      }
    },
    {
      "cell_type": "markdown",
      "source": [
        "Generate Recommendations Using Collaborative Filtering (SVD)"
      ],
      "metadata": {
        "id": "fLf29xwK_j5_"
      }
    },
    {
      "cell_type": "code",
      "source": [
        "def recommend_svd(user_id, model, data, top_n=5):\n",
        "    # Get all unique product IDs\n",
        "    all_products = data['product_id'].unique()\n",
        "\n",
        "    # Get products the user has already rated\n",
        "    rated_products = data[data['user_id'] == user_id]['product_id'].unique()\n",
        "\n",
        "    # Predict ratings for products the user hasn't rated\n",
        "    predictions = []\n",
        "    for product_id in all_products:\n",
        "        if product_id not in rated_products:\n",
        "            prediction = model.predict(user_id, product_id)\n",
        "            predictions.append((product_id, prediction.est))\n",
        "\n",
        "    # Sort predictions by estimated rating\n",
        "    predictions.sort(key=lambda x: x[1], reverse=True)\n",
        "\n",
        "    # Return top N recommendations\n",
        "    return predictions[:top_n]\n",
        "\n",
        "# Example: Recommend products for a specific user using SVD\n",
        "target_user = 'AG3D6O4STAQKAY2UVGEUV46KN35Q'  # Replace with any user ID\n",
        "svd_recommendations = recommend_svd(target_user, svd_model, data)\n",
        "print(f\"\\nSVD-based Recommendations for user '{target_user}':\")\n",
        "print(svd_recommendations)\n"
      ],
      "metadata": {
        "colab": {
          "base_uri": "https://localhost:8080/"
        },
        "id": "dlm6QJ3r-IQR",
        "outputId": "2b6f85a2-2dd8-43b0-9ee5-079cbd2dd83c"
      },
      "execution_count": null,
      "outputs": [
        {
          "output_type": "stream",
          "name": "stdout",
          "text": [
            "\n",
            "SVD-based Recommendations for user 'AG3D6O4STAQKAY2UVGEUV46KN35Q':\n",
            "[('B0BQRJ3C47', 4.172110090376252), ('B0BMXMLSMM', 4.172101400528652), ('B09ZHCJDP1', 4.16809234579316), ('B0B9BXKBC7', 4.161811755333954), ('B09C6HXFC1', 4.1565211637821315)]\n"
          ]
        }
      ]
    },
    {
      "cell_type": "markdown",
      "source": [
        "Generate Recommendations Using Content-Based Filtering"
      ],
      "metadata": {
        "id": "Rg4C01B8_sRI"
      }
    },
    {
      "cell_type": "code",
      "source": [
        "def recommend_content_based(user_id, data, top_n=5):\n",
        "    # Get all products rated by the user\n",
        "    rated_products = data[data['user_id'] == user_id]['product_id'].unique()\n",
        "\n",
        "    # Combine `about_product` and `review_content` into a single feature\n",
        "    data['combined_text'] = data['about_product'] + \" \" + data['review_content']\n",
        "\n",
        "    # Vectorize the text using TF-IDF\n",
        "    tfidf_vectorizer = TfidfVectorizer(stop_words='english', max_features=5000)\n",
        "    tfidf_matrix = tfidf_vectorizer.fit_transform(data['combined_text'])\n",
        "\n",
        "    # Calculate cosine similarity between products\n",
        "    cosine_sim = cosine_similarity(tfidf_matrix)\n",
        "\n",
        "    # Generate recommendations for the user based on cosine similarity\n",
        "    recommendations = []\n",
        "    for product_id in rated_products:\n",
        "        # Get the similarity scores for products rated by the user\n",
        "        product_idx = data[data['product_id'] == product_id].index[0]\n",
        "        sim_scores = list(enumerate(cosine_sim[product_idx]))\n",
        "\n",
        "        # Sort the products by similarity score (exclude self similarity)\n",
        "        sim_scores = sorted(sim_scores, key=lambda x: x[1], reverse=True)[1:]\n",
        "\n",
        "        # Add top N similar products\n",
        "        for i in range(top_n):\n",
        "            product_idx = sim_scores[i][0]\n",
        "            recommendations.append((data.iloc[product_idx]['product_id'], sim_scores[i][1]))\n",
        "\n",
        "    # Sort recommendations by similarity score\n",
        "    recommendations = sorted(set(recommendations), key=lambda x: x[1], reverse=True)[:top_n]\n",
        "\n",
        "    return recommendations\n",
        "\n",
        "# Example: Recommend products for a specific user using Content-Based Filtering\n",
        "content_based_recommendations = recommend_content_based(target_user, data)\n",
        "print(f\"\\nContent-Based Recommendations for user '{target_user}':\")\n",
        "print(content_based_recommendations)\n"
      ],
      "metadata": {
        "colab": {
          "base_uri": "https://localhost:8080/"
        },
        "id": "w9faiML3_lVx",
        "outputId": "769b7563-4b5e-4f45-ebc2-9fe8e2d4a245"
      },
      "execution_count": null,
      "outputs": [
        {
          "output_type": "stream",
          "name": "stdout",
          "text": [
            "\n",
            "Content-Based Recommendations for user 'AG3D6O4STAQKAY2UVGEUV46KN35Q':\n",
            "[]\n"
          ]
        }
      ]
    },
    {
      "cell_type": "markdown",
      "source": [
        "To Diagnose the Issue:\n",
        "Check if the combined_text field contains meaningful content.\n",
        "Verify that the user_id and product_id are correctly aligned.\n",
        "Check if there’s enough variation in the products’ text descriptions."
      ],
      "metadata": {
        "id": "ve9tPkBw_4aG"
      }
    },
    {
      "cell_type": "code",
      "source": [
        "# Print out the combined text for the products the user has rated\n",
        "rated_products_data = data[data['user_id'] == target_user][['product_id', 'combined_text']]\n",
        "print(f\"\\nRated Products for user '{target_user}':\")\n",
        "print(rated_products_data.head())\n"
      ],
      "metadata": {
        "colab": {
          "base_uri": "https://localhost:8080/"
        },
        "id": "34mMBJOY_qv_",
        "outputId": "de31b739-e941-44c5-f364-60f89a1f3a68"
      },
      "execution_count": null,
      "outputs": [
        {
          "output_type": "stream",
          "name": "stdout",
          "text": [
            "\n",
            "Rated Products for user 'AG3D6O4STAQKAY2UVGEUV46KN35Q':\n",
            "Empty DataFrame\n",
            "Columns: [product_id, combined_text]\n",
            "Index: []\n"
          ]
        }
      ]
    },
    {
      "cell_type": "markdown",
      "source": [
        "Check for Available Interactions"
      ],
      "metadata": {
        "id": "mwdCRbYN_9lW"
      }
    },
    {
      "cell_type": "code",
      "source": [
        "# Check how many products the user has interacted with\n",
        "user_ratings = data[data['user_id'] == target_user]\n",
        "print(f\"Number of products rated by user '{target_user}': {user_ratings.shape[0]}\")\n"
      ],
      "metadata": {
        "colab": {
          "base_uri": "https://localhost:8080/"
        },
        "id": "bNkrV9sI_1tP",
        "outputId": "13a371c6-9215-4101-b079-bd8945c848fe"
      },
      "execution_count": null,
      "outputs": [
        {
          "output_type": "stream",
          "name": "stdout",
          "text": [
            "Number of products rated by user 'AG3D6O4STAQKAY2UVGEUV46KN35Q': 0\n"
          ]
        }
      ]
    },
    {
      "cell_type": "markdown",
      "source": [
        "Number of products rated by user 'AG3D6O4STAQKAY2UVGEUV46KN35Q': 0"
      ],
      "metadata": {
        "id": "HvHRDmLUAFbW"
      }
    },
    {
      "cell_type": "markdown",
      "source": [
        "**Get the user with the maximum number of interactions**"
      ],
      "metadata": {
        "id": "DKL0uDffFpTA"
      }
    },
    {
      "cell_type": "code",
      "source": [
        "# Count the number of interactions (ratings) per user\n",
        "user_interactions = data['user_id'].value_counts()\n",
        "\n",
        "# Get the user with the maximum number of interactions\n",
        "max_interactions_user = user_interactions.idxmax()\n",
        "max_interactions_count = user_interactions.max()\n",
        "\n",
        "print(f\"User with the maximum interactions: {max_interactions_user}\")\n",
        "print(f\"Number of interactions: {max_interactions_count}\")\n"
      ],
      "metadata": {
        "colab": {
          "base_uri": "https://localhost:8080/"
        },
        "id": "RFtGG-18_75f",
        "outputId": "6194a1e8-b167-419d-e252-19bbc7c3555b"
      },
      "execution_count": null,
      "outputs": [
        {
          "output_type": "stream",
          "name": "stdout",
          "text": [
            "User with the maximum interactions: AHIKJUDTVJ4T6DV6IUGFYZ5LXMPA,AE55KTFVNXYFD5FPYWP2OUPEYNPQ,AEBWA5I4QFCA3P3OBEPMELBGN4GQ,AHMGAC6QM62UXNEOCZIHLHSXPP2Q,AFHROSCGIXUPV3FYQ7H5QOD46Q7Q,AEAMIR3CMSA32IDEINSJKHRNANTA,AF355FTXYAKFH5NYPRTE7SL3WO3Q,AG5DWPD54QGSLWJ6QUFERLPNAX4Q\n",
            "Number of interactions: 10\n"
          ]
        }
      ]
    },
    {
      "cell_type": "markdown",
      "source": [
        "SVD-based Recommendations for the User"
      ],
      "metadata": {
        "id": "gEsJW-H5AnKT"
      }
    },
    {
      "cell_type": "code",
      "source": [
        "def recommend_svd(user_id, model, data, top_n=5):\n",
        "    # Get all unique product IDs\n",
        "    all_products = data['product_id'].unique()\n",
        "\n",
        "    # Get products the user has already rated\n",
        "    rated_products = data[data['user_id'] == user_id]['product_id'].unique()\n",
        "\n",
        "    # Predict ratings for products the user hasn't rated\n",
        "    predictions = []\n",
        "    for product_id in all_products:\n",
        "        if product_id not in rated_products:\n",
        "            prediction = model.predict(user_id, product_id)\n",
        "            predictions.append((product_id, prediction.est))\n",
        "\n",
        "    # Sort predictions by estimated rating\n",
        "    predictions.sort(key=lambda x: x[1], reverse=True)\n",
        "\n",
        "    # Return top N recommendations\n",
        "    return predictions[:top_n]\n",
        "\n",
        "# Example: Recommend products for the user with the maximum interactions\n",
        "target_user = 'AHIKJUDTVJ4T6DV6IUGFYZ5LXMPA,AE55KTFVNXYFD5FPYWP2OUPEYNPQ,AEBWA5I4QFCA3P3OBEPMELBGN4GQ,AHMGAC6QM62UXNEOCZIHLHSXPP2Q,AFHROSCGIXUPV3FYQ7H5QOD46Q7Q,AEAMIR3CMSA32IDEINSJKHRNANTA,AF355FTXYAKFH5NYPRTE7SL3WO3Q,AG5DWPD54QGSLWJ6QUFERLPNAX4Q'  # Replace with the actual user ID\n",
        "svd_recommendations = recommend_svd(target_user, svd_model, data)\n",
        "print(f\"\\nSVD-based Recommendations for user '{target_user}':\")\n",
        "print(svd_recommendations)\n"
      ],
      "metadata": {
        "colab": {
          "base_uri": "https://localhost:8080/"
        },
        "id": "XArMU0lQAHH_",
        "outputId": "258120a0-2fdc-4063-b965-1a8c97041d57"
      },
      "execution_count": null,
      "outputs": [
        {
          "output_type": "stream",
          "name": "stdout",
          "text": [
            "\n",
            "SVD-based Recommendations for user 'AHIKJUDTVJ4T6DV6IUGFYZ5LXMPA,AE55KTFVNXYFD5FPYWP2OUPEYNPQ,AEBWA5I4QFCA3P3OBEPMELBGN4GQ,AHMGAC6QM62UXNEOCZIHLHSXPP2Q,AFHROSCGIXUPV3FYQ7H5QOD46Q7Q,AEAMIR3CMSA32IDEINSJKHRNANTA,AF355FTXYAKFH5NYPRTE7SL3WO3Q,AG5DWPD54QGSLWJ6QUFERLPNAX4Q':\n",
            "[('B08PPHFXG3', 4.39720593946823), ('B0BQRJ3C47', 4.377802699729162), ('B07W14CHV8', 4.368127461515466), ('B07TTSS5MP', 4.359710698600094), ('B07NTKGW45', 4.359615128926662)]\n"
          ]
        }
      ]
    },
    {
      "cell_type": "markdown",
      "source": [
        "The SVD-based Collaborative Filtering recommendations for the user 'AHIKJUDTVJ4T6DV6IUGFYZ5LXMPA,...' are as follows:\n",
        "\n",
        "Product ID: B08PPHFXG3 – Predicted Rating: 4.40\n",
        "\n",
        "Product ID: B0BQRJ3C47 – Predicted Rating: 4.38\n",
        "\n",
        "Product ID: B07W14CHV8 – Predicted Rating: 4.37\n",
        "\n",
        "Product ID: B07TTSS5MP – Predicted Rating: 4.36\n",
        "\n",
        "Product ID: B07NTKGW45 – Predicted Rating: 4.36"
      ],
      "metadata": {
        "id": "bfpzgaQiA5BF"
      }
    },
    {
      "cell_type": "markdown",
      "source": [
        "Content-Based Recommendations for the Same User"
      ],
      "metadata": {
        "id": "9bVEqrLJAuUY"
      }
    },
    {
      "cell_type": "code",
      "source": [
        "def recommend_content_based(user_id, data, top_n=5):\n",
        "    # Get all products rated by the user\n",
        "    rated_products = data[data['user_id'] == user_id]['product_id'].unique()\n",
        "\n",
        "    # Combine `about_product` and `review_content` into a single feature\n",
        "    data['combined_text'] = data['about_product'] + \" \" + data['review_content']\n",
        "\n",
        "    # Vectorize the text using TF-IDF\n",
        "    tfidf_vectorizer = TfidfVectorizer(stop_words='english', max_features=5000)\n",
        "    tfidf_matrix = tfidf_vectorizer.fit_transform(data['combined_text'])\n",
        "\n",
        "    # Calculate cosine similarity between products\n",
        "    cosine_sim = cosine_similarity(tfidf_matrix)\n",
        "\n",
        "    # Generate recommendations for the user based on cosine similarity\n",
        "    recommendations = []\n",
        "    for product_id in rated_products:\n",
        "        # Get the similarity scores for products rated by the user\n",
        "        product_idx = data[data['product_id'] == product_id].index[0]\n",
        "        sim_scores = list(enumerate(cosine_sim[product_idx]))\n",
        "\n",
        "        # Sort the products by similarity score (exclude self similarity)\n",
        "        sim_scores = sorted(sim_scores, key=lambda x: x[1], reverse=True)[1:]\n",
        "\n",
        "        # Add top N similar products\n",
        "        for i in range(top_n):\n",
        "            product_idx = sim_scores[i][0]\n",
        "            recommendations.append((data.iloc[product_idx]['product_id'], sim_scores[i][1]))\n",
        "\n",
        "    # Sort recommendations by similarity score\n",
        "    recommendations = sorted(set(recommendations), key=lambda x: x[1], reverse=True)[:top_n]\n",
        "\n",
        "    return recommendations\n",
        "\n",
        "# Example: Recommend products for the user with the maximum interactions\n",
        "content_based_recommendations = recommend_content_based(target_user, data)\n",
        "print(f\"\\nContent-Based Recommendations for user '{target_user}':\")\n",
        "print(content_based_recommendations)\n"
      ],
      "metadata": {
        "colab": {
          "base_uri": "https://localhost:8080/"
        },
        "id": "g5Y36DqGAoqx",
        "outputId": "04836d89-6f28-45b8-e2a8-f34cd4b29146"
      },
      "execution_count": null,
      "outputs": [
        {
          "output_type": "stream",
          "name": "stdout",
          "text": [
            "\n",
            "Content-Based Recommendations for user 'AHIKJUDTVJ4T6DV6IUGFYZ5LXMPA,AE55KTFVNXYFD5FPYWP2OUPEYNPQ,AEBWA5I4QFCA3P3OBEPMELBGN4GQ,AHMGAC6QM62UXNEOCZIHLHSXPP2Q,AFHROSCGIXUPV3FYQ7H5QOD46Q7Q,AEAMIR3CMSA32IDEINSJKHRNANTA,AF355FTXYAKFH5NYPRTE7SL3WO3Q,AG5DWPD54QGSLWJ6QUFERLPNAX4Q':\n",
            "[('B09NHVCHS9', 1.0), ('B09NL4DJ2Z', 0.9880949009548279), ('B09NKZXMWJ', 0.9880949009548279), ('B09NJN8L25', 0.9821004003208905), ('B09NHVCHS9', 0.9821004003208905)]\n"
          ]
        }
      ]
    },
    {
      "cell_type": "markdown",
      "source": [
        "The Content-Based Recommendations for the user 'AHIKJUDTVJ4T6DV6IUGFYZ5LXMPA,...' are as follows:\n",
        "\n",
        "Product ID: B09NHVCHS9 – Similarity Score: 1.00\n",
        "\n",
        "Product ID: B09NL4DJ2Z – Similarity Score: 0.99\n",
        "\n",
        "Product ID: B09NKZXMWJ – Similarity Score: 0.99\n",
        "\n",
        "Product ID: B09NJN8L25 – Similarity Score: 0.98\n",
        "\n",
        "Product ID: B09NHVCHS9 – Similarity Score: 0.98 (duplicate)"
      ],
      "metadata": {
        "id": "0CiPNn7JBDhu"
      }
    },
    {
      "cell_type": "markdown",
      "source": [
        "Combine Collaborative Filtering and Content-Based Filtering (Hybrid Model)"
      ],
      "metadata": {
        "id": "Vj7L6TocBHP-"
      }
    },
    {
      "cell_type": "markdown",
      "source": [
        "**Hybrid Model - Combine the Recommendations**"
      ],
      "metadata": {
        "id": "awYOa5NCBQmh"
      }
    },
    {
      "cell_type": "code",
      "source": [
        "def combine_recommendations(svd_recommendations, content_based_recommendations, top_n=5):\n",
        "    # Create a dictionary to store recommendations with their scores\n",
        "    hybrid_recommendations = {}\n",
        "\n",
        "    # Add SVD-based recommendations (predicted ratings) to the hybrid model\n",
        "    for product_id, rating in svd_recommendations:\n",
        "        if product_id not in hybrid_recommendations:\n",
        "            hybrid_recommendations[product_id] = {'svd_score': rating, 'content_score': 0}\n",
        "        else:\n",
        "            hybrid_recommendations[product_id]['svd_score'] = rating\n",
        "\n",
        "    # Add Content-Based recommendations (text similarity scores) to the hybrid model\n",
        "    for product_id, content_score in content_based_recommendations:\n",
        "        if product_id not in hybrid_recommendations:\n",
        "            hybrid_recommendations[product_id] = {'svd_score': 0, 'content_score': content_score}\n",
        "        else:\n",
        "            hybrid_recommendations[product_id]['content_score'] = content_score\n",
        "\n",
        "    # Sort the products based on a weighted combination of both scores (you can adjust the weight)\n",
        "    for product_id, scores in hybrid_recommendations.items():\n",
        "        hybrid_recommendations[product_id]['final_score'] = (scores['svd_score'] * 0.7) + (scores['content_score'] * 0.3)\n",
        "\n",
        "    # Sort by the final score in descending order\n",
        "    sorted_recommendations = sorted(hybrid_recommendations.items(), key=lambda x: x[1]['final_score'], reverse=True)\n",
        "\n",
        "    # Return the top N recommendations\n",
        "    return [(product_id, scores['final_score']) for product_id, scores in sorted_recommendations[:top_n]]\n",
        "\n",
        "# Combine recommendations from SVD and Content-Based Filtering for the user\n",
        "hybrid_recommendations = combine_recommendations(svd_recommendations, content_based_recommendations, top_n=5)\n",
        "print(f\"\\nHybrid Model Recommendations for user '{target_user}':\")\n",
        "print(hybrid_recommendations)\n"
      ],
      "metadata": {
        "colab": {
          "base_uri": "https://localhost:8080/"
        },
        "id": "ST6ucnlZAy8w",
        "outputId": "79476f9f-4c6d-4e9d-c0ac-3b1884393209"
      },
      "execution_count": null,
      "outputs": [
        {
          "output_type": "stream",
          "name": "stdout",
          "text": [
            "\n",
            "Hybrid Model Recommendations for user 'AHIKJUDTVJ4T6DV6IUGFYZ5LXMPA,AE55KTFVNXYFD5FPYWP2OUPEYNPQ,AEBWA5I4QFCA3P3OBEPMELBGN4GQ,AHMGAC6QM62UXNEOCZIHLHSXPP2Q,AFHROSCGIXUPV3FYQ7H5QOD46Q7Q,AEAMIR3CMSA32IDEINSJKHRNANTA,AF355FTXYAKFH5NYPRTE7SL3WO3Q,AG5DWPD54QGSLWJ6QUFERLPNAX4Q':\n",
            "[('B08PPHFXG3', 3.078044157627761), ('B0BQRJ3C47', 3.064461889810413), ('B07W14CHV8', 3.057689223060826), ('B07TTSS5MP', 3.0517974890200654), ('B07NTKGW45', 3.0517305902486633)]\n"
          ]
        }
      ]
    },
    {
      "cell_type": "markdown",
      "source": [
        "The Hybrid Model Recommendations for the user 'AHIKJUDTVJ4T6DV6IUGFYZ5LXMPA,...' are as follows:\n",
        "\n",
        "Product ID: B08PPHFXG3 – Final Score: 3.08\n",
        "\n",
        "Product ID: B0BQRJ3C47 – Final Score: 3.06\n",
        "\n",
        "Product ID: B07W14CHV8 – Final Score: 3.06\n",
        "\n",
        "Product ID: B07TTSS5MP – Final Score: 3.05\n",
        "\n",
        "Product ID: B07NTKGW45 – Final Score: 3.05"
      ],
      "metadata": {
        "id": "KQpNxpUSBXai"
      }
    },
    {
      "cell_type": "markdown",
      "source": [
        "# **Evaluate the Hybrid Model**"
      ],
      "metadata": {
        "id": "BHx6ySW7BewA"
      }
    },
    {
      "cell_type": "code",
      "source": [
        "from sklearn.metrics import precision_score, recall_score, f1_score\n",
        "\n",
        "def evaluate_hybrid_recommendations(user_id, hybrid_recommendations, data, threshold=4.0, top_n=5):\n",
        "    # Define relevant products: products rated highly by the user (threshold is for high ratings)\n",
        "    relevant_products = data[(data['user_id'] == user_id) & (data['rating'] >= threshold)]['product_id'].tolist()\n",
        "\n",
        "    # Define recommended products: products recommended by the hybrid model\n",
        "    recommended_product_ids = [product_id for product_id, score in hybrid_recommendations]\n",
        "\n",
        "    # Mark relevance: 1 for relevant, 0 for not relevant\n",
        "    y_true = [1 if product_id in relevant_products else 0 for product_id in recommended_product_ids]\n",
        "    y_pred = [1] * len(recommended_product_ids)  # All recommended products are treated as \"predicted\"\n",
        "\n",
        "    # Calculate Precision, Recall, and F1-Score\n",
        "    precision = precision_score(y_true, y_pred)\n",
        "    recall = recall_score(y_true, y_pred)\n",
        "    f1 = f1_score(y_true, y_pred)\n",
        "\n",
        "    return precision, recall, f1\n",
        "\n",
        "# Example: Evaluate Hybrid Model recommendations for the user with the maximum interactions\n",
        "precision, recall, f1 = evaluate_hybrid_recommendations(\n",
        "    user_id=target_user,\n",
        "    hybrid_recommendations=hybrid_recommendations,\n",
        "    data=data\n",
        ")\n",
        "\n",
        "print(f\"\\nEvaluation Metrics for Hybrid Model:\")\n",
        "print(f\"Precision: {precision:.2f}\")\n",
        "print(f\"Recall: {recall:.2f}\")\n",
        "print(f\"F1-Score: {f1:.2f}\")\n"
      ],
      "metadata": {
        "colab": {
          "base_uri": "https://localhost:8080/"
        },
        "id": "5Ix5veqKBSfu",
        "outputId": "fdc0c440-2e98-41a4-c48d-af8b2d9db6d9"
      },
      "execution_count": null,
      "outputs": [
        {
          "output_type": "stream",
          "name": "stdout",
          "text": [
            "\n",
            "Evaluation Metrics for Hybrid Model:\n",
            "Precision: 0.00\n",
            "Recall: 0.00\n",
            "F1-Score: 0.00\n"
          ]
        },
        {
          "output_type": "stream",
          "name": "stderr",
          "text": [
            "/usr/local/lib/python3.11/dist-packages/sklearn/metrics/_classification.py:1565: UndefinedMetricWarning: Recall is ill-defined and being set to 0.0 due to no true samples. Use `zero_division` parameter to control this behavior.\n",
            "  _warn_prf(average, modifier, f\"{metric.capitalize()} is\", len(result))\n"
          ]
        }
      ]
    },
    {
      "cell_type": "code",
      "source": [
        "# Check relevant products (those rated above a threshold of 4.0)\n",
        "relevant_products = data[(data['user_id'] == target_user) & (data['rating'] >= 4.0)]['product_id'].tolist()\n",
        "print(f\"\\nRelevant Products for user '{target_user}':\")\n",
        "print(relevant_products)\n"
      ],
      "metadata": {
        "colab": {
          "base_uri": "https://localhost:8080/"
        },
        "id": "4ogz0ROIBqte",
        "outputId": "b21f6b5b-c5a0-4f81-e9ea-2e7655d229e6"
      },
      "execution_count": null,
      "outputs": [
        {
          "output_type": "stream",
          "name": "stdout",
          "text": [
            "\n",
            "Relevant Products for user 'AHIKJUDTVJ4T6DV6IUGFYZ5LXMPA,AE55KTFVNXYFD5FPYWP2OUPEYNPQ,AEBWA5I4QFCA3P3OBEPMELBGN4GQ,AHMGAC6QM62UXNEOCZIHLHSXPP2Q,AFHROSCGIXUPV3FYQ7H5QOD46Q7Q,AEAMIR3CMSA32IDEINSJKHRNANTA,AF355FTXYAKFH5NYPRTE7SL3WO3Q,AG5DWPD54QGSLWJ6QUFERLPNAX4Q':\n",
            "['B09NHVCHS9', 'B09NJN8L25', 'B09NKZXMWJ', 'B0B3N8VG24', 'B0B3MQXNFB', 'B08P9RYPLR', 'B08N1WL9XW', 'B09NHVCHS9', 'B09NL4DJ2Z', 'B09NHVCHS9']\n"
          ]
        }
      ]
    },
    {
      "cell_type": "code",
      "source": [
        "# Remove duplicates from the relevant products list\n",
        "relevant_products = list(set(relevant_products))  # Remove duplicates\n",
        "\n",
        "# Recalculate Precision, Recall, and F1-Score\n",
        "def evaluate_hybrid_recommendations(user_id, hybrid_recommendations, data, relevant_products, top_n=5):\n",
        "    # Define recommended products: products recommended by the hybrid model\n",
        "    recommended_product_ids = [product_id for product_id, score in hybrid_recommendations]\n",
        "\n",
        "    # Mark relevance: 1 for relevant, 0 for not relevant\n",
        "    y_true = [1 if product_id in relevant_products else 0 for product_id in recommended_product_ids]\n",
        "    y_pred = [1] * len(recommended_product_ids)  # All recommended products are treated as \"predicted\"\n",
        "\n",
        "    # Calculate Precision, Recall, and F1-Score\n",
        "    precision = precision_score(y_true, y_pred)\n",
        "    recall = recall_score(y_true, y_pred)\n",
        "    f1 = f1_score(y_true, y_pred)\n",
        "\n",
        "    return precision, recall, f1\n",
        "\n",
        "# Example: Re-evaluate Hybrid Model recommendations\n",
        "precision, recall, f1 = evaluate_hybrid_recommendations(\n",
        "    user_id=target_user,\n",
        "    hybrid_recommendations=hybrid_recommendations,\n",
        "    data=data,\n",
        "    relevant_products=relevant_products\n",
        ")\n",
        "\n",
        "print(f\"\\nUpdated Evaluation Metrics for Hybrid Model:\")\n",
        "print(f\"Precision: {precision:.2f}\")\n",
        "print(f\"Recall: {recall:.2f}\")\n",
        "print(f\"F1-Score: {f1:.2f}\")\n"
      ],
      "metadata": {
        "colab": {
          "base_uri": "https://localhost:8080/"
        },
        "id": "1vbvM8BSCG2t",
        "outputId": "d35987b0-08bc-45b5-dada-bb93351ca2e3"
      },
      "execution_count": null,
      "outputs": [
        {
          "output_type": "stream",
          "name": "stdout",
          "text": [
            "\n",
            "Updated Evaluation Metrics for Hybrid Model:\n",
            "Precision: 0.00\n",
            "Recall: 0.00\n",
            "F1-Score: 0.00\n"
          ]
        },
        {
          "output_type": "stream",
          "name": "stderr",
          "text": [
            "/usr/local/lib/python3.11/dist-packages/sklearn/metrics/_classification.py:1565: UndefinedMetricWarning: Recall is ill-defined and being set to 0.0 due to no true samples. Use `zero_division` parameter to control this behavior.\n",
            "  _warn_prf(average, modifier, f\"{metric.capitalize()} is\", len(result))\n"
          ]
        }
      ]
    },
    {
      "cell_type": "markdown",
      "source": [
        "Compare SVD and Content-Based Recommendations"
      ],
      "metadata": {
        "id": "JVMJmC60DGl7"
      }
    },
    {
      "cell_type": "code",
      "source": [
        "# Print SVD-based Recommendations\n",
        "print(\"\\nSVD-based Recommendations:\")\n",
        "for product_id, rating in svd_recommendations:\n",
        "    print(f\"Product ID: {product_id}, Predicted Rating: {rating:.2f}\")\n",
        "\n",
        "# Print Content-Based Recommendations\n",
        "print(\"\\nContent-Based Recommendations:\")\n",
        "for product_id, similarity in content_based_recommendations:\n",
        "    print(f\"Product ID: {product_id}, Similarity Score: {similarity:.2f}\")\n",
        "\n",
        "# Check for overlap between the two recommendation lists\n",
        "svd_product_ids = [product_id for product_id, _ in svd_recommendations]\n",
        "content_based_product_ids = [product_id for product_id, _ in content_based_recommendations]\n",
        "\n",
        "# Find common products between SVD and Content-Based\n",
        "common_products = set(svd_product_ids).intersection(content_based_product_ids)\n",
        "print(f\"\\nCommon Products between SVD and Content-Based Filtering: {common_products}\")\n"
      ],
      "metadata": {
        "colab": {
          "base_uri": "https://localhost:8080/"
        },
        "id": "aVS3rVejCOH_",
        "outputId": "73e57599-9372-44e2-caf8-3c2b2f46412e"
      },
      "execution_count": null,
      "outputs": [
        {
          "output_type": "stream",
          "name": "stdout",
          "text": [
            "\n",
            "SVD-based Recommendations:\n",
            "Product ID: B08PPHFXG3, Predicted Rating: 4.40\n",
            "Product ID: B0BQRJ3C47, Predicted Rating: 4.38\n",
            "Product ID: B07W14CHV8, Predicted Rating: 4.37\n",
            "Product ID: B07TTSS5MP, Predicted Rating: 4.36\n",
            "Product ID: B07NTKGW45, Predicted Rating: 4.36\n",
            "\n",
            "Content-Based Recommendations:\n",
            "Product ID: B09NHVCHS9, Similarity Score: 1.00\n",
            "Product ID: B09NL4DJ2Z, Similarity Score: 0.99\n",
            "Product ID: B09NKZXMWJ, Similarity Score: 0.99\n",
            "Product ID: B09NJN8L25, Similarity Score: 0.98\n",
            "Product ID: B09NHVCHS9, Similarity Score: 0.98\n",
            "\n",
            "Common Products between SVD and Content-Based Filtering: set()\n"
          ]
        }
      ]
    },
    {
      "cell_type": "markdown",
      "source": [
        "It appears that there is no overlap between the recommendations from the SVD-based Collaborative Filtering model and the Content-Based Filtering model, as indicated by the empty set for common products.\n",
        "\n",
        "Key Observations:\n",
        "SVD-based Recommendations:\n",
        "These are based on user-item interactions and predicted ratings. Products recommended are primarily determined by the user's historical interactions.\n",
        "Content-Based Recommendations:\n",
        "These are based on the textual similarity between products. The model is recommending products that have similar descriptions or features, but none of them overlap with the ones recommended by the SVD model."
      ],
      "metadata": {
        "id": "MZBPm_UVDPUJ"
      }
    },
    {
      "cell_type": "markdown",
      "source": [
        "Combine Recommendations Without Duplicates"
      ],
      "metadata": {
        "id": "RLwYsGFXDY6Z"
      }
    },
    {
      "cell_type": "code",
      "source": [
        "def combine_recommendations_no_duplicates(svd_recommendations, content_based_recommendations, top_n=5):\n",
        "    # Create a dictionary to store recommendations with their scores\n",
        "    hybrid_recommendations = {}\n",
        "\n",
        "    # Add SVD-based recommendations (predicted ratings) to the hybrid model\n",
        "    for product_id, rating in svd_recommendations:\n",
        "        if product_id not in hybrid_recommendations:\n",
        "            hybrid_recommendations[product_id] = {'svd_score': rating, 'content_score': 0}\n",
        "        else:\n",
        "            hybrid_recommendations[product_id]['svd_score'] = rating\n",
        "\n",
        "    # Add Content-Based recommendations (text similarity scores) to the hybrid model\n",
        "    for product_id, content_score in content_based_recommendations:\n",
        "        if product_id not in hybrid_recommendations:\n",
        "            hybrid_recommendations[product_id] = {'svd_score': 0, 'content_score': content_score}\n",
        "        else:\n",
        "            hybrid_recommendations[product_id]['content_score'] = content_score\n",
        "\n",
        "    # Sort the products based on a weighted combination of both scores (you can adjust the weight)\n",
        "    for product_id, scores in hybrid_recommendations.items():\n",
        "        hybrid_recommendations[product_id]['final_score'] = (scores['svd_score'] * 0.7) + (scores['content_score'] * 0.3)\n",
        "\n",
        "    # Sort by the final score in descending order\n",
        "    sorted_recommendations = sorted(hybrid_recommendations.items(), key=lambda x: x[1]['final_score'], reverse=True)\n",
        "\n",
        "    # Return the top N recommendations without duplicates\n",
        "    return [(product_id, scores['final_score']) for product_id, scores in sorted_recommendations[:top_n]]\n",
        "\n",
        "# Combine recommendations from SVD and Content-Based Filtering for the user\n",
        "hybrid_recommendations = combine_recommendations_no_duplicates(svd_recommendations, content_based_recommendations, top_n=5)\n",
        "print(f\"\\nHybrid Model Recommendations (Combined):\")\n",
        "print(hybrid_recommendations)\n"
      ],
      "metadata": {
        "colab": {
          "base_uri": "https://localhost:8080/"
        },
        "id": "lJ9cED2-DKVt",
        "outputId": "d8d7a68d-fa6e-4d33-d848-52898a799d7e"
      },
      "execution_count": null,
      "outputs": [
        {
          "output_type": "stream",
          "name": "stdout",
          "text": [
            "\n",
            "Hybrid Model Recommendations (Combined):\n",
            "[('B08PPHFXG3', 3.078044157627761), ('B0BQRJ3C47', 3.064461889810413), ('B07W14CHV8', 3.057689223060826), ('B07TTSS5MP', 3.0517974890200654), ('B07NTKGW45', 3.0517305902486633)]\n"
          ]
        }
      ]
    },
    {
      "cell_type": "markdown",
      "source": [
        "# **Evaluation Hybrid Model**"
      ],
      "metadata": {
        "id": "OxnmZO1CDk98"
      }
    },
    {
      "cell_type": "code",
      "source": [
        "from sklearn.metrics import precision_score, recall_score, f1_score\n",
        "\n",
        "def evaluate_hybrid_recommendations(user_id, hybrid_recommendations, data, threshold=1.0, top_n=5):\n",
        "    # Define relevant products: products rated highly by the user (threshold is for high ratings)\n",
        "    relevant_products = data[(data['user_id'] == user_id) & (data['rating'] >= threshold)]['product_id'].tolist()\n",
        "\n",
        "    # Define recommended products: products recommended by the hybrid model\n",
        "    recommended_product_ids = [product_id for product_id, score in hybrid_recommendations]\n",
        "\n",
        "    # Mark relevance: 1 for relevant, 0 for not relevant\n",
        "    y_true = [1 if product_id in relevant_products else 0 for product_id in recommended_product_ids]\n",
        "    y_pred = [1] * len(recommended_product_ids)  # All recommended products are treated as \"predicted\"\n",
        "\n",
        "    # Calculate Precision, Recall, and F1-Score\n",
        "    precision = precision_score(y_true, y_pred)\n",
        "    recall = recall_score(y_true, y_pred)\n",
        "    f1 = f1_score(y_true, y_pred)\n",
        "\n",
        "    return precision, recall, f1\n",
        "\n",
        "# Example: Re-evaluate Hybrid Model recommendations for the user with the maximum interactions\n",
        "precision, recall, f1 = evaluate_hybrid_recommendations(\n",
        "    user_id=target_user,\n",
        "    hybrid_recommendations=hybrid_recommendations,\n",
        "    data=data\n",
        ")\n",
        "\n",
        "print(f\"\\nUpdated Evaluation Metrics for Hybrid Model:\")\n",
        "print(f\"Precision: {precision:.2f}\")\n",
        "print(f\"Recall: {recall:.2f}\")\n",
        "print(f\"F1-Score: {f1:.2f}\")\n"
      ],
      "metadata": {
        "colab": {
          "base_uri": "https://localhost:8080/"
        },
        "id": "sGcKLOmkDbCe",
        "outputId": "382a1741-47a0-49ed-937a-52226592b9f8"
      },
      "execution_count": null,
      "outputs": [
        {
          "output_type": "stream",
          "name": "stdout",
          "text": [
            "\n",
            "Updated Evaluation Metrics for Hybrid Model:\n",
            "Precision: 0.00\n",
            "Recall: 0.00\n",
            "F1-Score: 0.00\n"
          ]
        },
        {
          "output_type": "stream",
          "name": "stderr",
          "text": [
            "/usr/local/lib/python3.11/dist-packages/sklearn/metrics/_classification.py:1565: UndefinedMetricWarning: Recall is ill-defined and being set to 0.0 due to no true samples. Use `zero_division` parameter to control this behavior.\n",
            "  _warn_prf(average, modifier, f\"{metric.capitalize()} is\", len(result))\n"
          ]
        }
      ]
    },
    {
      "cell_type": "markdown",
      "source": [
        "**Inspect Relevant Products**"
      ],
      "metadata": {
        "id": "uqz_9pI8EBUt"
      }
    },
    {
      "cell_type": "code",
      "source": [
        "# Check relevant products (those rated or interacted with by the user)\n",
        "relevant_products = data[(data['user_id'] == target_user)]['product_id'].tolist()\n",
        "print(f\"\\nRelevant Products for user '{target_user}':\")\n",
        "print(relevant_products)\n"
      ],
      "metadata": {
        "colab": {
          "base_uri": "https://localhost:8080/"
        },
        "id": "ozSta8qZDp38",
        "outputId": "d5329e03-04b4-4ed0-af91-82e190131423"
      },
      "execution_count": null,
      "outputs": [
        {
          "output_type": "stream",
          "name": "stdout",
          "text": [
            "\n",
            "Relevant Products for user 'AHIKJUDTVJ4T6DV6IUGFYZ5LXMPA,AE55KTFVNXYFD5FPYWP2OUPEYNPQ,AEBWA5I4QFCA3P3OBEPMELBGN4GQ,AHMGAC6QM62UXNEOCZIHLHSXPP2Q,AFHROSCGIXUPV3FYQ7H5QOD46Q7Q,AEAMIR3CMSA32IDEINSJKHRNANTA,AF355FTXYAKFH5NYPRTE7SL3WO3Q,AG5DWPD54QGSLWJ6QUFERLPNAX4Q':\n",
            "['B09NHVCHS9', 'B09NJN8L25', 'B09NKZXMWJ', 'B0B3N8VG24', 'B0B3MQXNFB', 'B08P9RYPLR', 'B08N1WL9XW', 'B09NHVCHS9', 'B09NL4DJ2Z', 'B09NHVCHS9']\n"
          ]
        }
      ]
    },
    {
      "cell_type": "code",
      "source": [
        "# Remove duplicates from the relevant products list\n",
        "relevant_products = list(set(relevant_products))  # Remove duplicates\n",
        "\n",
        "# Recalculate Precision, Recall, and F1-Score\n",
        "def evaluate_hybrid_recommendations(user_id, hybrid_recommendations, data, relevant_products, top_n=5):\n",
        "    # Define recommended products: products recommended by the hybrid model\n",
        "    recommended_product_ids = [product_id for product_id, score in hybrid_recommendations]\n",
        "\n",
        "    # Mark relevance: 1 for relevant, 0 for not relevant\n",
        "    y_true = [1 if product_id in relevant_products else 0 for product_id in recommended_product_ids]\n",
        "    y_pred = [1] * len(recommended_product_ids)  # All recommended products are treated as \"predicted\"\n",
        "\n",
        "    # Calculate Precision, Recall, and F1-Score\n",
        "    precision = precision_score(y_true, y_pred)\n",
        "    recall = recall_score(y_true, y_pred)\n",
        "    f1 = f1_score(y_true, y_pred)\n",
        "\n",
        "    return precision, recall, f1\n",
        "\n",
        "# Re-evaluate Hybrid Model recommendations for the user with the maximum interactions\n",
        "precision, recall, f1 = evaluate_hybrid_recommendations(\n",
        "    user_id=target_user,\n",
        "    hybrid_recommendations=hybrid_recommendations,\n",
        "    data=data,\n",
        "    relevant_products=relevant_products\n",
        ")\n",
        "\n",
        "print(f\"\\nUpdated Evaluation Metrics for Hybrid Model:\")\n",
        "print(f\"Precision: {precision:.2f}\")\n",
        "print(f\"Recall: {recall:.2f}\")\n",
        "print(f\"F1-Score: {f1:.2f}\")\n"
      ],
      "metadata": {
        "colab": {
          "base_uri": "https://localhost:8080/"
        },
        "id": "JyR5fu84ECZe",
        "outputId": "0aff8a94-2d93-453a-dee8-379a559dac2f"
      },
      "execution_count": null,
      "outputs": [
        {
          "output_type": "stream",
          "name": "stdout",
          "text": [
            "\n",
            "Updated Evaluation Metrics for Hybrid Model:\n",
            "Precision: 0.00\n",
            "Recall: 0.00\n",
            "F1-Score: 0.00\n"
          ]
        },
        {
          "output_type": "stream",
          "name": "stderr",
          "text": [
            "/usr/local/lib/python3.11/dist-packages/sklearn/metrics/_classification.py:1565: UndefinedMetricWarning: Recall is ill-defined and being set to 0.0 due to no true samples. Use `zero_division` parameter to control this behavior.\n",
            "  _warn_prf(average, modifier, f\"{metric.capitalize()} is\", len(result))\n"
          ]
        }
      ]
    },
    {
      "cell_type": "markdown",
      "source": [
        "The Hybrid Model, which combines SVD-based Collaborative Filtering and Content-Based Filtering, is not yielding meaningful results for the current dataset. Despite adjusting the relevance threshold and removing duplicates, the evaluation metrics (Precision, Recall, F1-Score) remain at 0.00. This suggests a few key issues:\n",
        "\n",
        "No Overlap Between Recommendations and Relevant Products:\n",
        "\n",
        "The recommended products from both the Collaborative Filtering (SVD) and Content-Based Filtering models do not align with the products that the user has interacted with. Even after relaxing the relevance threshold and removing duplicates, no relevant products are identified in the top N recommendations.\n",
        "Sparse Interactions:\n",
        "\n",
        "The user in question may have limited interactions with the dataset (e.g., a small number of rated or purchased products), which reduces the chance of finding relevant recommendations from both models. In such cases, Collaborative Filtering and Content-Based Filtering may not provide enough relevant suggestions.\n",
        "Low Diversity in Recommendations:\n",
        "\n",
        "The models may be recommending products that are either too niche or not sufficiently diverse in terms of user preferences and behavior. Without a broader set of interactions or features, the hybrid approach is likely to fail in providing meaningful overlap.\n",
        "Evaluation Metrics Misalignment:\n",
        "\n",
        "The evaluation is based on product ratings, but the recommended products might not be highly rated or have different rating distributions. This misalignment contributes to the undefined metrics.\n",
        "Conclusion:\n",
        "Given the dataset’s limitations (sparse interactions, low overlap, and potential feature mismatches), the Hybrid Model approach is not suitable for this specific dataset. We recommend exploring alternative strategies, such as:\n",
        "\n",
        "Fallback to Popular Products or Random Recommendations for users with sparse interaction data.\n",
        "Exploring other hybridization techniques that don't rely solely on ratings or textual similarity, but also incorporate other factors like user demographics or behavioral data.\n"
      ],
      "metadata": {
        "id": "reSKT4yeEtNh"
      }
    }
  ]
}