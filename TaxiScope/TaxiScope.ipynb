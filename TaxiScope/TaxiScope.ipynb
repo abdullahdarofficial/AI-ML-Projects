{
  "nbformat": 4,
  "nbformat_minor": 0,
  "metadata": {
    "colab": {
      "provenance": []
    },
    "kernelspec": {
      "name": "python3",
      "display_name": "Python 3"
    },
    "language_info": {
      "name": "python"
    }
  },
  "cells": [
    {
      "cell_type": "markdown",
      "source": [
        "# **Project Setup**"
      ],
      "metadata": {
        "id": "DP_0m6kl0rzn"
      }
    },
    {
      "cell_type": "markdown",
      "source": [
        "**TaxiScope** leverages Apache Spark to analyze NYC taxi trip data, uncovering trends like peak demand hours, fare distributions, and high-revenue zones. The project includes machine learning models to predict fares based on trip details and clustering to identify hotspots, offering scalable insights for smarter transportation planning."
      ],
      "metadata": {
        "id": "fG10D85A8O2t"
      }
    },
    {
      "cell_type": "code",
      "execution_count": 1,
      "metadata": {
        "colab": {
          "base_uri": "https://localhost:8080/"
        },
        "id": "YFdhoBnb0bhe",
        "outputId": "23ceda02-3abf-42ee-a631-70d2a8513241"
      },
      "outputs": [
        {
          "output_type": "stream",
          "name": "stderr",
          "text": [
            "<ipython-input-1-6df4c903d2f8>:7: DtypeWarning: Columns (3) have mixed types. Specify dtype option on import or set low_memory=False.\n",
            "  data = pd.read_csv(file_path)\n"
          ]
        },
        {
          "output_type": "stream",
          "name": "stdout",
          "text": [
            "Shape of the dataset (rows, columns): (83691, 20)\n",
            "\n",
            "Columns in the dataset:\n",
            "Index(['VendorID', 'lpep_pickup_datetime', 'lpep_dropoff_datetime',\n",
            "       'store_and_fwd_flag', 'RatecodeID', 'PULocationID', 'DOLocationID',\n",
            "       'passenger_count', 'trip_distance', 'fare_amount', 'extra', 'mta_tax',\n",
            "       'tip_amount', 'tolls_amount', 'ehail_fee', 'improvement_surcharge',\n",
            "       'total_amount', 'payment_type', 'trip_type', 'congestion_surcharge'],\n",
            "      dtype='object')\n",
            "\n",
            "Summary of the dataset:\n",
            "<class 'pandas.core.frame.DataFrame'>\n",
            "RangeIndex: 83691 entries, 0 to 83690\n",
            "Data columns (total 20 columns):\n",
            " #   Column                 Non-Null Count  Dtype  \n",
            "---  ------                 --------------  -----  \n",
            " 0   VendorID               51173 non-null  float64\n",
            " 1   lpep_pickup_datetime   83691 non-null  object \n",
            " 2   lpep_dropoff_datetime  83691 non-null  object \n",
            " 3   store_and_fwd_flag     51173 non-null  object \n",
            " 4   RatecodeID             51173 non-null  float64\n",
            " 5   PULocationID           83691 non-null  int64  \n",
            " 6   DOLocationID           83691 non-null  int64  \n",
            " 7   passenger_count        51173 non-null  float64\n",
            " 8   trip_distance          83691 non-null  float64\n",
            " 9   fare_amount            83691 non-null  float64\n",
            " 10  extra                  83691 non-null  float64\n",
            " 11  mta_tax                83691 non-null  float64\n",
            " 12  tip_amount             83691 non-null  float64\n",
            " 13  tolls_amount           83691 non-null  float64\n",
            " 14  ehail_fee              0 non-null      float64\n",
            " 15  improvement_surcharge  83691 non-null  float64\n",
            " 16  total_amount           83691 non-null  float64\n",
            " 17  payment_type           51173 non-null  float64\n",
            " 18  trip_type              51173 non-null  float64\n",
            " 19  congestion_surcharge   51173 non-null  float64\n",
            "dtypes: float64(15), int64(2), object(3)\n",
            "memory usage: 12.8+ MB\n",
            "None\n",
            "\n",
            "First few rows of the dataset:\n",
            "   VendorID lpep_pickup_datetime lpep_dropoff_datetime store_and_fwd_flag  \\\n",
            "0       1.0  2021-07-01 00:30:52   2021-07-01 00:35:36                  N   \n",
            "1       2.0  2021-07-01 00:25:36   2021-07-01 01:01:31                  N   \n",
            "2       2.0  2021-07-01 00:05:58   2021-07-01 00:12:00                  N   \n",
            "3       2.0  2021-07-01 00:41:40   2021-07-01 00:47:23                  N   \n",
            "4       2.0  2021-07-01 00:51:32   2021-07-01 00:58:46                  N   \n",
            "\n",
            "   RatecodeID  PULocationID  DOLocationID  passenger_count  trip_distance  \\\n",
            "0         1.0            74           168              1.0           1.20   \n",
            "1         1.0           116           265              2.0          13.69   \n",
            "2         1.0            97            33              1.0           0.95   \n",
            "3         1.0            74            42              1.0           1.24   \n",
            "4         1.0            42           244              1.0           1.10   \n",
            "\n",
            "   fare_amount  extra  mta_tax  tip_amount  tolls_amount  ehail_fee  \\\n",
            "0          6.0    0.5      0.5        0.00           0.0        NaN   \n",
            "1         42.0    0.5      0.5        0.00           0.0        NaN   \n",
            "2          6.5    0.5      0.5        2.34           0.0        NaN   \n",
            "3          6.5    0.5      0.5        0.00           0.0        NaN   \n",
            "4          7.0    0.5      0.5        0.00           0.0        NaN   \n",
            "\n",
            "   improvement_surcharge  total_amount  payment_type  trip_type  \\\n",
            "0                    0.3          7.30           2.0        1.0   \n",
            "1                    0.3         43.30           2.0        1.0   \n",
            "2                    0.3         10.14           1.0        1.0   \n",
            "3                    0.3          7.80           2.0        1.0   \n",
            "4                    0.3          8.30           2.0        1.0   \n",
            "\n",
            "   congestion_surcharge  \n",
            "0                   0.0  \n",
            "1                   0.0  \n",
            "2                   0.0  \n",
            "3                   0.0  \n",
            "4                   0.0  \n",
            "\n",
            "Statistical Summary of numerical columns:\n",
            "           VendorID    RatecodeID  PULocationID  DOLocationID  \\\n",
            "count  51173.000000  51173.000000  83691.000000  83691.000000   \n",
            "mean       1.851113      1.159244    108.362572    133.270005   \n",
            "std        0.355981      0.773260     70.370170     77.216791   \n",
            "min        1.000000      1.000000      3.000000      1.000000   \n",
            "25%        2.000000      1.000000     56.000000     69.000000   \n",
            "50%        2.000000      1.000000     75.000000    132.000000   \n",
            "75%        2.000000      1.000000    166.000000    205.000000   \n",
            "max        2.000000      5.000000    265.000000    265.000000   \n",
            "\n",
            "       passenger_count  trip_distance   fare_amount         extra  \\\n",
            "count     51173.000000   83691.000000  83691.000000  83691.000000   \n",
            "mean          1.307858     194.354699     20.388305      1.156707   \n",
            "std           0.984362    4405.549221     15.583552      1.367897   \n",
            "min           0.000000       0.000000   -150.000000     -4.500000   \n",
            "25%           1.000000       1.350000      9.000000      0.000000   \n",
            "50%           1.000000       2.760000     16.000000      0.500000   \n",
            "75%           1.000000       6.200000     26.830000      2.750000   \n",
            "max          32.000000  260517.930000    480.000000      8.250000   \n",
            "\n",
            "            mta_tax    tip_amount  tolls_amount  ehail_fee  \\\n",
            "count  83691.000000  83691.000000  83691.000000        0.0   \n",
            "mean       0.293562      1.058618      0.624529        NaN   \n",
            "std        0.247773      2.368771      1.990481        NaN   \n",
            "min       -0.500000     -1.140000      0.000000        NaN   \n",
            "25%        0.000000      0.000000      0.000000        NaN   \n",
            "50%        0.500000      0.000000      0.000000        NaN   \n",
            "75%        0.500000      1.660000      0.000000        NaN   \n",
            "max        0.500000     87.710000     30.050000        NaN   \n",
            "\n",
            "       improvement_surcharge  total_amount  payment_type     trip_type  \\\n",
            "count           83691.000000  83691.000000  51173.000000  51173.000000   \n",
            "mean                0.297745     24.204836      1.421726      1.034393   \n",
            "std                 0.031219     17.262183      0.511146      0.182239   \n",
            "min                -0.300000   -150.300000      1.000000      1.000000   \n",
            "25%                 0.300000     11.760000      1.000000      1.000000   \n",
            "50%                 0.300000     19.800000      1.000000      1.000000   \n",
            "75%                 0.300000     31.300000      2.000000      1.000000   \n",
            "max                 0.300000    480.310000      5.000000      2.000000   \n",
            "\n",
            "       congestion_surcharge  \n",
            "count          51173.000000  \n",
            "mean               0.642815  \n",
            "std                1.164219  \n",
            "min               -2.750000  \n",
            "25%                0.000000  \n",
            "50%                0.000000  \n",
            "75%                0.000000  \n",
            "max                2.750000  \n"
          ]
        }
      ],
      "source": [
        "# Import necessary libraries\n",
        "import pandas as pd\n",
        "\n",
        "# Load the dataset\n",
        "# Replace 'your_dataset.csv' with the path or URL to your dataset\n",
        "file_path = 'taxi_tripdata.csv'\n",
        "data = pd.read_csv(file_path)\n",
        "\n",
        "# Basic insights about the dataset\n",
        "print(\"Shape of the dataset (rows, columns):\", data.shape)\n",
        "\n",
        "print(\"\\nColumns in the dataset:\")\n",
        "print(data.columns)\n",
        "\n",
        "print(\"\\nSummary of the dataset:\")\n",
        "print(data.info())\n",
        "\n",
        "print(\"\\nFirst few rows of the dataset:\")\n",
        "print(data.head())\n",
        "\n",
        "print(\"\\nStatistical Summary of numerical columns:\")\n",
        "print(data.describe())\n"
      ]
    },
    {
      "cell_type": "markdown",
      "source": [
        "**Install and Configure PySpark in Colab**"
      ],
      "metadata": {
        "id": "KshAYmO803DN"
      }
    },
    {
      "cell_type": "code",
      "source": [
        "# Install PySpark\n",
        "!pip install pyspark\n",
        "\n",
        "# Verify installation\n",
        "import pyspark\n",
        "from pyspark.sql import SparkSession\n",
        "\n",
        "# Create SparkSession\n",
        "spark = SparkSession.builder \\\n",
        "    .appName(\"NYC Taxi Trip Analysis\") \\\n",
        "    .getOrCreate()\n",
        "\n",
        "# Confirm Spark is running\n",
        "print(\"Apache Spark setup completed successfully!\")\n",
        "print(f\"Spark version: {spark.version}\")\n"
      ],
      "metadata": {
        "colab": {
          "base_uri": "https://localhost:8080/"
        },
        "id": "fb1yaB311PlD",
        "outputId": "64c1b2c5-e5a8-4242-e32f-a4d0f97950d1"
      },
      "execution_count": 2,
      "outputs": [
        {
          "output_type": "stream",
          "name": "stdout",
          "text": [
            "Requirement already satisfied: pyspark in /usr/local/lib/python3.11/dist-packages (3.5.4)\n",
            "Requirement already satisfied: py4j==0.10.9.7 in /usr/local/lib/python3.11/dist-packages (from pyspark) (0.10.9.7)\n",
            "Apache Spark setup completed successfully!\n",
            "Spark version: 3.5.4\n"
          ]
        }
      ]
    },
    {
      "cell_type": "markdown",
      "source": [
        "**Load the Dataset**"
      ],
      "metadata": {
        "id": "RrVj8cEh1YQX"
      }
    },
    {
      "cell_type": "code",
      "source": [
        "# Provide the path to your dataset (CSV format)\n",
        "file_path = 'taxi_tripdata.csv'  # Replace with the actual file path or upload the dataset to Colab\n",
        "\n",
        "# Load the dataset into a Spark DataFrame\n",
        "df = spark.read.csv(file_path, header=True, inferSchema=True)\n",
        "\n",
        "# Show the first few rows of the dataset\n",
        "print(\"First 5 rows of the dataset:\")\n",
        "df.show(5)\n",
        "\n",
        "# Print the schema of the DataFrame\n",
        "print(\"\\nSchema of the dataset:\")\n",
        "df.printSchema()\n"
      ],
      "metadata": {
        "colab": {
          "base_uri": "https://localhost:8080/"
        },
        "id": "wK2XHbmD1ZMq",
        "outputId": "07f0bdb0-4064-4727-f4f1-66e7a0dba7d7"
      },
      "execution_count": 3,
      "outputs": [
        {
          "output_type": "stream",
          "name": "stdout",
          "text": [
            "First 5 rows of the dataset:\n",
            "+--------+--------------------+---------------------+------------------+----------+------------+------------+---------------+-------------+-----------+-----+-------+----------+------------+---------+---------------------+------------+------------+---------+--------------------+\n",
            "|VendorID|lpep_pickup_datetime|lpep_dropoff_datetime|store_and_fwd_flag|RatecodeID|PULocationID|DOLocationID|passenger_count|trip_distance|fare_amount|extra|mta_tax|tip_amount|tolls_amount|ehail_fee|improvement_surcharge|total_amount|payment_type|trip_type|congestion_surcharge|\n",
            "+--------+--------------------+---------------------+------------------+----------+------------+------------+---------------+-------------+-----------+-----+-------+----------+------------+---------+---------------------+------------+------------+---------+--------------------+\n",
            "|       1| 2021-07-01 00:30:52|  2021-07-01 00:35:36|                 N|         1|          74|         168|              1|          1.2|        6.0|  0.5|    0.5|       0.0|         0.0|     NULL|                  0.3|         7.3|           2|        1|                 0.0|\n",
            "|       2| 2021-07-01 00:25:36|  2021-07-01 01:01:31|                 N|         1|         116|         265|              2|        13.69|       42.0|  0.5|    0.5|       0.0|         0.0|     NULL|                  0.3|        43.3|           2|        1|                 0.0|\n",
            "|       2| 2021-07-01 00:05:58|  2021-07-01 00:12:00|                 N|         1|          97|          33|              1|         0.95|        6.5|  0.5|    0.5|      2.34|         0.0|     NULL|                  0.3|       10.14|           1|        1|                 0.0|\n",
            "|       2| 2021-07-01 00:41:40|  2021-07-01 00:47:23|                 N|         1|          74|          42|              1|         1.24|        6.5|  0.5|    0.5|       0.0|         0.0|     NULL|                  0.3|         7.8|           2|        1|                 0.0|\n",
            "|       2| 2021-07-01 00:51:32|  2021-07-01 00:58:46|                 N|         1|          42|         244|              1|          1.1|        7.0|  0.5|    0.5|       0.0|         0.0|     NULL|                  0.3|         8.3|           2|        1|                 0.0|\n",
            "+--------+--------------------+---------------------+------------------+----------+------------+------------+---------------+-------------+-----------+-----+-------+----------+------------+---------+---------------------+------------+------------+---------+--------------------+\n",
            "only showing top 5 rows\n",
            "\n",
            "\n",
            "Schema of the dataset:\n",
            "root\n",
            " |-- VendorID: integer (nullable = true)\n",
            " |-- lpep_pickup_datetime: timestamp (nullable = true)\n",
            " |-- lpep_dropoff_datetime: timestamp (nullable = true)\n",
            " |-- store_and_fwd_flag: string (nullable = true)\n",
            " |-- RatecodeID: integer (nullable = true)\n",
            " |-- PULocationID: integer (nullable = true)\n",
            " |-- DOLocationID: integer (nullable = true)\n",
            " |-- passenger_count: integer (nullable = true)\n",
            " |-- trip_distance: double (nullable = true)\n",
            " |-- fare_amount: double (nullable = true)\n",
            " |-- extra: double (nullable = true)\n",
            " |-- mta_tax: double (nullable = true)\n",
            " |-- tip_amount: double (nullable = true)\n",
            " |-- tolls_amount: double (nullable = true)\n",
            " |-- ehail_fee: string (nullable = true)\n",
            " |-- improvement_surcharge: double (nullable = true)\n",
            " |-- total_amount: double (nullable = true)\n",
            " |-- payment_type: integer (nullable = true)\n",
            " |-- trip_type: integer (nullable = true)\n",
            " |-- congestion_surcharge: double (nullable = true)\n",
            "\n"
          ]
        }
      ]
    },
    {
      "cell_type": "markdown",
      "source": [
        "**Basic Statistics and Data Exploration**"
      ],
      "metadata": {
        "id": "M0V5hL2W1mWJ"
      }
    },
    {
      "cell_type": "code",
      "source": [
        "# Get basic statistics for numerical columns\n",
        "print(\"Summary statistics for numerical columns:\")\n",
        "df.describe().show()\n",
        "\n",
        "# Check for null values in each column\n",
        "print(\"Count of null values in each column:\")\n",
        "for column in df.columns:\n",
        "    null_count = df.filter(df[column].isNull()).count()\n",
        "    print(f\"{column}: {null_count} null values\")\n"
      ],
      "metadata": {
        "colab": {
          "base_uri": "https://localhost:8080/"
        },
        "id": "c9aAx_lC1nG0",
        "outputId": "911aed83-0b63-495a-bb59-f4ec11d27d12"
      },
      "execution_count": 4,
      "outputs": [
        {
          "output_type": "stream",
          "name": "stdout",
          "text": [
            "Summary statistics for numerical columns:\n",
            "+-------+------------------+------------------+------------------+------------------+------------------+------------------+------------------+------------------+------------------+-------------------+------------------+------------------+---------+---------------------+------------------+------------------+------------------+--------------------+\n",
            "|summary|          VendorID|store_and_fwd_flag|        RatecodeID|      PULocationID|      DOLocationID|   passenger_count|     trip_distance|       fare_amount|             extra|            mta_tax|        tip_amount|      tolls_amount|ehail_fee|improvement_surcharge|      total_amount|      payment_type|         trip_type|congestion_surcharge|\n",
            "+-------+------------------+------------------+------------------+------------------+------------------+------------------+------------------+------------------+------------------+-------------------+------------------+------------------+---------+---------------------+------------------+------------------+------------------+--------------------+\n",
            "|  count|             51173|             51173|             51173|             83691|             83691|             51173|             83691|             83691|             83691|              83691|             83691|             83691|        0|                83691|             83691|             51173|             51173|               51173|\n",
            "|   mean|1.8511128915639106|              NULL|1.1592441326480762|108.36257184165561|133.27000513794792|1.3078576593125282|194.35469931055965|20.388304596670455|1.1567068143527857| 0.2935620317596874| 1.058618130981837|0.6245289218673095|     NULL|   0.2977452772697071|24.204836362338302| 1.421726300979032| 1.034393137005843|  0.6428145701834952|\n",
            "| stddev|0.3559806367300793|              NULL|0.7732599117838332| 70.37016971188453| 77.21679097132237|0.9843615230050966| 4405.549221384594| 15.58355235787286|1.3678973691879062|0.24777348164045312|2.3687714883551085|1.9904807036856806|     NULL| 0.031218633931717032| 17.26218345743588|0.5111460825673801|0.1822385747456788|  1.1642190690561034|\n",
            "|    min|                 1|                 N|                 1|                 3|                 1|                 0|               0.0|            -150.0|              -4.5|               -0.5|             -1.14|               0.0|     NULL|                 -0.3|            -150.3|                 1|                 1|               -2.75|\n",
            "|    max|                 2|                 Y|                 5|               265|               265|                32|         260517.93|             480.0|              8.25|                0.5|             87.71|             30.05|     NULL|                  0.3|            480.31|                 5|                 2|                2.75|\n",
            "+-------+------------------+------------------+------------------+------------------+------------------+------------------+------------------+------------------+------------------+-------------------+------------------+------------------+---------+---------------------+------------------+------------------+------------------+--------------------+\n",
            "\n",
            "Count of null values in each column:\n",
            "VendorID: 32518 null values\n",
            "lpep_pickup_datetime: 0 null values\n",
            "lpep_dropoff_datetime: 0 null values\n",
            "store_and_fwd_flag: 32518 null values\n",
            "RatecodeID: 32518 null values\n",
            "PULocationID: 0 null values\n",
            "DOLocationID: 0 null values\n",
            "passenger_count: 32518 null values\n",
            "trip_distance: 0 null values\n",
            "fare_amount: 0 null values\n",
            "extra: 0 null values\n",
            "mta_tax: 0 null values\n",
            "tip_amount: 0 null values\n",
            "tolls_amount: 0 null values\n",
            "ehail_fee: 83691 null values\n",
            "improvement_surcharge: 0 null values\n",
            "total_amount: 0 null values\n",
            "payment_type: 32518 null values\n",
            "trip_type: 32518 null values\n",
            "congestion_surcharge: 32518 null values\n"
          ]
        }
      ]
    },
    {
      "cell_type": "markdown",
      "source": [
        "# **Data Cleaning**"
      ],
      "metadata": {
        "id": "Vsa1vVxh2ILD"
      }
    },
    {
      "cell_type": "code",
      "source": [
        "from pyspark.sql.functions import to_timestamp\n",
        "\n",
        "# Step 1: Drop rows with missing or null values in key columns\n",
        "df = df.dropna(subset=[\"trip_distance\", \"fare_amount\", \"passenger_count\", \"RatecodeID\", \"payment_type\"])\n",
        "\n",
        "# Step 2: Parse date columns into proper datetime format\n",
        "df = df.withColumn(\"pickup_datetime\", to_timestamp(\"lpep_pickup_datetime\"))\n",
        "df = df.withColumn(\"dropoff_datetime\", to_timestamp(\"lpep_dropoff_datetime\"))\n",
        "\n",
        "# Step 3: Remove outliers\n",
        "df = df.filter(\n",
        "    (df[\"fare_amount\"] > 0) &\n",
        "    (df[\"trip_distance\"] > 0) &\n",
        "    (df[\"trip_distance\"] < 1000) &  # Realistic upper limit for trip_distance\n",
        "    (df[\"passenger_count\"] > 0) &\n",
        "    (df[\"passenger_count\"] <= 10)  # Reasonable max passenger count\n",
        ")\n",
        "\n",
        "# Show the first few rows after cleaning\n",
        "print(\"First 5 rows after cleaning:\")\n",
        "df.show(5)\n",
        "\n",
        "# Print the schema and row count after cleaning\n",
        "print(\"\\nSchema and row count after cleaning:\")\n",
        "df.printSchema()\n",
        "print(f\"Row count: {df.count()}\")\n"
      ],
      "metadata": {
        "colab": {
          "base_uri": "https://localhost:8080/"
        },
        "id": "Kf6D_Fb12Sg_",
        "outputId": "56c2494c-700f-438b-9891-8e319d0de5b8"
      },
      "execution_count": 5,
      "outputs": [
        {
          "output_type": "stream",
          "name": "stdout",
          "text": [
            "First 5 rows after cleaning:\n",
            "+--------+--------------------+---------------------+------------------+----------+------------+------------+---------------+-------------+-----------+-----+-------+----------+------------+---------+---------------------+------------+------------+---------+--------------------+-------------------+-------------------+\n",
            "|VendorID|lpep_pickup_datetime|lpep_dropoff_datetime|store_and_fwd_flag|RatecodeID|PULocationID|DOLocationID|passenger_count|trip_distance|fare_amount|extra|mta_tax|tip_amount|tolls_amount|ehail_fee|improvement_surcharge|total_amount|payment_type|trip_type|congestion_surcharge|    pickup_datetime|   dropoff_datetime|\n",
            "+--------+--------------------+---------------------+------------------+----------+------------+------------+---------------+-------------+-----------+-----+-------+----------+------------+---------+---------------------+------------+------------+---------+--------------------+-------------------+-------------------+\n",
            "|       1| 2021-07-01 00:30:52|  2021-07-01 00:35:36|                 N|         1|          74|         168|              1|          1.2|        6.0|  0.5|    0.5|       0.0|         0.0|     NULL|                  0.3|         7.3|           2|        1|                 0.0|2021-07-01 00:30:52|2021-07-01 00:35:36|\n",
            "|       2| 2021-07-01 00:25:36|  2021-07-01 01:01:31|                 N|         1|         116|         265|              2|        13.69|       42.0|  0.5|    0.5|       0.0|         0.0|     NULL|                  0.3|        43.3|           2|        1|                 0.0|2021-07-01 00:25:36|2021-07-01 01:01:31|\n",
            "|       2| 2021-07-01 00:05:58|  2021-07-01 00:12:00|                 N|         1|          97|          33|              1|         0.95|        6.5|  0.5|    0.5|      2.34|         0.0|     NULL|                  0.3|       10.14|           1|        1|                 0.0|2021-07-01 00:05:58|2021-07-01 00:12:00|\n",
            "|       2| 2021-07-01 00:41:40|  2021-07-01 00:47:23|                 N|         1|          74|          42|              1|         1.24|        6.5|  0.5|    0.5|       0.0|         0.0|     NULL|                  0.3|         7.8|           2|        1|                 0.0|2021-07-01 00:41:40|2021-07-01 00:47:23|\n",
            "|       2| 2021-07-01 00:51:32|  2021-07-01 00:58:46|                 N|         1|          42|         244|              1|          1.1|        7.0|  0.5|    0.5|       0.0|         0.0|     NULL|                  0.3|         8.3|           2|        1|                 0.0|2021-07-01 00:51:32|2021-07-01 00:58:46|\n",
            "+--------+--------------------+---------------------+------------------+----------+------------+------------+---------------+-------------+-----------+-----+-------+----------+------------+---------+---------------------+------------+------------+---------+--------------------+-------------------+-------------------+\n",
            "only showing top 5 rows\n",
            "\n",
            "\n",
            "Schema and row count after cleaning:\n",
            "root\n",
            " |-- VendorID: integer (nullable = true)\n",
            " |-- lpep_pickup_datetime: timestamp (nullable = true)\n",
            " |-- lpep_dropoff_datetime: timestamp (nullable = true)\n",
            " |-- store_and_fwd_flag: string (nullable = true)\n",
            " |-- RatecodeID: integer (nullable = true)\n",
            " |-- PULocationID: integer (nullable = true)\n",
            " |-- DOLocationID: integer (nullable = true)\n",
            " |-- passenger_count: integer (nullable = true)\n",
            " |-- trip_distance: double (nullable = true)\n",
            " |-- fare_amount: double (nullable = true)\n",
            " |-- extra: double (nullable = true)\n",
            " |-- mta_tax: double (nullable = true)\n",
            " |-- tip_amount: double (nullable = true)\n",
            " |-- tolls_amount: double (nullable = true)\n",
            " |-- ehail_fee: string (nullable = true)\n",
            " |-- improvement_surcharge: double (nullable = true)\n",
            " |-- total_amount: double (nullable = true)\n",
            " |-- payment_type: integer (nullable = true)\n",
            " |-- trip_type: integer (nullable = true)\n",
            " |-- congestion_surcharge: double (nullable = true)\n",
            " |-- pickup_datetime: timestamp (nullable = true)\n",
            " |-- dropoff_datetime: timestamp (nullable = true)\n",
            "\n",
            "Row count: 48082\n"
          ]
        }
      ]
    },
    {
      "cell_type": "markdown",
      "source": [
        "# **Summary Statistics - Key Metrics**"
      ],
      "metadata": {
        "id": "ytlIuxVf2j7S"
      }
    },
    {
      "cell_type": "markdown",
      "source": [
        "**Calculate Average Trip Distance and Duration**"
      ],
      "metadata": {
        "id": "j6WzRhJk2lX1"
      }
    },
    {
      "cell_type": "code",
      "source": [
        "from pyspark.sql.functions import unix_timestamp\n",
        "\n",
        "# Calculate trip duration in minutes\n",
        "df = df.withColumn(\n",
        "    \"trip_duration_minutes\",\n",
        "    (unix_timestamp(\"dropoff_datetime\") - unix_timestamp(\"pickup_datetime\")) / 60\n",
        ")\n",
        "\n",
        "# Verify the column was added successfully\n",
        "print(\"First 5 rows with trip_duration_minutes:\")\n",
        "df.select(\"pickup_datetime\", \"dropoff_datetime\", \"trip_duration_minutes\").show(5)\n"
      ],
      "metadata": {
        "colab": {
          "base_uri": "https://localhost:8080/"
        },
        "id": "YDUw3R5w2niB",
        "outputId": "24eefe1e-1891-4fea-decb-aaf48653744b"
      },
      "execution_count": 8,
      "outputs": [
        {
          "output_type": "stream",
          "name": "stdout",
          "text": [
            "First 5 rows with trip_duration_minutes:\n",
            "+-------------------+-------------------+---------------------+\n",
            "|    pickup_datetime|   dropoff_datetime|trip_duration_minutes|\n",
            "+-------------------+-------------------+---------------------+\n",
            "|2021-07-01 00:30:52|2021-07-01 00:35:36|    4.733333333333333|\n",
            "|2021-07-01 00:25:36|2021-07-01 01:01:31|   35.916666666666664|\n",
            "|2021-07-01 00:05:58|2021-07-01 00:12:00|    6.033333333333333|\n",
            "|2021-07-01 00:41:40|2021-07-01 00:47:23|    5.716666666666667|\n",
            "|2021-07-01 00:51:32|2021-07-01 00:58:46|    7.233333333333333|\n",
            "+-------------------+-------------------+---------------------+\n",
            "only showing top 5 rows\n",
            "\n"
          ]
        }
      ]
    },
    {
      "cell_type": "markdown",
      "source": [
        "**Calculate Average Trip Distance and Duration**"
      ],
      "metadata": {
        "id": "UwYAS6RT2wQ0"
      }
    },
    {
      "cell_type": "code",
      "source": [
        "from pyspark.sql.functions import avg\n",
        "\n",
        "# Calculate average trip distance and duration\n",
        "avg_metrics = df.select(\n",
        "    avg(\"trip_distance\").alias(\"avg_trip_distance\"),\n",
        "    avg(\"trip_duration_minutes\").alias(\"avg_trip_duration\")\n",
        ")\n",
        "\n",
        "# Show the results\n",
        "print(\"Average trip distance and duration:\")\n",
        "avg_metrics.show()\n"
      ],
      "metadata": {
        "colab": {
          "base_uri": "https://localhost:8080/"
        },
        "id": "UFgVQ0gI2xIq",
        "outputId": "17690c64-a3ce-4f58-e46d-1745ce4def32"
      },
      "execution_count": 9,
      "outputs": [
        {
          "output_type": "stream",
          "name": "stdout",
          "text": [
            "Average trip distance and duration:\n",
            "+-----------------+------------------+\n",
            "|avg_trip_distance| avg_trip_duration|\n",
            "+-----------------+------------------+\n",
            "|3.668714071794014|23.566318996713917|\n",
            "+-----------------+------------------+\n",
            "\n"
          ]
        }
      ]
    },
    {
      "cell_type": "markdown",
      "source": [
        "**Analyze the Distribution of Fares**"
      ],
      "metadata": {
        "id": "8JIOSPZt22Uf"
      }
    },
    {
      "cell_type": "code",
      "source": [
        "from pyspark.sql.functions import col, count, when\n",
        "\n",
        "# Group by fare ranges for distribution\n",
        "fare_distribution = df.select(\"fare_amount\").groupBy(\n",
        "    when(col(\"fare_amount\") < 10, \"< $10\")\n",
        "    .when((col(\"fare_amount\") >= 10) & (col(\"fare_amount\") < 20), \"$10 - $20\")\n",
        "    .when((col(\"fare_amount\") >= 20) & (col(\"fare_amount\") < 50), \"$20 - $50\")\n",
        "    .otherwise(\">= $50\").alias(\"fare_range\")\n",
        ").agg(count(\"*\").alias(\"count\"))\n",
        "\n",
        "# Show the distribution\n",
        "print(\"Fare distribution:\")\n",
        "fare_distribution.show()\n"
      ],
      "metadata": {
        "colab": {
          "base_uri": "https://localhost:8080/"
        },
        "id": "vJVPFS6q23GQ",
        "outputId": "f69cd72d-8e08-4a11-e2a1-b53afaa12f85"
      },
      "execution_count": 11,
      "outputs": [
        {
          "output_type": "stream",
          "name": "stdout",
          "text": [
            "Fare distribution:\n",
            "+----------+-----+\n",
            "|fare_range|count|\n",
            "+----------+-----+\n",
            "|     < $10|21970|\n",
            "| $10 - $20|16758|\n",
            "|    >= $50| 2081|\n",
            "| $20 - $50| 7273|\n",
            "+----------+-----+\n",
            "\n"
          ]
        }
      ]
    },
    {
      "cell_type": "markdown",
      "source": [
        "**Analyze the Distribution of Passenger Counts**"
      ],
      "metadata": {
        "id": "r9L-wDp83Agw"
      }
    },
    {
      "cell_type": "code",
      "source": [
        "# Group by passenger count for distribution\n",
        "passenger_distribution = df.groupBy(\"passenger_count\").agg(count(\"*\").alias(\"count\"))\n",
        "\n",
        "# Show the passenger count distribution\n",
        "print(\"Passenger count distribution:\")\n",
        "passenger_distribution.orderBy(\"passenger_count\").show()\n"
      ],
      "metadata": {
        "colab": {
          "base_uri": "https://localhost:8080/"
        },
        "id": "LOcrG-Zy3B-B",
        "outputId": "b8e1d8f9-dd67-4741-8c90-c70d3288f287"
      },
      "execution_count": 12,
      "outputs": [
        {
          "output_type": "stream",
          "name": "stdout",
          "text": [
            "Passenger count distribution:\n",
            "+---------------+-----+\n",
            "|passenger_count|count|\n",
            "+---------------+-----+\n",
            "|              1|41295|\n",
            "|              2| 3779|\n",
            "|              3|  597|\n",
            "|              4|  177|\n",
            "|              5| 1215|\n",
            "|              6| 1017|\n",
            "|              7|    2|\n",
            "+---------------+-----+\n",
            "\n"
          ]
        }
      ]
    },
    {
      "cell_type": "markdown",
      "source": [
        "**Analyze Trip Demand by Hour of the Day**"
      ],
      "metadata": {
        "id": "TzD7i1WZ3HYm"
      }
    },
    {
      "cell_type": "code",
      "source": [
        "from pyspark.sql.functions import hour\n",
        "\n",
        "# Extract hour from the pickup_datetime column\n",
        "df = df.withColumn(\"pickup_hour\", hour(\"pickup_datetime\"))\n",
        "\n",
        "# Group by pickup hour to calculate trip demand\n",
        "hourly_demand = df.groupBy(\"pickup_hour\").agg(count(\"*\").alias(\"trip_count\"))\n",
        "\n",
        "# Show hourly trip demand\n",
        "print(\"Hourly trip demand:\")\n",
        "hourly_demand.orderBy(\"pickup_hour\").show()\n"
      ],
      "metadata": {
        "colab": {
          "base_uri": "https://localhost:8080/"
        },
        "id": "heHv-STE3IWV",
        "outputId": "0d0a1f5e-9eb6-4f1a-9ecf-dfd1b61cf5e4"
      },
      "execution_count": 13,
      "outputs": [
        {
          "output_type": "stream",
          "name": "stdout",
          "text": [
            "Hourly trip demand:\n",
            "+-----------+----------+\n",
            "|pickup_hour|trip_count|\n",
            "+-----------+----------+\n",
            "|          0|       757|\n",
            "|          1|       513|\n",
            "|          2|       347|\n",
            "|          3|       277|\n",
            "|          4|       222|\n",
            "|          5|       349|\n",
            "|          6|       921|\n",
            "|          7|      1676|\n",
            "|          8|      2513|\n",
            "|          9|      2697|\n",
            "|         10|      2905|\n",
            "|         11|      2968|\n",
            "|         12|      2884|\n",
            "|         13|      2720|\n",
            "|         14|      3129|\n",
            "|         15|      3529|\n",
            "|         16|      3385|\n",
            "|         17|      3446|\n",
            "|         18|      3697|\n",
            "|         19|      3043|\n",
            "+-----------+----------+\n",
            "only showing top 20 rows\n",
            "\n"
          ]
        }
      ]
    },
    {
      "cell_type": "markdown",
      "source": [
        "**Analyze Busiest Pick-Up and Drop-Off Locations**"
      ],
      "metadata": {
        "id": "W4o4GgL-3MXR"
      }
    },
    {
      "cell_type": "code",
      "source": [
        "from pyspark.sql.functions import desc\n",
        "\n",
        "# Group by PULocationID (Pick-Up Location) and DOLocationID (Drop-Off Location)\n",
        "pickup_demand = df.groupBy(\"PULocationID\").agg(count(\"*\").alias(\"pickup_count\")).orderBy(desc(\"pickup_count\"))\n",
        "dropoff_demand = df.groupBy(\"DOLocationID\").agg(count(\"*\").alias(\"dropoff_count\")).orderBy(desc(\"dropoff_count\"))\n",
        "\n",
        "# Show top 5 busiest pick-up locations\n",
        "print(\"Top 5 busiest pick-up locations:\")\n",
        "pickup_demand.show(5)\n",
        "\n",
        "# Show top 5 busiest drop-off locations\n",
        "print(\"Top 5 busiest drop-off locations:\")\n",
        "dropoff_demand.show(5)\n"
      ],
      "metadata": {
        "colab": {
          "base_uri": "https://localhost:8080/"
        },
        "id": "IporTq-93PJH",
        "outputId": "0d3ac38d-191b-4a9f-df43-4e80cba11402"
      },
      "execution_count": 14,
      "outputs": [
        {
          "output_type": "stream",
          "name": "stdout",
          "text": [
            "Top 5 busiest pick-up locations:\n",
            "+------------+------------+\n",
            "|PULocationID|pickup_count|\n",
            "+------------+------------+\n",
            "|          74|        8047|\n",
            "|          75|        7002|\n",
            "|          41|        4093|\n",
            "|          42|        2350|\n",
            "|         166|        2087|\n",
            "+------------+------------+\n",
            "only showing top 5 rows\n",
            "\n",
            "Top 5 busiest drop-off locations:\n",
            "+------------+-------------+\n",
            "|DOLocationID|dropoff_count|\n",
            "+------------+-------------+\n",
            "|          74|         3102|\n",
            "|          75|         2531|\n",
            "|          42|         2295|\n",
            "|          41|         2146|\n",
            "|         236|         1483|\n",
            "+------------+-------------+\n",
            "only showing top 5 rows\n",
            "\n"
          ]
        }
      ]
    },
    {
      "cell_type": "markdown",
      "source": [
        "**Analyze Total Revenue by Day**"
      ],
      "metadata": {
        "id": "RA_0XT7w3TpV"
      }
    },
    {
      "cell_type": "code",
      "source": [
        "from pyspark.sql.functions import date_format, sum\n",
        "\n",
        "# Extract date from pickup_datetime\n",
        "df = df.withColumn(\"pickup_date\", date_format(\"pickup_datetime\", \"yyyy-MM-dd\"))\n",
        "\n",
        "# Group by pickup_date to calculate total revenue\n",
        "daily_revenue = df.groupBy(\"pickup_date\").agg(sum(\"fare_amount\").alias(\"total_revenue\"))\n",
        "\n",
        "# Show total revenue by day\n",
        "print(\"Total revenue by day:\")\n",
        "daily_revenue.orderBy(\"pickup_date\").show(5)  # Show the first 5 days\n"
      ],
      "metadata": {
        "colab": {
          "base_uri": "https://localhost:8080/"
        },
        "id": "_xAiWvjc3WjF",
        "outputId": "dc67c58a-8810-4b2f-ad21-b2e3d9b0a446"
      },
      "execution_count": 15,
      "outputs": [
        {
          "output_type": "stream",
          "name": "stdout",
          "text": [
            "Total revenue by day:\n",
            "+-----------+-------------+\n",
            "|pickup_date|total_revenue|\n",
            "+-----------+-------------+\n",
            "| 2008-12-31|         10.5|\n",
            "| 2009-01-01|         89.5|\n",
            "| 2021-06-07|         56.0|\n",
            "| 2021-06-09|         56.0|\n",
            "| 2021-06-10|        244.5|\n",
            "+-----------+-------------+\n",
            "only showing top 5 rows\n",
            "\n"
          ]
        }
      ]
    },
    {
      "cell_type": "markdown",
      "source": [
        "**Analyze Total and Average Revenue by Month**"
      ],
      "metadata": {
        "id": "jpAL7Qti3bT0"
      }
    },
    {
      "cell_type": "code",
      "source": [
        "from pyspark.sql.functions import month\n",
        "\n",
        "# Extract month from pickup_datetime\n",
        "df = df.withColumn(\"pickup_month\", month(\"pickup_datetime\"))\n",
        "\n",
        "# Group by pickup_month to calculate total and average revenue\n",
        "monthly_revenue = df.groupBy(\"pickup_month\").agg(\n",
        "    sum(\"fare_amount\").alias(\"total_revenue\"),\n",
        "    avg(\"fare_amount\").alias(\"avg_revenue_per_trip\")\n",
        ")\n",
        "\n",
        "# Show monthly revenue and average fare\n",
        "print(\"Monthly revenue and average fare per trip:\")\n",
        "monthly_revenue.orderBy(\"pickup_month\").show()\n"
      ],
      "metadata": {
        "colab": {
          "base_uri": "https://localhost:8080/"
        },
        "id": "a74N6kTQ3dY3",
        "outputId": "8278c49f-b6ef-4efc-af91-e06b8cb7b992"
      },
      "execution_count": 16,
      "outputs": [
        {
          "output_type": "stream",
          "name": "stdout",
          "text": [
            "Monthly revenue and average fare per trip:\n",
            "+------------+-----------------+--------------------+\n",
            "|pickup_month|    total_revenue|avg_revenue_per_trip|\n",
            "+------------+-----------------+--------------------+\n",
            "|           1|             89.5|  29.833333333333332|\n",
            "|           6|            454.5|               45.45|\n",
            "|           7|722994.6999999997|  15.041707235883987|\n",
            "|           8|             36.0|                18.0|\n",
            "|          12|             10.5|                10.5|\n",
            "+------------+-----------------+--------------------+\n",
            "\n"
          ]
        }
      ]
    },
    {
      "cell_type": "markdown",
      "source": [
        "**Analyze Correlation Between Trip Duration and Distance**"
      ],
      "metadata": {
        "id": "Yxp-Pmba3i8H"
      }
    },
    {
      "cell_type": "code",
      "source": [
        "from pyspark.sql.functions import corr\n",
        "\n",
        "# Calculate correlation between trip distance and duration\n",
        "correlation = df.select(corr(\"trip_distance\", \"trip_duration_minutes\").alias(\"correlation\"))\n",
        "\n",
        "# Show the correlation\n",
        "print(\"Correlation between trip distance and trip duration:\")\n",
        "correlation.show()\n"
      ],
      "metadata": {
        "colab": {
          "base_uri": "https://localhost:8080/"
        },
        "id": "OK3bOJS93kuU",
        "outputId": "fff27df3-fe34-4545-ec53-ed920d6dd9ea"
      },
      "execution_count": 17,
      "outputs": [
        {
          "output_type": "stream",
          "name": "stdout",
          "text": [
            "Correlation between trip distance and trip duration:\n",
            "+-------------------+\n",
            "|        correlation|\n",
            "+-------------------+\n",
            "|0.14469355962991517|\n",
            "+-------------------+\n",
            "\n"
          ]
        }
      ]
    },
    {
      "cell_type": "markdown",
      "source": [
        "# **Visualizations**"
      ],
      "metadata": {
        "id": "B3kj_Rzo37qx"
      }
    },
    {
      "cell_type": "markdown",
      "source": [
        "**Distribution of Fares**"
      ],
      "metadata": {
        "id": "wD6ALiLt3_Kv"
      }
    },
    {
      "cell_type": "code",
      "source": [
        "import pandas as pd\n",
        "import matplotlib.pyplot as plt\n",
        "\n",
        "# Convert the fare distribution Spark DataFrame to Pandas\n",
        "fare_distribution_pd = fare_distribution.toPandas()\n",
        "\n",
        "# Plot the distribution\n",
        "plt.figure(figsize=(8, 6))\n",
        "plt.bar(fare_distribution_pd[\"fare_range\"], fare_distribution_pd[\"count\"], color=\"skyblue\")\n",
        "plt.title(\"Fare Distribution\")\n",
        "plt.xlabel(\"Fare Range\")\n",
        "plt.ylabel(\"Trip Count\")\n",
        "plt.xticks(rotation=45)\n",
        "plt.grid(axis=\"y\", linestyle=\"--\", alpha=0.7)\n",
        "plt.show()\n"
      ],
      "metadata": {
        "colab": {
          "base_uri": "https://localhost:8080/",
          "height": 598
        },
        "id": "bL4fs64X4AtD",
        "outputId": "fc5246b4-c358-443b-c434-6fa06758ec53"
      },
      "execution_count": 18,
      "outputs": [
        {
          "output_type": "display_data",
          "data": {
            "text/plain": [
              "<Figure size 800x600 with 1 Axes>"
            ],
            "image/png": "[encoded data removed]"
          },
          "metadata": {}
        }
      ]
    },
    {
      "cell_type": "markdown",
      "source": [
        "**Hourly Trip Demand**"
      ],
      "metadata": {
        "id": "FgXy3pfW4EIe"
      }
    },
    {
      "cell_type": "code",
      "source": [
        "# Convert the hourly demand Spark DataFrame to Pandas\n",
        "hourly_demand_pd = hourly_demand.toPandas()\n",
        "\n",
        "# Plot the hourly demand\n",
        "plt.figure(figsize=(10, 6))\n",
        "plt.plot(hourly_demand_pd[\"pickup_hour\"], hourly_demand_pd[\"trip_count\"], marker=\"o\", color=\"blue\")\n",
        "plt.title(\"Hourly Trip Demand\")\n",
        "plt.xlabel(\"Hour of the Day\")\n",
        "plt.ylabel(\"Trip Count\")\n",
        "plt.xticks(range(0, 24))  # Ensure all hours are shown\n",
        "plt.grid(axis=\"y\", linestyle=\"--\", alpha=0.7)\n",
        "plt.show()\n"
      ],
      "metadata": {
        "colab": {
          "base_uri": "https://localhost:8080/",
          "height": 564
        },
        "id": "ocnPhMnL4Gq8",
        "outputId": "6fe21d84-55cf-43ae-9cab-99135de67688"
      },
      "execution_count": 19,
      "outputs": [
        {
          "output_type": "display_data",
          "data": {
            "text/plain": [
              "<Figure size 1000x600 with 1 Axes>"
            ],
            "image/png": "[encoded data removed]"
          },
          "metadata": {}
        }
      ]
    },
    {
      "cell_type": "markdown",
      "source": [
        "**Relationship Between Trip Duration and Trip Distance**"
      ],
      "metadata": {
        "id": "BOZgRUMh4KAB"
      }
    },
    {
      "cell_type": "code",
      "source": [
        "# Convert necessary columns to Pandas\n",
        "trip_data_pd = df.select(\"trip_distance\", \"trip_duration_minutes\").toPandas()\n",
        "\n",
        "# Scatter plot of trip distance vs. trip duration\n",
        "plt.figure(figsize=(8, 6))\n",
        "plt.scatter(trip_data_pd[\"trip_distance\"], trip_data_pd[\"trip_duration_minutes\"], alpha=0.3, color=\"green\")\n",
        "plt.title(\"Trip Duration vs. Trip Distance\")\n",
        "plt.xlabel(\"Trip Distance (miles)\")\n",
        "plt.ylabel(\"Trip Duration (minutes)\")\n",
        "plt.grid(alpha=0.5)\n",
        "plt.show()\n"
      ],
      "metadata": {
        "colab": {
          "base_uri": "https://localhost:8080/",
          "height": 564
        },
        "id": "oor8pzLO4MSa",
        "outputId": "43b4dfc2-6386-4270-a531-d9434ce16164"
      },
      "execution_count": 20,
      "outputs": [
        {
          "output_type": "display_data",
          "data": {
            "text/plain": [
              "<Figure size 800x600 with 1 Axes>"
            ],
            "image/png": "[encoded data removed]"
          },
          "metadata": {}
        }
      ]
    },
    {
      "cell_type": "markdown",
      "source": [
        "# **Aggregation**"
      ],
      "metadata": {
        "id": "HwZa9VNK4ppf"
      }
    },
    {
      "cell_type": "markdown",
      "source": [
        "**Total Revenue Per Day**"
      ],
      "metadata": {
        "id": "YWGWXjYT4t5T"
      }
    },
    {
      "cell_type": "code",
      "source": [
        "from pyspark.sql.functions import date_format, sum\n",
        "\n",
        "# Extract the pickup date from the timestamp\n",
        "df = df.withColumn(\"pickup_date\", date_format(\"pickup_datetime\", \"yyyy-MM-dd\"))\n",
        "\n",
        "# Group by the pickup date and calculate total revenue\n",
        "daily_revenue = df.groupBy(\"pickup_date\").agg(sum(\"fare_amount\").alias(\"total_revenue\"))\n",
        "\n",
        "# Display the total revenue per day\n",
        "print(\"Total revenue per day:\")\n",
        "daily_revenue.orderBy(\"pickup_date\").show(10)  # Show the first 10 days\n"
      ],
      "metadata": {
        "colab": {
          "base_uri": "https://localhost:8080/"
        },
        "id": "e8ed_CsF4qcy",
        "outputId": "0f471e14-7f69-4e58-bdaf-2eb24275c331"
      },
      "execution_count": 21,
      "outputs": [
        {
          "output_type": "stream",
          "name": "stdout",
          "text": [
            "Total revenue per day:\n",
            "+-----------+------------------+\n",
            "|pickup_date|     total_revenue|\n",
            "+-----------+------------------+\n",
            "| 2008-12-31|              10.5|\n",
            "| 2009-01-01|              89.5|\n",
            "| 2021-06-07|              56.0|\n",
            "| 2021-06-09|              56.0|\n",
            "| 2021-06-10|             244.5|\n",
            "| 2021-06-11|              98.0|\n",
            "| 2021-07-01|          26834.95|\n",
            "| 2021-07-02|          27547.24|\n",
            "| 2021-07-03|          19180.54|\n",
            "| 2021-07-04|16754.489999999998|\n",
            "+-----------+------------------+\n",
            "only showing top 10 rows\n",
            "\n"
          ]
        }
      ]
    },
    {
      "cell_type": "markdown",
      "source": [
        "**Average Fare Per Mile**"
      ],
      "metadata": {
        "id": "tvSY_rss4yaZ"
      }
    },
    {
      "cell_type": "code",
      "source": [
        "from pyspark.sql.functions import avg\n",
        "\n",
        "# Filter out trips with zero distance to avoid division errors\n",
        "df_filtered = df.filter(df.trip_distance > 0)\n",
        "\n",
        "# Create a new column for fare per mile\n",
        "df_filtered = df_filtered.withColumn(\"fare_per_mile\", df_filtered[\"fare_amount\"] / df_filtered[\"trip_distance\"])\n",
        "\n",
        "# Calculate the average fare per mile\n",
        "avg_fare_per_mile = df_filtered.select(avg(\"fare_per_mile\").alias(\"avg_fare_per_mile\"))\n",
        "\n",
        "# Display the result\n",
        "print(\"Average fare per mile:\")\n",
        "avg_fare_per_mile.show()\n"
      ],
      "metadata": {
        "colab": {
          "base_uri": "https://localhost:8080/"
        },
        "id": "-aQ66ZJH4zL8",
        "outputId": "e7671117-ddf9-47ac-c01f-642e69fea2cf"
      },
      "execution_count": 22,
      "outputs": [
        {
          "output_type": "stream",
          "name": "stdout",
          "text": [
            "Average fare per mile:\n",
            "+-----------------+\n",
            "|avg_fare_per_mile|\n",
            "+-----------------+\n",
            "|9.077437964380788|\n",
            "+-----------------+\n",
            "\n"
          ]
        }
      ]
    },
    {
      "cell_type": "markdown",
      "source": [
        "**Comparison (Uber vs. Yellow Cab)**"
      ],
      "metadata": {
        "id": "R09NPnKU42kK"
      }
    },
    {
      "cell_type": "markdown",
      "source": [
        "**Simulate Fare Comparison**"
      ],
      "metadata": {
        "id": "eh5Cqp1E43ll"
      }
    },
    {
      "cell_type": "code",
      "source": [
        "from pyspark.sql.functions import hour\n",
        "\n",
        "# Extract the hour of the day\n",
        "df = df.withColumn(\"pickup_hour\", hour(\"pickup_datetime\"))\n",
        "\n",
        "# Define peak hours (8 AM - 10 AM and 4 PM - 6 PM)\n",
        "peak_hours = (df.pickup_hour >= 8) & (df.pickup_hour <= 10) | (df.pickup_hour >= 16) & (df.pickup_hour <= 18)\n",
        "\n",
        "# Group by peak and non-peak hours to calculate average fare\n",
        "peak_comparison = df.groupBy(\n",
        "    when(peak_hours, \"Peak Hours\").otherwise(\"Non-Peak Hours\").alias(\"time_period\")\n",
        ").agg(\n",
        "    avg(\"fare_amount\").alias(\"avg_fare\"),\n",
        "    count(\"*\").alias(\"trip_count\")\n",
        ")\n",
        "\n",
        "# Display the results\n",
        "print(\"Fare comparison between peak and non-peak hours:\")\n",
        "peak_comparison.show()\n"
      ],
      "metadata": {
        "colab": {
          "base_uri": "https://localhost:8080/"
        },
        "id": "IadJh8bj45jd",
        "outputId": "d30c6eb6-c7ee-4ea9-e5d7-35ebbfcd440f"
      },
      "execution_count": 24,
      "outputs": [
        {
          "output_type": "stream",
          "name": "stdout",
          "text": [
            "Fare comparison between peak and non-peak hours:\n",
            "+--------------+------------------+----------+\n",
            "|   time_period|          avg_fare|trip_count|\n",
            "+--------------+------------------+----------+\n",
            "|    Peak Hours|14.670345974360359|     18643|\n",
            "|Non-Peak Hours| 15.28876456401373|     29439|\n",
            "+--------------+------------------+----------+\n",
            "\n"
          ]
        }
      ]
    },
    {
      "cell_type": "markdown",
      "source": [
        "# **Optimization**"
      ],
      "metadata": {
        "id": "FL4hmIFx4-Ry"
      }
    },
    {
      "cell_type": "markdown",
      "source": [
        "**Repartitioning**"
      ],
      "metadata": {
        "id": "wkezPhLF5D2E"
      }
    },
    {
      "cell_type": "code",
      "source": [
        "# Repartition the dataset for better parallelism\n",
        "optimized_df = df.repartition(10)\n",
        "\n",
        "# Cache the optimized DataFrame for faster repeated operations\n",
        "optimized_df.cache()\n",
        "\n",
        "# Verify the number of partitions\n",
        "print(\"Number of partitions after repartitioning:\", optimized_df.rdd.getNumPartitions())\n"
      ],
      "metadata": {
        "colab": {
          "base_uri": "https://localhost:8080/"
        },
        "id": "30WWUWRq5Fmn",
        "outputId": "07470750-a46c-4d86-af91-3d6688022bed"
      },
      "execution_count": 25,
      "outputs": [
        {
          "output_type": "stream",
          "name": "stdout",
          "text": [
            "Number of partitions after repartitioning: 10\n"
          ]
        }
      ]
    },
    {
      "cell_type": "markdown",
      "source": [
        "**Caching (Optional for Frequent Queries)**"
      ],
      "metadata": {
        "id": "G_qso0-65HVp"
      }
    },
    {
      "cell_type": "code",
      "source": [
        "# Cache the DataFrame in memory for repeated use\n",
        "df.cache()\n",
        "\n",
        "# Perform an operation to load the cache (optional)\n",
        "df.count()  # Triggers caching\n",
        "\n",
        "print(\"DataFrame cached successfully.\")\n"
      ],
      "metadata": {
        "colab": {
          "base_uri": "https://localhost:8080/"
        },
        "id": "F7wrBSPc5IQk",
        "outputId": "c1acef97-c99d-4be0-c371-c797cf6c6207"
      },
      "execution_count": 26,
      "outputs": [
        {
          "output_type": "stream",
          "name": "stdout",
          "text": [
            "DataFrame cached successfully.\n"
          ]
        }
      ]
    },
    {
      "cell_type": "markdown",
      "source": [
        "# **Predictive Analysis**"
      ],
      "metadata": {
        "id": "-jGSdfwy5OuD"
      }
    },
    {
      "cell_type": "markdown",
      "source": [
        "**Prepare the Data**"
      ],
      "metadata": {
        "id": "hrUvVCDy5SMl"
      }
    },
    {
      "cell_type": "code",
      "source": [
        "from pyspark.sql.functions import hour\n",
        "from pyspark.ml.feature import VectorAssembler\n",
        "from pyspark.ml.regression import LinearRegression\n",
        "\n",
        "# Extract pickup hour as a feature\n",
        "df = df.withColumn(\"pickup_hour\", hour(\"pickup_datetime\"))\n",
        "\n",
        "# Select relevant columns and drop rows with missing values\n",
        "ml_data = df.select(\"fare_amount\", \"trip_distance\", \"pickup_hour\", \"PULocationID\").dropna()\n",
        "\n",
        "# Combine features into a single vector column\n",
        "feature_columns = [\"trip_distance\", \"pickup_hour\", \"PULocationID\"]\n",
        "vector_assembler = VectorAssembler(inputCols=feature_columns, outputCol=\"features\")\n",
        "\n",
        "# Transform the data\n",
        "ml_data = vector_assembler.transform(ml_data)\n",
        "\n",
        "# Final dataset for ML: 'features' and 'label'\n",
        "ml_data = ml_data.select(\"features\", \"fare_amount\").withColumnRenamed(\"fare_amount\", \"label\")\n",
        "\n",
        "# Display the first few rows of the ML dataset\n",
        "print(\"First few rows of the ML dataset:\")\n",
        "ml_data.show(5)\n"
      ],
      "metadata": {
        "colab": {
          "base_uri": "https://localhost:8080/"
        },
        "id": "nkEVMIUN5TTB",
        "outputId": "bc08c0da-3162-4bba-b642-41f8705322a4"
      },
      "execution_count": 27,
      "outputs": [
        {
          "output_type": "stream",
          "name": "stdout",
          "text": [
            "First few rows of the ML dataset:\n",
            "+-----------------+-----+\n",
            "|         features|label|\n",
            "+-----------------+-----+\n",
            "|   [1.2,0.0,74.0]|  6.0|\n",
            "|[13.69,0.0,116.0]| 42.0|\n",
            "|  [0.95,0.0,97.0]|  6.5|\n",
            "|  [1.24,0.0,74.0]|  6.5|\n",
            "|   [1.1,0.0,42.0]|  7.0|\n",
            "+-----------------+-----+\n",
            "only showing top 5 rows\n",
            "\n"
          ]
        }
      ]
    },
    {
      "cell_type": "markdown",
      "source": [
        "**Split the Data**"
      ],
      "metadata": {
        "id": "oqLpz7td5VJW"
      }
    },
    {
      "cell_type": "code",
      "source": [
        "# Split the data into training (80%) and test (20%) sets\n",
        "train_data, test_data = ml_data.randomSplit([0.8, 0.2], seed=42)\n",
        "\n",
        "# Display the counts for each set\n",
        "print(f\"Training set count: {train_data.count()}, Test set count: {test_data.count()}\")\n"
      ],
      "metadata": {
        "colab": {
          "base_uri": "https://localhost:8080/"
        },
        "id": "ZNVNjZv75WFk",
        "outputId": "ac7936b1-990f-40d5-ceca-c01d2cc997a6"
      },
      "execution_count": 28,
      "outputs": [
        {
          "output_type": "stream",
          "name": "stdout",
          "text": [
            "Training set count: 38449, Test set count: 9633\n"
          ]
        }
      ]
    },
    {
      "cell_type": "markdown",
      "source": [
        "**Train the Regression Model**"
      ],
      "metadata": {
        "id": "Q_7xBmIW5bOd"
      }
    },
    {
      "cell_type": "code",
      "source": [
        "# Initialize the Linear Regression model\n",
        "lr = LinearRegression(featuresCol=\"features\", labelCol=\"label\", predictionCol=\"prediction\")\n",
        "\n",
        "# Train the model\n",
        "lr_model = lr.fit(train_data)\n",
        "\n",
        "# Display the coefficients and intercept\n",
        "print(\"Linear Regression Model Coefficients:\", lr_model.coefficients)\n",
        "print(\"Linear Regression Model Intercept:\", lr_model.intercept)\n"
      ],
      "metadata": {
        "colab": {
          "base_uri": "https://localhost:8080/"
        },
        "id": "TfJBusgK5b_7",
        "outputId": "44e6d843-d093-4b33-803f-370d204644b6"
      },
      "execution_count": 29,
      "outputs": [
        {
          "output_type": "stream",
          "name": "stdout",
          "text": [
            "Linear Regression Model Coefficients: [2.963624863034061,0.013020308902665806,0.0019904243473993282]\n",
            "Linear Regression Model Intercept: 3.8056369247435313\n"
          ]
        }
      ]
    },
    {
      "cell_type": "markdown",
      "source": [
        "**Evaluate the Model**"
      ],
      "metadata": {
        "id": "B9vNcllN5ear"
      }
    },
    {
      "cell_type": "code",
      "source": [
        "# Make predictions on the test set\n",
        "predictions = lr_model.transform(test_data)\n",
        "\n",
        "# Display the first few predictions\n",
        "print(\"Sample predictions:\")\n",
        "predictions.select(\"features\", \"label\", \"prediction\").show(5)\n",
        "\n",
        "# Evaluate the model using RMSE and R2 metrics\n",
        "from pyspark.ml.evaluation import RegressionEvaluator\n",
        "\n",
        "evaluator = RegressionEvaluator(labelCol=\"label\", predictionCol=\"prediction\", metricName=\"rmse\")\n",
        "rmse = evaluator.evaluate(predictions)\n",
        "r2 = evaluator.evaluate(predictions, {evaluator.metricName: \"r2\"})\n",
        "\n",
        "print(f\"Root Mean Squared Error (RMSE): {rmse}\")\n",
        "print(f\"R2 Score: {r2}\")\n"
      ],
      "metadata": {
        "colab": {
          "base_uri": "https://localhost:8080/"
        },
        "id": "VN_HGFGT5fHt",
        "outputId": "cfb2333f-0acc-48dd-fd13-b944c2bbc232"
      },
      "execution_count": 30,
      "outputs": [
        {
          "output_type": "stream",
          "name": "stdout",
          "text": [
            "Sample predictions:\n",
            "+----------------+-----+-----------------+\n",
            "|        features|label|       prediction|\n",
            "+----------------+-----+-----------------+\n",
            "| [0.01,2.0,25.0]| 20.0|3.911074399864187|\n",
            "| [0.01,7.0,75.0]|  2.5|4.075697161747482|\n",
            "|[0.01,7.0,119.0]|  2.5|4.163275833033053|\n",
            "|[0.01,8.0,152.0]|  2.5|4.241980145399896|\n",
            "| [0.01,9.0,95.0]| 20.0|  4.1415462665008|\n",
            "+----------------+-----+-----------------+\n",
            "only showing top 5 rows\n",
            "\n",
            "Root Mean Squared Error (RMSE): 4.186814366399374\n",
            "R2 Score: 0.9155126620423848\n"
          ]
        }
      ]
    },
    {
      "cell_type": "markdown",
      "source": [
        "# **Clustering**"
      ],
      "metadata": {
        "id": "_Zx3jTSX5hiQ"
      }
    },
    {
      "cell_type": "markdown",
      "source": [
        "**Prepare Data for Clustering**"
      ],
      "metadata": {
        "id": "gMWuDoQD5jZN"
      }
    },
    {
      "cell_type": "code",
      "source": [
        "from pyspark.ml.clustering import KMeans\n",
        "\n",
        "# Select relevant columns (PULocationID and trip_distance) for clustering\n",
        "clustering_data = df.select(\"PULocationID\", \"trip_distance\").dropna()\n",
        "\n",
        "# Combine features into a single vector column\n",
        "vector_assembler = VectorAssembler(inputCols=[\"PULocationID\", \"trip_distance\"], outputCol=\"features\")\n",
        "clustering_data = vector_assembler.transform(clustering_data)\n",
        "\n",
        "# Display the first few rows of the clustering dataset\n",
        "print(\"First few rows of the clustering dataset:\")\n",
        "clustering_data.show(5)\n"
      ],
      "metadata": {
        "colab": {
          "base_uri": "https://localhost:8080/"
        },
        "id": "-Q-9S8M05laf",
        "outputId": "007cc491-1e34-4385-d60c-c6045d632eb8"
      },
      "execution_count": 31,
      "outputs": [
        {
          "output_type": "stream",
          "name": "stdout",
          "text": [
            "First few rows of the clustering dataset:\n",
            "+------------+-------------+-------------+\n",
            "|PULocationID|trip_distance|     features|\n",
            "+------------+-------------+-------------+\n",
            "|          74|          1.2|   [74.0,1.2]|\n",
            "|         116|        13.69|[116.0,13.69]|\n",
            "|          97|         0.95|  [97.0,0.95]|\n",
            "|          74|         1.24|  [74.0,1.24]|\n",
            "|          42|          1.1|   [42.0,1.1]|\n",
            "+------------+-------------+-------------+\n",
            "only showing top 5 rows\n",
            "\n"
          ]
        }
      ]
    },
    {
      "cell_type": "markdown",
      "source": [
        "**Train the K-Means Model**"
      ],
      "metadata": {
        "id": "xh1oUHXr5nJW"
      }
    },
    {
      "cell_type": "code",
      "source": [
        "# Initialize the K-Means model with 5 clusters\n",
        "kmeans = KMeans(featuresCol=\"features\", predictionCol=\"cluster\", k=5, seed=42)\n",
        "\n",
        "# Train the model\n",
        "kmeans_model = kmeans.fit(clustering_data)\n",
        "\n",
        "# Display the cluster centers\n",
        "print(\"Cluster Centers:\")\n",
        "for center in kmeans_model.clusterCenters():\n",
        "    print(center)\n"
      ],
      "metadata": {
        "colab": {
          "base_uri": "https://localhost:8080/"
        },
        "id": "DhkoOc7x5oKD",
        "outputId": "8f0f21ac-b8f4-4c94-c086-394ec47d2b3e"
      },
      "execution_count": 32,
      "outputs": [
        {
          "output_type": "stream",
          "name": "stdout",
          "text": [
            "Cluster Centers:\n",
            "[35.63347868  3.451401  ]\n",
            "[172.21419952   4.21521319]\n",
            "[77.63682659  2.99587063]\n",
            "[126.36315348   5.14488957]\n",
            "[241.48309889   5.71700399]\n"
          ]
        }
      ]
    },
    {
      "cell_type": "markdown",
      "source": [
        "**Assign Clusters**"
      ],
      "metadata": {
        "id": "Os_n3Uzc5qU-"
      }
    },
    {
      "cell_type": "code",
      "source": [
        "# Make predictions (assign clusters to each row)\n",
        "clustered_data = kmeans_model.transform(clustering_data)\n",
        "\n",
        "# Display the first few rows with cluster assignments\n",
        "print(\"Cluster assignments:\")\n",
        "clustered_data.select(\"PULocationID\", \"trip_distance\", \"cluster\").show(10)\n"
      ],
      "metadata": {
        "colab": {
          "base_uri": "https://localhost:8080/"
        },
        "id": "y7LL6ngV5rnK",
        "outputId": "83900de8-0dfd-47c2-a54a-091df1a7910f"
      },
      "execution_count": 33,
      "outputs": [
        {
          "output_type": "stream",
          "name": "stdout",
          "text": [
            "Cluster assignments:\n",
            "+------------+-------------+-------+\n",
            "|PULocationID|trip_distance|cluster|\n",
            "+------------+-------------+-------+\n",
            "|          74|          1.2|      2|\n",
            "|         116|        13.69|      3|\n",
            "|          97|         0.95|      2|\n",
            "|          74|         1.24|      2|\n",
            "|          42|          1.1|      0|\n",
            "|          24|          1.9|      0|\n",
            "|          82|         0.66|      2|\n",
            "|          74|         1.72|      2|\n",
            "|          41|         1.37|      0|\n",
            "|          74|         2.14|      2|\n",
            "+------------+-------------+-------+\n",
            "only showing top 10 rows\n",
            "\n"
          ]
        }
      ]
    }
  ]
}